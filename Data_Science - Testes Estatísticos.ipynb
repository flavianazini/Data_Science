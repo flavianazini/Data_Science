{
  "nbformat": 4,
  "nbformat_minor": 0,
  "metadata": {
    "colab": {
      "provenance": [],
      "collapsed_sections": [
        "aLNDe0Di7wXW",
        "M7Q36dTLokeM",
        "n19EP8bFvG4T"
      ]
    },
    "kernelspec": {
      "name": "python3",
      "display_name": "Python 3"
    },
    "language_info": {
      "name": "python"
    }
  },
  "cells": [
    {
      "cell_type": "markdown",
      "source": [
        "# Aula 01\n",
        "\n",
        "## 0.1 Limpando os dados e visualizando uma distribuição"
      ],
      "metadata": {
        "id": "aLNDe0Di7wXW"
      }
    },
    {
      "cell_type": "code",
      "execution_count": 1,
      "metadata": {
        "colab": {
          "base_uri": "https://localhost:8080/",
          "height": 0
        },
        "id": "63GEJ6Cj4Asq",
        "outputId": "31e19cd8-b87e-4f47-9927-f00fc4c1d722"
      },
      "outputs": [
        {
          "output_type": "execute_result",
          "data": {
            "text/plain": [
              "      budget                                             genres  \\\n",
              "0  237000000  [{\"id\": 28, \"name\": \"Action\"}, {\"id\": 12, \"nam...   \n",
              "1  300000000  [{\"id\": 12, \"name\": \"Adventure\"}, {\"id\": 14, \"...   \n",
              "2  245000000  [{\"id\": 28, \"name\": \"Action\"}, {\"id\": 12, \"nam...   \n",
              "3  250000000  [{\"id\": 28, \"name\": \"Action\"}, {\"id\": 80, \"nam...   \n",
              "4  260000000  [{\"id\": 28, \"name\": \"Action\"}, {\"id\": 12, \"nam...   \n",
              "\n",
              "                                       homepage      id  \\\n",
              "0                   http://www.avatarmovie.com/   19995   \n",
              "1  http://disney.go.com/disneypictures/pirates/     285   \n",
              "2   http://www.sonypictures.com/movies/spectre/  206647   \n",
              "3            http://www.thedarkknightrises.com/   49026   \n",
              "4          http://movies.disney.com/john-carter   49529   \n",
              "\n",
              "                                            keywords original_language  \\\n",
              "0  [{\"id\": 1463, \"name\": \"culture clash\"}, {\"id\":...                en   \n",
              "1  [{\"id\": 270, \"name\": \"ocean\"}, {\"id\": 726, \"na...                en   \n",
              "2  [{\"id\": 470, \"name\": \"spy\"}, {\"id\": 818, \"name...                en   \n",
              "3  [{\"id\": 849, \"name\": \"dc comics\"}, {\"id\": 853,...                en   \n",
              "4  [{\"id\": 818, \"name\": \"based on novel\"}, {\"id\":...                en   \n",
              "\n",
              "                             original_title  \\\n",
              "0                                    Avatar   \n",
              "1  Pirates of the Caribbean: At World's End   \n",
              "2                                   Spectre   \n",
              "3                     The Dark Knight Rises   \n",
              "4                               John Carter   \n",
              "\n",
              "                                            overview  popularity  \\\n",
              "0  In the 22nd century, a paraplegic Marine is di...  150.437577   \n",
              "1  Captain Barbossa, long believed to be dead, ha...  139.082615   \n",
              "2  A cryptic message from Bond’s past sends him o...  107.376788   \n",
              "3  Following the death of District Attorney Harve...  112.312950   \n",
              "4  John Carter is a war-weary, former military ca...   43.926995   \n",
              "\n",
              "                                production_companies  \\\n",
              "0  [{\"name\": \"Ingenious Film Partners\", \"id\": 289...   \n",
              "1  [{\"name\": \"Walt Disney Pictures\", \"id\": 2}, {\"...   \n",
              "2  [{\"name\": \"Columbia Pictures\", \"id\": 5}, {\"nam...   \n",
              "3  [{\"name\": \"Legendary Pictures\", \"id\": 923}, {\"...   \n",
              "4        [{\"name\": \"Walt Disney Pictures\", \"id\": 2}]   \n",
              "\n",
              "                                production_countries release_date     revenue  \\\n",
              "0  [{\"iso_3166_1\": \"US\", \"name\": \"United States o...   2009-12-10  2787965087   \n",
              "1  [{\"iso_3166_1\": \"US\", \"name\": \"United States o...   2007-05-19   961000000   \n",
              "2  [{\"iso_3166_1\": \"GB\", \"name\": \"United Kingdom\"...   2015-10-26   880674609   \n",
              "3  [{\"iso_3166_1\": \"US\", \"name\": \"United States o...   2012-07-16  1084939099   \n",
              "4  [{\"iso_3166_1\": \"US\", \"name\": \"United States o...   2012-03-07   284139100   \n",
              "\n",
              "   runtime                                   spoken_languages    status  \\\n",
              "0    162.0  [{\"iso_639_1\": \"en\", \"name\": \"English\"}, {\"iso...  Released   \n",
              "1    169.0           [{\"iso_639_1\": \"en\", \"name\": \"English\"}]  Released   \n",
              "2    148.0  [{\"iso_639_1\": \"fr\", \"name\": \"Fran\\u00e7ais\"},...  Released   \n",
              "3    165.0           [{\"iso_639_1\": \"en\", \"name\": \"English\"}]  Released   \n",
              "4    132.0           [{\"iso_639_1\": \"en\", \"name\": \"English\"}]  Released   \n",
              "\n",
              "                                          tagline  \\\n",
              "0                     Enter the World of Pandora.   \n",
              "1  At the end of the world, the adventure begins.   \n",
              "2                           A Plan No One Escapes   \n",
              "3                                 The Legend Ends   \n",
              "4            Lost in our world, found in another.   \n",
              "\n",
              "                                      title  vote_average  vote_count  \n",
              "0                                    Avatar           7.2       11800  \n",
              "1  Pirates of the Caribbean: At World's End           6.9        4500  \n",
              "2                                   Spectre           6.3        4466  \n",
              "3                     The Dark Knight Rises           7.6        9106  \n",
              "4                               John Carter           6.1        2124  "
            ],
            "text/html": [
              "\n",
              "  <div id=\"df-50deaa9b-c84a-40bd-9ee2-7085bd8ccfe4\">\n",
              "    <div class=\"colab-df-container\">\n",
              "      <div>\n",
              "<style scoped>\n",
              "    .dataframe tbody tr th:only-of-type {\n",
              "        vertical-align: middle;\n",
              "    }\n",
              "\n",
              "    .dataframe tbody tr th {\n",
              "        vertical-align: top;\n",
              "    }\n",
              "\n",
              "    .dataframe thead th {\n",
              "        text-align: right;\n",
              "    }\n",
              "</style>\n",
              "<table border=\"1\" class=\"dataframe\">\n",
              "  <thead>\n",
              "    <tr style=\"text-align: right;\">\n",
              "      <th></th>\n",
              "      <th>budget</th>\n",
              "      <th>genres</th>\n",
              "      <th>homepage</th>\n",
              "      <th>id</th>\n",
              "      <th>keywords</th>\n",
              "      <th>original_language</th>\n",
              "      <th>original_title</th>\n",
              "      <th>overview</th>\n",
              "      <th>popularity</th>\n",
              "      <th>production_companies</th>\n",
              "      <th>production_countries</th>\n",
              "      <th>release_date</th>\n",
              "      <th>revenue</th>\n",
              "      <th>runtime</th>\n",
              "      <th>spoken_languages</th>\n",
              "      <th>status</th>\n",
              "      <th>tagline</th>\n",
              "      <th>title</th>\n",
              "      <th>vote_average</th>\n",
              "      <th>vote_count</th>\n",
              "    </tr>\n",
              "  </thead>\n",
              "  <tbody>\n",
              "    <tr>\n",
              "      <th>0</th>\n",
              "      <td>237000000</td>\n",
              "      <td>[{\"id\": 28, \"name\": \"Action\"}, {\"id\": 12, \"nam...</td>\n",
              "      <td>http://www.avatarmovie.com/</td>\n",
              "      <td>19995</td>\n",
              "      <td>[{\"id\": 1463, \"name\": \"culture clash\"}, {\"id\":...</td>\n",
              "      <td>en</td>\n",
              "      <td>Avatar</td>\n",
              "      <td>In the 22nd century, a paraplegic Marine is di...</td>\n",
              "      <td>150.437577</td>\n",
              "      <td>[{\"name\": \"Ingenious Film Partners\", \"id\": 289...</td>\n",
              "      <td>[{\"iso_3166_1\": \"US\", \"name\": \"United States o...</td>\n",
              "      <td>2009-12-10</td>\n",
              "      <td>2787965087</td>\n",
              "      <td>162.0</td>\n",
              "      <td>[{\"iso_639_1\": \"en\", \"name\": \"English\"}, {\"iso...</td>\n",
              "      <td>Released</td>\n",
              "      <td>Enter the World of Pandora.</td>\n",
              "      <td>Avatar</td>\n",
              "      <td>7.2</td>\n",
              "      <td>11800</td>\n",
              "    </tr>\n",
              "    <tr>\n",
              "      <th>1</th>\n",
              "      <td>300000000</td>\n",
              "      <td>[{\"id\": 12, \"name\": \"Adventure\"}, {\"id\": 14, \"...</td>\n",
              "      <td>http://disney.go.com/disneypictures/pirates/</td>\n",
              "      <td>285</td>\n",
              "      <td>[{\"id\": 270, \"name\": \"ocean\"}, {\"id\": 726, \"na...</td>\n",
              "      <td>en</td>\n",
              "      <td>Pirates of the Caribbean: At World's End</td>\n",
              "      <td>Captain Barbossa, long believed to be dead, ha...</td>\n",
              "      <td>139.082615</td>\n",
              "      <td>[{\"name\": \"Walt Disney Pictures\", \"id\": 2}, {\"...</td>\n",
              "      <td>[{\"iso_3166_1\": \"US\", \"name\": \"United States o...</td>\n",
              "      <td>2007-05-19</td>\n",
              "      <td>961000000</td>\n",
              "      <td>169.0</td>\n",
              "      <td>[{\"iso_639_1\": \"en\", \"name\": \"English\"}]</td>\n",
              "      <td>Released</td>\n",
              "      <td>At the end of the world, the adventure begins.</td>\n",
              "      <td>Pirates of the Caribbean: At World's End</td>\n",
              "      <td>6.9</td>\n",
              "      <td>4500</td>\n",
              "    </tr>\n",
              "    <tr>\n",
              "      <th>2</th>\n",
              "      <td>245000000</td>\n",
              "      <td>[{\"id\": 28, \"name\": \"Action\"}, {\"id\": 12, \"nam...</td>\n",
              "      <td>http://www.sonypictures.com/movies/spectre/</td>\n",
              "      <td>206647</td>\n",
              "      <td>[{\"id\": 470, \"name\": \"spy\"}, {\"id\": 818, \"name...</td>\n",
              "      <td>en</td>\n",
              "      <td>Spectre</td>\n",
              "      <td>A cryptic message from Bond’s past sends him o...</td>\n",
              "      <td>107.376788</td>\n",
              "      <td>[{\"name\": \"Columbia Pictures\", \"id\": 5}, {\"nam...</td>\n",
              "      <td>[{\"iso_3166_1\": \"GB\", \"name\": \"United Kingdom\"...</td>\n",
              "      <td>2015-10-26</td>\n",
              "      <td>880674609</td>\n",
              "      <td>148.0</td>\n",
              "      <td>[{\"iso_639_1\": \"fr\", \"name\": \"Fran\\u00e7ais\"},...</td>\n",
              "      <td>Released</td>\n",
              "      <td>A Plan No One Escapes</td>\n",
              "      <td>Spectre</td>\n",
              "      <td>6.3</td>\n",
              "      <td>4466</td>\n",
              "    </tr>\n",
              "    <tr>\n",
              "      <th>3</th>\n",
              "      <td>250000000</td>\n",
              "      <td>[{\"id\": 28, \"name\": \"Action\"}, {\"id\": 80, \"nam...</td>\n",
              "      <td>http://www.thedarkknightrises.com/</td>\n",
              "      <td>49026</td>\n",
              "      <td>[{\"id\": 849, \"name\": \"dc comics\"}, {\"id\": 853,...</td>\n",
              "      <td>en</td>\n",
              "      <td>The Dark Knight Rises</td>\n",
              "      <td>Following the death of District Attorney Harve...</td>\n",
              "      <td>112.312950</td>\n",
              "      <td>[{\"name\": \"Legendary Pictures\", \"id\": 923}, {\"...</td>\n",
              "      <td>[{\"iso_3166_1\": \"US\", \"name\": \"United States o...</td>\n",
              "      <td>2012-07-16</td>\n",
              "      <td>1084939099</td>\n",
              "      <td>165.0</td>\n",
              "      <td>[{\"iso_639_1\": \"en\", \"name\": \"English\"}]</td>\n",
              "      <td>Released</td>\n",
              "      <td>The Legend Ends</td>\n",
              "      <td>The Dark Knight Rises</td>\n",
              "      <td>7.6</td>\n",
              "      <td>9106</td>\n",
              "    </tr>\n",
              "    <tr>\n",
              "      <th>4</th>\n",
              "      <td>260000000</td>\n",
              "      <td>[{\"id\": 28, \"name\": \"Action\"}, {\"id\": 12, \"nam...</td>\n",
              "      <td>http://movies.disney.com/john-carter</td>\n",
              "      <td>49529</td>\n",
              "      <td>[{\"id\": 818, \"name\": \"based on novel\"}, {\"id\":...</td>\n",
              "      <td>en</td>\n",
              "      <td>John Carter</td>\n",
              "      <td>John Carter is a war-weary, former military ca...</td>\n",
              "      <td>43.926995</td>\n",
              "      <td>[{\"name\": \"Walt Disney Pictures\", \"id\": 2}]</td>\n",
              "      <td>[{\"iso_3166_1\": \"US\", \"name\": \"United States o...</td>\n",
              "      <td>2012-03-07</td>\n",
              "      <td>284139100</td>\n",
              "      <td>132.0</td>\n",
              "      <td>[{\"iso_639_1\": \"en\", \"name\": \"English\"}]</td>\n",
              "      <td>Released</td>\n",
              "      <td>Lost in our world, found in another.</td>\n",
              "      <td>John Carter</td>\n",
              "      <td>6.1</td>\n",
              "      <td>2124</td>\n",
              "    </tr>\n",
              "  </tbody>\n",
              "</table>\n",
              "</div>\n",
              "      <button class=\"colab-df-convert\" onclick=\"convertToInteractive('df-50deaa9b-c84a-40bd-9ee2-7085bd8ccfe4')\"\n",
              "              title=\"Convert this dataframe to an interactive table.\"\n",
              "              style=\"display:none;\">\n",
              "        \n",
              "  <svg xmlns=\"http://www.w3.org/2000/svg\" height=\"24px\"viewBox=\"0 0 24 24\"\n",
              "       width=\"24px\">\n",
              "    <path d=\"M0 0h24v24H0V0z\" fill=\"none\"/>\n",
              "    <path d=\"M18.56 5.44l.94 2.06.94-2.06 2.06-.94-2.06-.94-.94-2.06-.94 2.06-2.06.94zm-11 1L8.5 8.5l.94-2.06 2.06-.94-2.06-.94L8.5 2.5l-.94 2.06-2.06.94zm10 10l.94 2.06.94-2.06 2.06-.94-2.06-.94-.94-2.06-.94 2.06-2.06.94z\"/><path d=\"M17.41 7.96l-1.37-1.37c-.4-.4-.92-.59-1.43-.59-.52 0-1.04.2-1.43.59L10.3 9.45l-7.72 7.72c-.78.78-.78 2.05 0 2.83L4 21.41c.39.39.9.59 1.41.59.51 0 1.02-.2 1.41-.59l7.78-7.78 2.81-2.81c.8-.78.8-2.07 0-2.86zM5.41 20L4 18.59l7.72-7.72 1.47 1.35L5.41 20z\"/>\n",
              "  </svg>\n",
              "      </button>\n",
              "      \n",
              "  <style>\n",
              "    .colab-df-container {\n",
              "      display:flex;\n",
              "      flex-wrap:wrap;\n",
              "      gap: 12px;\n",
              "    }\n",
              "\n",
              "    .colab-df-convert {\n",
              "      background-color: #E8F0FE;\n",
              "      border: none;\n",
              "      border-radius: 50%;\n",
              "      cursor: pointer;\n",
              "      display: none;\n",
              "      fill: #1967D2;\n",
              "      height: 32px;\n",
              "      padding: 0 0 0 0;\n",
              "      width: 32px;\n",
              "    }\n",
              "\n",
              "    .colab-df-convert:hover {\n",
              "      background-color: #E2EBFA;\n",
              "      box-shadow: 0px 1px 2px rgba(60, 64, 67, 0.3), 0px 1px 3px 1px rgba(60, 64, 67, 0.15);\n",
              "      fill: #174EA6;\n",
              "    }\n",
              "\n",
              "    [theme=dark] .colab-df-convert {\n",
              "      background-color: #3B4455;\n",
              "      fill: #D2E3FC;\n",
              "    }\n",
              "\n",
              "    [theme=dark] .colab-df-convert:hover {\n",
              "      background-color: #434B5C;\n",
              "      box-shadow: 0px 1px 3px 1px rgba(0, 0, 0, 0.15);\n",
              "      filter: drop-shadow(0px 1px 2px rgba(0, 0, 0, 0.3));\n",
              "      fill: #FFFFFF;\n",
              "    }\n",
              "  </style>\n",
              "\n",
              "      <script>\n",
              "        const buttonEl =\n",
              "          document.querySelector('#df-50deaa9b-c84a-40bd-9ee2-7085bd8ccfe4 button.colab-df-convert');\n",
              "        buttonEl.style.display =\n",
              "          google.colab.kernel.accessAllowed ? 'block' : 'none';\n",
              "\n",
              "        async function convertToInteractive(key) {\n",
              "          const element = document.querySelector('#df-50deaa9b-c84a-40bd-9ee2-7085bd8ccfe4');\n",
              "          const dataTable =\n",
              "            await google.colab.kernel.invokeFunction('convertToInteractive',\n",
              "                                                     [key], {});\n",
              "          if (!dataTable) return;\n",
              "\n",
              "          const docLinkHtml = 'Like what you see? Visit the ' +\n",
              "            '<a target=\"_blank\" href=https://colab.research.google.com/notebooks/data_table.ipynb>data table notebook</a>'\n",
              "            + ' to learn more about interactive tables.';\n",
              "          element.innerHTML = '';\n",
              "          dataTable['output_type'] = 'display_data';\n",
              "          await google.colab.output.renderOutput(dataTable, element);\n",
              "          const docLink = document.createElement('div');\n",
              "          docLink.innerHTML = docLinkHtml;\n",
              "          element.appendChild(docLink);\n",
              "        }\n",
              "      </script>\n",
              "    </div>\n",
              "  </div>\n",
              "  "
            ]
          },
          "metadata": {},
          "execution_count": 1
        }
      ],
      "source": [
        "import pandas as pd\n",
        "\n",
        "tmdb = pd.read_csv('tmdb_5000_movies.csv')\n",
        "tmdb.head()"
      ]
    },
    {
      "cell_type": "code",
      "source": [
        "tmdb.describe()"
      ],
      "metadata": {
        "colab": {
          "base_uri": "https://localhost:8080/",
          "height": 0
        },
        "id": "3dS_1GTu4UKC",
        "outputId": "e7888d14-d577-4e8f-c939-a1dc960b17a8"
      },
      "execution_count": 2,
      "outputs": [
        {
          "output_type": "execute_result",
          "data": {
            "text/plain": [
              "             budget             id   popularity       revenue      runtime  \\\n",
              "count  4.803000e+03    4803.000000  4803.000000  4.803000e+03  4801.000000   \n",
              "mean   2.904504e+07   57165.484281    21.492301  8.226064e+07   106.875859   \n",
              "std    4.072239e+07   88694.614033    31.816650  1.628571e+08    22.611935   \n",
              "min    0.000000e+00       5.000000     0.000000  0.000000e+00     0.000000   \n",
              "25%    7.900000e+05    9014.500000     4.668070  0.000000e+00    94.000000   \n",
              "50%    1.500000e+07   14629.000000    12.921594  1.917000e+07   103.000000   \n",
              "75%    4.000000e+07   58610.500000    28.313505  9.291719e+07   118.000000   \n",
              "max    3.800000e+08  459488.000000   875.581305  2.787965e+09   338.000000   \n",
              "\n",
              "       vote_average    vote_count  \n",
              "count   4803.000000   4803.000000  \n",
              "mean       6.092172    690.217989  \n",
              "std        1.194612   1234.585891  \n",
              "min        0.000000      0.000000  \n",
              "25%        5.600000     54.000000  \n",
              "50%        6.200000    235.000000  \n",
              "75%        6.800000    737.000000  \n",
              "max       10.000000  13752.000000  "
            ],
            "text/html": [
              "\n",
              "  <div id=\"df-89482103-9203-4e34-8159-0c6849809551\">\n",
              "    <div class=\"colab-df-container\">\n",
              "      <div>\n",
              "<style scoped>\n",
              "    .dataframe tbody tr th:only-of-type {\n",
              "        vertical-align: middle;\n",
              "    }\n",
              "\n",
              "    .dataframe tbody tr th {\n",
              "        vertical-align: top;\n",
              "    }\n",
              "\n",
              "    .dataframe thead th {\n",
              "        text-align: right;\n",
              "    }\n",
              "</style>\n",
              "<table border=\"1\" class=\"dataframe\">\n",
              "  <thead>\n",
              "    <tr style=\"text-align: right;\">\n",
              "      <th></th>\n",
              "      <th>budget</th>\n",
              "      <th>id</th>\n",
              "      <th>popularity</th>\n",
              "      <th>revenue</th>\n",
              "      <th>runtime</th>\n",
              "      <th>vote_average</th>\n",
              "      <th>vote_count</th>\n",
              "    </tr>\n",
              "  </thead>\n",
              "  <tbody>\n",
              "    <tr>\n",
              "      <th>count</th>\n",
              "      <td>4.803000e+03</td>\n",
              "      <td>4803.000000</td>\n",
              "      <td>4803.000000</td>\n",
              "      <td>4.803000e+03</td>\n",
              "      <td>4801.000000</td>\n",
              "      <td>4803.000000</td>\n",
              "      <td>4803.000000</td>\n",
              "    </tr>\n",
              "    <tr>\n",
              "      <th>mean</th>\n",
              "      <td>2.904504e+07</td>\n",
              "      <td>57165.484281</td>\n",
              "      <td>21.492301</td>\n",
              "      <td>8.226064e+07</td>\n",
              "      <td>106.875859</td>\n",
              "      <td>6.092172</td>\n",
              "      <td>690.217989</td>\n",
              "    </tr>\n",
              "    <tr>\n",
              "      <th>std</th>\n",
              "      <td>4.072239e+07</td>\n",
              "      <td>88694.614033</td>\n",
              "      <td>31.816650</td>\n",
              "      <td>1.628571e+08</td>\n",
              "      <td>22.611935</td>\n",
              "      <td>1.194612</td>\n",
              "      <td>1234.585891</td>\n",
              "    </tr>\n",
              "    <tr>\n",
              "      <th>min</th>\n",
              "      <td>0.000000e+00</td>\n",
              "      <td>5.000000</td>\n",
              "      <td>0.000000</td>\n",
              "      <td>0.000000e+00</td>\n",
              "      <td>0.000000</td>\n",
              "      <td>0.000000</td>\n",
              "      <td>0.000000</td>\n",
              "    </tr>\n",
              "    <tr>\n",
              "      <th>25%</th>\n",
              "      <td>7.900000e+05</td>\n",
              "      <td>9014.500000</td>\n",
              "      <td>4.668070</td>\n",
              "      <td>0.000000e+00</td>\n",
              "      <td>94.000000</td>\n",
              "      <td>5.600000</td>\n",
              "      <td>54.000000</td>\n",
              "    </tr>\n",
              "    <tr>\n",
              "      <th>50%</th>\n",
              "      <td>1.500000e+07</td>\n",
              "      <td>14629.000000</td>\n",
              "      <td>12.921594</td>\n",
              "      <td>1.917000e+07</td>\n",
              "      <td>103.000000</td>\n",
              "      <td>6.200000</td>\n",
              "      <td>235.000000</td>\n",
              "    </tr>\n",
              "    <tr>\n",
              "      <th>75%</th>\n",
              "      <td>4.000000e+07</td>\n",
              "      <td>58610.500000</td>\n",
              "      <td>28.313505</td>\n",
              "      <td>9.291719e+07</td>\n",
              "      <td>118.000000</td>\n",
              "      <td>6.800000</td>\n",
              "      <td>737.000000</td>\n",
              "    </tr>\n",
              "    <tr>\n",
              "      <th>max</th>\n",
              "      <td>3.800000e+08</td>\n",
              "      <td>459488.000000</td>\n",
              "      <td>875.581305</td>\n",
              "      <td>2.787965e+09</td>\n",
              "      <td>338.000000</td>\n",
              "      <td>10.000000</td>\n",
              "      <td>13752.000000</td>\n",
              "    </tr>\n",
              "  </tbody>\n",
              "</table>\n",
              "</div>\n",
              "      <button class=\"colab-df-convert\" onclick=\"convertToInteractive('df-89482103-9203-4e34-8159-0c6849809551')\"\n",
              "              title=\"Convert this dataframe to an interactive table.\"\n",
              "              style=\"display:none;\">\n",
              "        \n",
              "  <svg xmlns=\"http://www.w3.org/2000/svg\" height=\"24px\"viewBox=\"0 0 24 24\"\n",
              "       width=\"24px\">\n",
              "    <path d=\"M0 0h24v24H0V0z\" fill=\"none\"/>\n",
              "    <path d=\"M18.56 5.44l.94 2.06.94-2.06 2.06-.94-2.06-.94-.94-2.06-.94 2.06-2.06.94zm-11 1L8.5 8.5l.94-2.06 2.06-.94-2.06-.94L8.5 2.5l-.94 2.06-2.06.94zm10 10l.94 2.06.94-2.06 2.06-.94-2.06-.94-.94-2.06-.94 2.06-2.06.94z\"/><path d=\"M17.41 7.96l-1.37-1.37c-.4-.4-.92-.59-1.43-.59-.52 0-1.04.2-1.43.59L10.3 9.45l-7.72 7.72c-.78.78-.78 2.05 0 2.83L4 21.41c.39.39.9.59 1.41.59.51 0 1.02-.2 1.41-.59l7.78-7.78 2.81-2.81c.8-.78.8-2.07 0-2.86zM5.41 20L4 18.59l7.72-7.72 1.47 1.35L5.41 20z\"/>\n",
              "  </svg>\n",
              "      </button>\n",
              "      \n",
              "  <style>\n",
              "    .colab-df-container {\n",
              "      display:flex;\n",
              "      flex-wrap:wrap;\n",
              "      gap: 12px;\n",
              "    }\n",
              "\n",
              "    .colab-df-convert {\n",
              "      background-color: #E8F0FE;\n",
              "      border: none;\n",
              "      border-radius: 50%;\n",
              "      cursor: pointer;\n",
              "      display: none;\n",
              "      fill: #1967D2;\n",
              "      height: 32px;\n",
              "      padding: 0 0 0 0;\n",
              "      width: 32px;\n",
              "    }\n",
              "\n",
              "    .colab-df-convert:hover {\n",
              "      background-color: #E2EBFA;\n",
              "      box-shadow: 0px 1px 2px rgba(60, 64, 67, 0.3), 0px 1px 3px 1px rgba(60, 64, 67, 0.15);\n",
              "      fill: #174EA6;\n",
              "    }\n",
              "\n",
              "    [theme=dark] .colab-df-convert {\n",
              "      background-color: #3B4455;\n",
              "      fill: #D2E3FC;\n",
              "    }\n",
              "\n",
              "    [theme=dark] .colab-df-convert:hover {\n",
              "      background-color: #434B5C;\n",
              "      box-shadow: 0px 1px 3px 1px rgba(0, 0, 0, 0.15);\n",
              "      filter: drop-shadow(0px 1px 2px rgba(0, 0, 0, 0.3));\n",
              "      fill: #FFFFFF;\n",
              "    }\n",
              "  </style>\n",
              "\n",
              "      <script>\n",
              "        const buttonEl =\n",
              "          document.querySelector('#df-89482103-9203-4e34-8159-0c6849809551 button.colab-df-convert');\n",
              "        buttonEl.style.display =\n",
              "          google.colab.kernel.accessAllowed ? 'block' : 'none';\n",
              "\n",
              "        async function convertToInteractive(key) {\n",
              "          const element = document.querySelector('#df-89482103-9203-4e34-8159-0c6849809551');\n",
              "          const dataTable =\n",
              "            await google.colab.kernel.invokeFunction('convertToInteractive',\n",
              "                                                     [key], {});\n",
              "          if (!dataTable) return;\n",
              "\n",
              "          const docLinkHtml = 'Like what you see? Visit the ' +\n",
              "            '<a target=\"_blank\" href=https://colab.research.google.com/notebooks/data_table.ipynb>data table notebook</a>'\n",
              "            + ' to learn more about interactive tables.';\n",
              "          element.innerHTML = '';\n",
              "          dataTable['output_type'] = 'display_data';\n",
              "          await google.colab.output.renderOutput(dataTable, element);\n",
              "          const docLink = document.createElement('div');\n",
              "          docLink.innerHTML = docLinkHtml;\n",
              "          element.appendChild(docLink);\n",
              "        }\n",
              "      </script>\n",
              "    </div>\n",
              "  </div>\n",
              "  "
            ]
          },
          "metadata": {},
          "execution_count": 2
        }
      ]
    },
    {
      "cell_type": "code",
      "source": [
        "import seaborn as sns"
      ],
      "metadata": {
        "id": "PJSttsyu43qQ"
      },
      "execution_count": 3,
      "outputs": []
    },
    {
      "cell_type": "code",
      "source": [
        "sns.distplot(tmdb.vote_average)"
      ],
      "metadata": {
        "colab": {
          "base_uri": "https://localhost:8080/",
          "height": 0
        },
        "id": "k3LdCmyz5XKg",
        "outputId": "e8715317-0c60-4de1-eef4-672d70cd63cd"
      },
      "execution_count": 4,
      "outputs": [
        {
          "output_type": "stream",
          "name": "stderr",
          "text": [
            "/usr/local/lib/python3.8/dist-packages/seaborn/distributions.py:2619: FutureWarning: `distplot` is a deprecated function and will be removed in a future version. Please adapt your code to use either `displot` (a figure-level function with similar flexibility) or `histplot` (an axes-level function for histograms).\n",
            "  warnings.warn(msg, FutureWarning)\n"
          ]
        },
        {
          "output_type": "execute_result",
          "data": {
            "text/plain": [
              "<AxesSubplot:xlabel='vote_average', ylabel='Density'>"
            ]
          },
          "metadata": {},
          "execution_count": 4
        },
        {
          "output_type": "display_data",
          "data": {
            "text/plain": [
              "<Figure size 432x288 with 1 Axes>"
            ],
            "image/png": "[encoded data removed]"
          },
          "metadata": {
            "needs_background": "light"
          }
        }
      ]
    },
    {
      "cell_type": "code",
      "source": [
        "ax = sns.distplot(tmdb.vote_average)\n",
        "ax.set(xlabel = 'Nota média', ylabel = 'Densidade')\n",
        "ax.set_title('Média de votos em filmes no TMDB 5000')"
      ],
      "metadata": {
        "colab": {
          "base_uri": "https://localhost:8080/",
          "height": 0
        },
        "id": "Gv7perAr5cJY",
        "outputId": "e0a28518-cb2b-40f4-b65e-1e753c2eca72"
      },
      "execution_count": 5,
      "outputs": [
        {
          "output_type": "stream",
          "name": "stderr",
          "text": [
            "/usr/local/lib/python3.8/dist-packages/seaborn/distributions.py:2619: FutureWarning: `distplot` is a deprecated function and will be removed in a future version. Please adapt your code to use either `displot` (a figure-level function with similar flexibility) or `histplot` (an axes-level function for histograms).\n",
            "  warnings.warn(msg, FutureWarning)\n"
          ]
        },
        {
          "output_type": "execute_result",
          "data": {
            "text/plain": [
              "Text(0.5, 1.0, 'Média de votos em filmes no TMDB 5000')"
            ]
          },
          "metadata": {},
          "execution_count": 5
        },
        {
          "output_type": "display_data",
          "data": {
            "text/plain": [
              "<Figure size 432x288 with 1 Axes>"
            ],
            "image/png": "[encoded data removed]"
          },
          "metadata": {
            "needs_background": "light"
          }
        }
      ]
    },
    {
      "cell_type": "code",
      "source": [
        "ax = sns.distplot(tmdb.vote_average, norm_hist = False, kde = False)\n",
        "ax.set(xlabel = 'Nota média', ylabel = 'Frequência')\n",
        "ax.set_title('Média de votos em filmes no TMDB 5000')"
      ],
      "metadata": {
        "colab": {
          "base_uri": "https://localhost:8080/",
          "height": 0
        },
        "id": "lqbzj6DT6Len",
        "outputId": "b59f09ae-cab1-4f05-a5c5-2e05d202ddc9"
      },
      "execution_count": 6,
      "outputs": [
        {
          "output_type": "stream",
          "name": "stderr",
          "text": [
            "/usr/local/lib/python3.8/dist-packages/seaborn/distributions.py:2619: FutureWarning: `distplot` is a deprecated function and will be removed in a future version. Please adapt your code to use either `displot` (a figure-level function with similar flexibility) or `histplot` (an axes-level function for histograms).\n",
            "  warnings.warn(msg, FutureWarning)\n"
          ]
        },
        {
          "output_type": "execute_result",
          "data": {
            "text/plain": [
              "Text(0.5, 1.0, 'Média de votos em filmes no TMDB 5000')"
            ]
          },
          "metadata": {},
          "execution_count": 6
        },
        {
          "output_type": "display_data",
          "data": {
            "text/plain": [
              "<Figure size 432x288 with 1 Axes>"
            ],
            "image/png": "[encoded data removed]"
          },
          "metadata": {
            "needs_background": "light"
          }
        }
      ]
    },
    {
      "cell_type": "code",
      "source": [
        "sns.boxplot(tmdb.vote_average)"
      ],
      "metadata": {
        "colab": {
          "base_uri": "https://localhost:8080/",
          "height": 0
        },
        "id": "XGR5xQJ46VOw",
        "outputId": "f97c0de7-231a-4b17-a04a-273f4c0e342b"
      },
      "execution_count": 7,
      "outputs": [
        {
          "output_type": "stream",
          "name": "stderr",
          "text": [
            "/usr/local/lib/python3.8/dist-packages/seaborn/_decorators.py:36: FutureWarning: Pass the following variable as a keyword arg: x. From version 0.12, the only valid positional argument will be `data`, and passing other arguments without an explicit keyword will result in an error or misinterpretation.\n",
            "  warnings.warn(\n"
          ]
        },
        {
          "output_type": "execute_result",
          "data": {
            "text/plain": [
              "<AxesSubplot:xlabel='vote_average'>"
            ]
          },
          "metadata": {},
          "execution_count": 7
        },
        {
          "output_type": "display_data",
          "data": {
            "text/plain": [
              "<Figure size 432x288 with 1 Axes>"
            ],
            "image/png": "[encoded data removed]"
          },
          "metadata": {
            "needs_background": "light"
          }
        }
      ]
    },
    {
      "cell_type": "code",
      "source": [
        "ax = sns.boxplot(tmdb.vote_average)\n",
        "ax.set_title('Distribuição de nota média dos filmes do TMDB 5000')\n",
        "ax.set(xlabel = 'Nota média do filme')"
      ],
      "metadata": {
        "colab": {
          "base_uri": "https://localhost:8080/",
          "height": 0
        },
        "id": "qf1IJqoT63nR",
        "outputId": "5c753912-7540-48bd-fc4c-f280040d658e"
      },
      "execution_count": 8,
      "outputs": [
        {
          "output_type": "stream",
          "name": "stderr",
          "text": [
            "/usr/local/lib/python3.8/dist-packages/seaborn/_decorators.py:36: FutureWarning: Pass the following variable as a keyword arg: x. From version 0.12, the only valid positional argument will be `data`, and passing other arguments without an explicit keyword will result in an error or misinterpretation.\n",
            "  warnings.warn(\n"
          ]
        },
        {
          "output_type": "execute_result",
          "data": {
            "text/plain": [
              "[Text(0.5, 0, 'Nota média do filme')]"
            ]
          },
          "metadata": {},
          "execution_count": 8
        },
        {
          "output_type": "display_data",
          "data": {
            "text/plain": [
              "<Figure size 432x288 with 1 Axes>"
            ],
            "image/png": "[encoded data removed]"
          },
          "metadata": {
            "needs_background": "light"
          }
        }
      ]
    },
    {
      "cell_type": "code",
      "source": [
        "tmdb.query('vote_average == 0').head()"
      ],
      "metadata": {
        "colab": {
          "base_uri": "https://localhost:8080/",
          "height": 0
        },
        "id": "1tgKoFVI7llM",
        "outputId": "2930551f-6edd-42e6-8348-d59547dfe05d"
      },
      "execution_count": 9,
      "outputs": [
        {
          "output_type": "execute_result",
          "data": {
            "text/plain": [
              "       budget                                             genres  \\\n",
              "1464        0  [{\"id\": 18, \"name\": \"Drama\"}, {\"id\": 80, \"name...   \n",
              "3669        0  [{\"id\": 35, \"name\": \"Comedy\"}, {\"id\": 18, \"nam...   \n",
              "3670        0                  [{\"id\": 10751, \"name\": \"Family\"}]   \n",
              "3852        0                      [{\"id\": 18, \"name\": \"Drama\"}]   \n",
              "3855  3500000                [{\"id\": 99, \"name\": \"Documentary\"}]   \n",
              "\n",
              "                           homepage      id  \\\n",
              "1464                            NaN  310706   \n",
              "3669  http://www.romeothemovie.com/  113406   \n",
              "3670                            NaN  447027   \n",
              "3852                            NaN  395766   \n",
              "3855    http://www.timetochoose.com  370662   \n",
              "\n",
              "                                               keywords original_language  \\\n",
              "1464                                                 []                en   \n",
              "3669                                                 []                en   \n",
              "3670                                                 []                en   \n",
              "3852              [{\"id\": 11162, \"name\": \"miniseries\"}]                en   \n",
              "3855  [{\"id\": 2210, \"name\": \"climate change\"}, {\"id\"...                en   \n",
              "\n",
              "            original_title                                           overview  \\\n",
              "1464   Black Water Transit  In this action thriller set in post-Katrina Ne...   \n",
              "3669  Should've Been Romeo  A self-centered, middle-aged pitchman for a po...   \n",
              "3670       Running Forever  After being estranged since her mother's death...   \n",
              "3852            The Secret  The Secret is the story of a real-life double ...   \n",
              "3855        Time to Choose  Academy Award® winning director Charles Fergus...   \n",
              "\n",
              "      popularity                               production_companies  \\\n",
              "1464    0.126738             [{\"name\": \"Capitol Films\", \"id\": 826}]   \n",
              "3669    0.407030       [{\"name\": \"Phillybrook Films\", \"id\": 65147}]   \n",
              "3670    0.028756    [{\"name\": \"New Kingdom Pictures\", \"id\": 41671}]   \n",
              "3852    0.042346                                                 []   \n",
              "3855    1.618138  [{\"name\": \"Representational Pictures\", \"id\": 8...   \n",
              "\n",
              "                                   production_countries release_date  revenue  \\\n",
              "1464  [{\"iso_3166_1\": \"US\", \"name\": \"United States o...   2009-05-13        0   \n",
              "3669  [{\"iso_3166_1\": \"US\", \"name\": \"United States o...   2012-04-28        0   \n",
              "3670  [{\"iso_3166_1\": \"US\", \"name\": \"United States o...   2015-10-27        0   \n",
              "3852                                                 []   2016-04-29        0   \n",
              "3855  [{\"iso_3166_1\": \"US\", \"name\": \"United States o...   2015-09-04        0   \n",
              "\n",
              "      runtime                          spoken_languages    status  \\\n",
              "1464    100.0  [{\"iso_639_1\": \"en\", \"name\": \"English\"}]  Released   \n",
              "3669      0.0  [{\"iso_639_1\": \"en\", \"name\": \"English\"}]  Released   \n",
              "3670     88.0                                        []  Released   \n",
              "3852    200.0                                        []  Released   \n",
              "3855    100.0  [{\"iso_639_1\": \"en\", \"name\": \"English\"}]  Released   \n",
              "\n",
              "                                           tagline                 title  \\\n",
              "1464                                           NaN   Black Water Transit   \n",
              "3669  Even Shakespeare didn't see this one coming.  Should've Been Romeo   \n",
              "3670                                           NaN       Running Forever   \n",
              "3852                                           NaN            The Secret   \n",
              "3855                      Climate change for good.        Time to Choose   \n",
              "\n",
              "      vote_average  vote_count  \n",
              "1464           0.0           0  \n",
              "3669           0.0           0  \n",
              "3670           0.0           0  \n",
              "3852           0.0           0  \n",
              "3855           0.0           0  "
            ],
            "text/html": [
              "\n",
              "  <div id=\"df-d27535dd-cca5-4784-b94e-aeb62c2ee8e9\">\n",
              "    <div class=\"colab-df-container\">\n",
              "      <div>\n",
              "<style scoped>\n",
              "    .dataframe tbody tr th:only-of-type {\n",
              "        vertical-align: middle;\n",
              "    }\n",
              "\n",
              "    .dataframe tbody tr th {\n",
              "        vertical-align: top;\n",
              "    }\n",
              "\n",
              "    .dataframe thead th {\n",
              "        text-align: right;\n",
              "    }\n",
              "</style>\n",
              "<table border=\"1\" class=\"dataframe\">\n",
              "  <thead>\n",
              "    <tr style=\"text-align: right;\">\n",
              "      <th></th>\n",
              "      <th>budget</th>\n",
              "      <th>genres</th>\n",
              "      <th>homepage</th>\n",
              "      <th>id</th>\n",
              "      <th>keywords</th>\n",
              "      <th>original_language</th>\n",
              "      <th>original_title</th>\n",
              "      <th>overview</th>\n",
              "      <th>popularity</th>\n",
              "      <th>production_companies</th>\n",
              "      <th>production_countries</th>\n",
              "      <th>release_date</th>\n",
              "      <th>revenue</th>\n",
              "      <th>runtime</th>\n",
              "      <th>spoken_languages</th>\n",
              "      <th>status</th>\n",
              "      <th>tagline</th>\n",
              "      <th>title</th>\n",
              "      <th>vote_average</th>\n",
              "      <th>vote_count</th>\n",
              "    </tr>\n",
              "  </thead>\n",
              "  <tbody>\n",
              "    <tr>\n",
              "      <th>1464</th>\n",
              "      <td>0</td>\n",
              "      <td>[{\"id\": 18, \"name\": \"Drama\"}, {\"id\": 80, \"name...</td>\n",
              "      <td>NaN</td>\n",
              "      <td>310706</td>\n",
              "      <td>[]</td>\n",
              "      <td>en</td>\n",
              "      <td>Black Water Transit</td>\n",
              "      <td>In this action thriller set in post-Katrina Ne...</td>\n",
              "      <td>0.126738</td>\n",
              "      <td>[{\"name\": \"Capitol Films\", \"id\": 826}]</td>\n",
              "      <td>[{\"iso_3166_1\": \"US\", \"name\": \"United States o...</td>\n",
              "      <td>2009-05-13</td>\n",
              "      <td>0</td>\n",
              "      <td>100.0</td>\n",
              "      <td>[{\"iso_639_1\": \"en\", \"name\": \"English\"}]</td>\n",
              "      <td>Released</td>\n",
              "      <td>NaN</td>\n",
              "      <td>Black Water Transit</td>\n",
              "      <td>0.0</td>\n",
              "      <td>0</td>\n",
              "    </tr>\n",
              "    <tr>\n",
              "      <th>3669</th>\n",
              "      <td>0</td>\n",
              "      <td>[{\"id\": 35, \"name\": \"Comedy\"}, {\"id\": 18, \"nam...</td>\n",
              "      <td>http://www.romeothemovie.com/</td>\n",
              "      <td>113406</td>\n",
              "      <td>[]</td>\n",
              "      <td>en</td>\n",
              "      <td>Should've Been Romeo</td>\n",
              "      <td>A self-centered, middle-aged pitchman for a po...</td>\n",
              "      <td>0.407030</td>\n",
              "      <td>[{\"name\": \"Phillybrook Films\", \"id\": 65147}]</td>\n",
              "      <td>[{\"iso_3166_1\": \"US\", \"name\": \"United States o...</td>\n",
              "      <td>2012-04-28</td>\n",
              "      <td>0</td>\n",
              "      <td>0.0</td>\n",
              "      <td>[{\"iso_639_1\": \"en\", \"name\": \"English\"}]</td>\n",
              "      <td>Released</td>\n",
              "      <td>Even Shakespeare didn't see this one coming.</td>\n",
              "      <td>Should've Been Romeo</td>\n",
              "      <td>0.0</td>\n",
              "      <td>0</td>\n",
              "    </tr>\n",
              "    <tr>\n",
              "      <th>3670</th>\n",
              "      <td>0</td>\n",
              "      <td>[{\"id\": 10751, \"name\": \"Family\"}]</td>\n",
              "      <td>NaN</td>\n",
              "      <td>447027</td>\n",
              "      <td>[]</td>\n",
              "      <td>en</td>\n",
              "      <td>Running Forever</td>\n",
              "      <td>After being estranged since her mother's death...</td>\n",
              "      <td>0.028756</td>\n",
              "      <td>[{\"name\": \"New Kingdom Pictures\", \"id\": 41671}]</td>\n",
              "      <td>[{\"iso_3166_1\": \"US\", \"name\": \"United States o...</td>\n",
              "      <td>2015-10-27</td>\n",
              "      <td>0</td>\n",
              "      <td>88.0</td>\n",
              "      <td>[]</td>\n",
              "      <td>Released</td>\n",
              "      <td>NaN</td>\n",
              "      <td>Running Forever</td>\n",
              "      <td>0.0</td>\n",
              "      <td>0</td>\n",
              "    </tr>\n",
              "    <tr>\n",
              "      <th>3852</th>\n",
              "      <td>0</td>\n",
              "      <td>[{\"id\": 18, \"name\": \"Drama\"}]</td>\n",
              "      <td>NaN</td>\n",
              "      <td>395766</td>\n",
              "      <td>[{\"id\": 11162, \"name\": \"miniseries\"}]</td>\n",
              "      <td>en</td>\n",
              "      <td>The Secret</td>\n",
              "      <td>The Secret is the story of a real-life double ...</td>\n",
              "      <td>0.042346</td>\n",
              "      <td>[]</td>\n",
              "      <td>[]</td>\n",
              "      <td>2016-04-29</td>\n",
              "      <td>0</td>\n",
              "      <td>200.0</td>\n",
              "      <td>[]</td>\n",
              "      <td>Released</td>\n",
              "      <td>NaN</td>\n",
              "      <td>The Secret</td>\n",
              "      <td>0.0</td>\n",
              "      <td>0</td>\n",
              "    </tr>\n",
              "    <tr>\n",
              "      <th>3855</th>\n",
              "      <td>3500000</td>\n",
              "      <td>[{\"id\": 99, \"name\": \"Documentary\"}]</td>\n",
              "      <td>http://www.timetochoose.com</td>\n",
              "      <td>370662</td>\n",
              "      <td>[{\"id\": 2210, \"name\": \"climate change\"}, {\"id\"...</td>\n",
              "      <td>en</td>\n",
              "      <td>Time to Choose</td>\n",
              "      <td>Academy Award® winning director Charles Fergus...</td>\n",
              "      <td>1.618138</td>\n",
              "      <td>[{\"name\": \"Representational Pictures\", \"id\": 8...</td>\n",
              "      <td>[{\"iso_3166_1\": \"US\", \"name\": \"United States o...</td>\n",
              "      <td>2015-09-04</td>\n",
              "      <td>0</td>\n",
              "      <td>100.0</td>\n",
              "      <td>[{\"iso_639_1\": \"en\", \"name\": \"English\"}]</td>\n",
              "      <td>Released</td>\n",
              "      <td>Climate change for good.</td>\n",
              "      <td>Time to Choose</td>\n",
              "      <td>0.0</td>\n",
              "      <td>0</td>\n",
              "    </tr>\n",
              "  </tbody>\n",
              "</table>\n",
              "</div>\n",
              "      <button class=\"colab-df-convert\" onclick=\"convertToInteractive('df-d27535dd-cca5-4784-b94e-aeb62c2ee8e9')\"\n",
              "              title=\"Convert this dataframe to an interactive table.\"\n",
              "              style=\"display:none;\">\n",
              "        \n",
              "  <svg xmlns=\"http://www.w3.org/2000/svg\" height=\"24px\"viewBox=\"0 0 24 24\"\n",
              "       width=\"24px\">\n",
              "    <path d=\"M0 0h24v24H0V0z\" fill=\"none\"/>\n",
              "    <path d=\"M18.56 5.44l.94 2.06.94-2.06 2.06-.94-2.06-.94-.94-2.06-.94 2.06-2.06.94zm-11 1L8.5 8.5l.94-2.06 2.06-.94-2.06-.94L8.5 2.5l-.94 2.06-2.06.94zm10 10l.94 2.06.94-2.06 2.06-.94-2.06-.94-.94-2.06-.94 2.06-2.06.94z\"/><path d=\"M17.41 7.96l-1.37-1.37c-.4-.4-.92-.59-1.43-.59-.52 0-1.04.2-1.43.59L10.3 9.45l-7.72 7.72c-.78.78-.78 2.05 0 2.83L4 21.41c.39.39.9.59 1.41.59.51 0 1.02-.2 1.41-.59l7.78-7.78 2.81-2.81c.8-.78.8-2.07 0-2.86zM5.41 20L4 18.59l7.72-7.72 1.47 1.35L5.41 20z\"/>\n",
              "  </svg>\n",
              "      </button>\n",
              "      \n",
              "  <style>\n",
              "    .colab-df-container {\n",
              "      display:flex;\n",
              "      flex-wrap:wrap;\n",
              "      gap: 12px;\n",
              "    }\n",
              "\n",
              "    .colab-df-convert {\n",
              "      background-color: #E8F0FE;\n",
              "      border: none;\n",
              "      border-radius: 50%;\n",
              "      cursor: pointer;\n",
              "      display: none;\n",
              "      fill: #1967D2;\n",
              "      height: 32px;\n",
              "      padding: 0 0 0 0;\n",
              "      width: 32px;\n",
              "    }\n",
              "\n",
              "    .colab-df-convert:hover {\n",
              "      background-color: #E2EBFA;\n",
              "      box-shadow: 0px 1px 2px rgba(60, 64, 67, 0.3), 0px 1px 3px 1px rgba(60, 64, 67, 0.15);\n",
              "      fill: #174EA6;\n",
              "    }\n",
              "\n",
              "    [theme=dark] .colab-df-convert {\n",
              "      background-color: #3B4455;\n",
              "      fill: #D2E3FC;\n",
              "    }\n",
              "\n",
              "    [theme=dark] .colab-df-convert:hover {\n",
              "      background-color: #434B5C;\n",
              "      box-shadow: 0px 1px 3px 1px rgba(0, 0, 0, 0.15);\n",
              "      filter: drop-shadow(0px 1px 2px rgba(0, 0, 0, 0.3));\n",
              "      fill: #FFFFFF;\n",
              "    }\n",
              "  </style>\n",
              "\n",
              "      <script>\n",
              "        const buttonEl =\n",
              "          document.querySelector('#df-d27535dd-cca5-4784-b94e-aeb62c2ee8e9 button.colab-df-convert');\n",
              "        buttonEl.style.display =\n",
              "          google.colab.kernel.accessAllowed ? 'block' : 'none';\n",
              "\n",
              "        async function convertToInteractive(key) {\n",
              "          const element = document.querySelector('#df-d27535dd-cca5-4784-b94e-aeb62c2ee8e9');\n",
              "          const dataTable =\n",
              "            await google.colab.kernel.invokeFunction('convertToInteractive',\n",
              "                                                     [key], {});\n",
              "          if (!dataTable) return;\n",
              "\n",
              "          const docLinkHtml = 'Like what you see? Visit the ' +\n",
              "            '<a target=\"_blank\" href=https://colab.research.google.com/notebooks/data_table.ipynb>data table notebook</a>'\n",
              "            + ' to learn more about interactive tables.';\n",
              "          element.innerHTML = '';\n",
              "          dataTable['output_type'] = 'display_data';\n",
              "          await google.colab.output.renderOutput(dataTable, element);\n",
              "          const docLink = document.createElement('div');\n",
              "          docLink.innerHTML = docLinkHtml;\n",
              "          element.appendChild(docLink);\n",
              "        }\n",
              "      </script>\n",
              "    </div>\n",
              "  </div>\n",
              "  "
            ]
          },
          "metadata": {},
          "execution_count": 9
        }
      ]
    },
    {
      "cell_type": "code",
      "source": [
        "tmdb_com_mais_de_10_votos = tmdb.query('vote_average >= 10')\n",
        "tmdb_com_mais_de_10_votos.head()"
      ],
      "metadata": {
        "colab": {
          "base_uri": "https://localhost:8080/",
          "height": 0
        },
        "id": "sTzaPW4Y8a2s",
        "outputId": "2be42a15-efdd-4305-c72d-be98b5c99244"
      },
      "execution_count": 10,
      "outputs": [
        {
          "output_type": "execute_result",
          "data": {
            "text/plain": [
              "      budget                                             genres homepage  \\\n",
              "3519       0                     [{\"id\": 35, \"name\": \"Comedy\"}]      NaN   \n",
              "4045       0  [{\"id\": 35, \"name\": \"Comedy\"}, {\"id\": 18, \"nam...      NaN   \n",
              "4247       1  [{\"id\": 10749, \"name\": \"Romance\"}, {\"id\": 35, ...      NaN   \n",
              "4662       0                     [{\"id\": 35, \"name\": \"Comedy\"}]      NaN   \n",
              "\n",
              "          id                                           keywords  \\\n",
              "3519   89861  [{\"id\": 131, \"name\": \"italy\"}, {\"id\": 8250, \"n...   \n",
              "4045   78373  [{\"id\": 1415, \"name\": \"small town\"}, {\"id\": 15...   \n",
              "4247  361505                                                 []   \n",
              "4662   40963        [{\"id\": 10183, \"name\": \"independent film\"}]   \n",
              "\n",
              "     original_language         original_title  \\\n",
              "3519                en       Stiff Upper Lips   \n",
              "4045                en  Dancer, Texas Pop. 81   \n",
              "4247                en  Me You and Five Bucks   \n",
              "4662                en         Little Big Top   \n",
              "\n",
              "                                               overview  popularity  \\\n",
              "3519  Stiff Upper Lips is a broad parody of British ...    0.356495   \n",
              "4045  Four guys, best friends, have grown up togethe...    0.376662   \n",
              "4247  A womanizing yet lovable loser, Charlie, a wai...    0.094105   \n",
              "4662  An aging out of work clown returns to his smal...    0.092100   \n",
              "\n",
              "                                   production_companies  \\\n",
              "3519                                                 []   \n",
              "4045  [{\"name\": \"HSX Films\", \"id\": 4714}, {\"name\": \"...   \n",
              "4247                                                 []   \n",
              "4662          [{\"name\": \"Fly High Films\", \"id\": 24248}]   \n",
              "\n",
              "                                   production_countries release_date  revenue  \\\n",
              "3519  [{\"iso_3166_1\": \"GB\", \"name\": \"United Kingdom\"...   1998-06-12        0   \n",
              "4045  [{\"iso_3166_1\": \"US\", \"name\": \"United States o...   1998-05-01   565592   \n",
              "4247                                                 []   2015-07-07        0   \n",
              "4662  [{\"iso_3166_1\": \"US\", \"name\": \"United States o...   2006-01-01        0   \n",
              "\n",
              "      runtime                          spoken_languages    status  \\\n",
              "3519     99.0  [{\"iso_639_1\": \"en\", \"name\": \"English\"}]  Released   \n",
              "4045     97.0  [{\"iso_639_1\": \"en\", \"name\": \"English\"}]  Released   \n",
              "4247     90.0                                        []  Released   \n",
              "4662      0.0  [{\"iso_639_1\": \"en\", \"name\": \"English\"}]   Rumored   \n",
              "\n",
              "                                           tagline                  title  \\\n",
              "3519                                           NaN       Stiff Upper Lips   \n",
              "4045  in the middle of nowhere they had everything  Dancer, Texas Pop. 81   \n",
              "4247          A story about second, second chances  Me You and Five Bucks   \n",
              "4662                                           NaN         Little Big Top   \n",
              "\n",
              "      vote_average  vote_count  \n",
              "3519          10.0           1  \n",
              "4045          10.0           1  \n",
              "4247          10.0           2  \n",
              "4662          10.0           1  "
            ],
            "text/html": [
              "\n",
              "  <div id=\"df-742b4649-4ec4-4a90-a6f9-c2c972307909\">\n",
              "    <div class=\"colab-df-container\">\n",
              "      <div>\n",
              "<style scoped>\n",
              "    .dataframe tbody tr th:only-of-type {\n",
              "        vertical-align: middle;\n",
              "    }\n",
              "\n",
              "    .dataframe tbody tr th {\n",
              "        vertical-align: top;\n",
              "    }\n",
              "\n",
              "    .dataframe thead th {\n",
              "        text-align: right;\n",
              "    }\n",
              "</style>\n",
              "<table border=\"1\" class=\"dataframe\">\n",
              "  <thead>\n",
              "    <tr style=\"text-align: right;\">\n",
              "      <th></th>\n",
              "      <th>budget</th>\n",
              "      <th>genres</th>\n",
              "      <th>homepage</th>\n",
              "      <th>id</th>\n",
              "      <th>keywords</th>\n",
              "      <th>original_language</th>\n",
              "      <th>original_title</th>\n",
              "      <th>overview</th>\n",
              "      <th>popularity</th>\n",
              "      <th>production_companies</th>\n",
              "      <th>production_countries</th>\n",
              "      <th>release_date</th>\n",
              "      <th>revenue</th>\n",
              "      <th>runtime</th>\n",
              "      <th>spoken_languages</th>\n",
              "      <th>status</th>\n",
              "      <th>tagline</th>\n",
              "      <th>title</th>\n",
              "      <th>vote_average</th>\n",
              "      <th>vote_count</th>\n",
              "    </tr>\n",
              "  </thead>\n",
              "  <tbody>\n",
              "    <tr>\n",
              "      <th>3519</th>\n",
              "      <td>0</td>\n",
              "      <td>[{\"id\": 35, \"name\": \"Comedy\"}]</td>\n",
              "      <td>NaN</td>\n",
              "      <td>89861</td>\n",
              "      <td>[{\"id\": 131, \"name\": \"italy\"}, {\"id\": 8250, \"n...</td>\n",
              "      <td>en</td>\n",
              "      <td>Stiff Upper Lips</td>\n",
              "      <td>Stiff Upper Lips is a broad parody of British ...</td>\n",
              "      <td>0.356495</td>\n",
              "      <td>[]</td>\n",
              "      <td>[{\"iso_3166_1\": \"GB\", \"name\": \"United Kingdom\"...</td>\n",
              "      <td>1998-06-12</td>\n",
              "      <td>0</td>\n",
              "      <td>99.0</td>\n",
              "      <td>[{\"iso_639_1\": \"en\", \"name\": \"English\"}]</td>\n",
              "      <td>Released</td>\n",
              "      <td>NaN</td>\n",
              "      <td>Stiff Upper Lips</td>\n",
              "      <td>10.0</td>\n",
              "      <td>1</td>\n",
              "    </tr>\n",
              "    <tr>\n",
              "      <th>4045</th>\n",
              "      <td>0</td>\n",
              "      <td>[{\"id\": 35, \"name\": \"Comedy\"}, {\"id\": 18, \"nam...</td>\n",
              "      <td>NaN</td>\n",
              "      <td>78373</td>\n",
              "      <td>[{\"id\": 1415, \"name\": \"small town\"}, {\"id\": 15...</td>\n",
              "      <td>en</td>\n",
              "      <td>Dancer, Texas Pop. 81</td>\n",
              "      <td>Four guys, best friends, have grown up togethe...</td>\n",
              "      <td>0.376662</td>\n",
              "      <td>[{\"name\": \"HSX Films\", \"id\": 4714}, {\"name\": \"...</td>\n",
              "      <td>[{\"iso_3166_1\": \"US\", \"name\": \"United States o...</td>\n",
              "      <td>1998-05-01</td>\n",
              "      <td>565592</td>\n",
              "      <td>97.0</td>\n",
              "      <td>[{\"iso_639_1\": \"en\", \"name\": \"English\"}]</td>\n",
              "      <td>Released</td>\n",
              "      <td>in the middle of nowhere they had everything</td>\n",
              "      <td>Dancer, Texas Pop. 81</td>\n",
              "      <td>10.0</td>\n",
              "      <td>1</td>\n",
              "    </tr>\n",
              "    <tr>\n",
              "      <th>4247</th>\n",
              "      <td>1</td>\n",
              "      <td>[{\"id\": 10749, \"name\": \"Romance\"}, {\"id\": 35, ...</td>\n",
              "      <td>NaN</td>\n",
              "      <td>361505</td>\n",
              "      <td>[]</td>\n",
              "      <td>en</td>\n",
              "      <td>Me You and Five Bucks</td>\n",
              "      <td>A womanizing yet lovable loser, Charlie, a wai...</td>\n",
              "      <td>0.094105</td>\n",
              "      <td>[]</td>\n",
              "      <td>[]</td>\n",
              "      <td>2015-07-07</td>\n",
              "      <td>0</td>\n",
              "      <td>90.0</td>\n",
              "      <td>[]</td>\n",
              "      <td>Released</td>\n",
              "      <td>A story about second, second chances</td>\n",
              "      <td>Me You and Five Bucks</td>\n",
              "      <td>10.0</td>\n",
              "      <td>2</td>\n",
              "    </tr>\n",
              "    <tr>\n",
              "      <th>4662</th>\n",
              "      <td>0</td>\n",
              "      <td>[{\"id\": 35, \"name\": \"Comedy\"}]</td>\n",
              "      <td>NaN</td>\n",
              "      <td>40963</td>\n",
              "      <td>[{\"id\": 10183, \"name\": \"independent film\"}]</td>\n",
              "      <td>en</td>\n",
              "      <td>Little Big Top</td>\n",
              "      <td>An aging out of work clown returns to his smal...</td>\n",
              "      <td>0.092100</td>\n",
              "      <td>[{\"name\": \"Fly High Films\", \"id\": 24248}]</td>\n",
              "      <td>[{\"iso_3166_1\": \"US\", \"name\": \"United States o...</td>\n",
              "      <td>2006-01-01</td>\n",
              "      <td>0</td>\n",
              "      <td>0.0</td>\n",
              "      <td>[{\"iso_639_1\": \"en\", \"name\": \"English\"}]</td>\n",
              "      <td>Rumored</td>\n",
              "      <td>NaN</td>\n",
              "      <td>Little Big Top</td>\n",
              "      <td>10.0</td>\n",
              "      <td>1</td>\n",
              "    </tr>\n",
              "  </tbody>\n",
              "</table>\n",
              "</div>\n",
              "      <button class=\"colab-df-convert\" onclick=\"convertToInteractive('df-742b4649-4ec4-4a90-a6f9-c2c972307909')\"\n",
              "              title=\"Convert this dataframe to an interactive table.\"\n",
              "              style=\"display:none;\">\n",
              "        \n",
              "  <svg xmlns=\"http://www.w3.org/2000/svg\" height=\"24px\"viewBox=\"0 0 24 24\"\n",
              "       width=\"24px\">\n",
              "    <path d=\"M0 0h24v24H0V0z\" fill=\"none\"/>\n",
              "    <path d=\"M18.56 5.44l.94 2.06.94-2.06 2.06-.94-2.06-.94-.94-2.06-.94 2.06-2.06.94zm-11 1L8.5 8.5l.94-2.06 2.06-.94-2.06-.94L8.5 2.5l-.94 2.06-2.06.94zm10 10l.94 2.06.94-2.06 2.06-.94-2.06-.94-.94-2.06-.94 2.06-2.06.94z\"/><path d=\"M17.41 7.96l-1.37-1.37c-.4-.4-.92-.59-1.43-.59-.52 0-1.04.2-1.43.59L10.3 9.45l-7.72 7.72c-.78.78-.78 2.05 0 2.83L4 21.41c.39.39.9.59 1.41.59.51 0 1.02-.2 1.41-.59l7.78-7.78 2.81-2.81c.8-.78.8-2.07 0-2.86zM5.41 20L4 18.59l7.72-7.72 1.47 1.35L5.41 20z\"/>\n",
              "  </svg>\n",
              "      </button>\n",
              "      \n",
              "  <style>\n",
              "    .colab-df-container {\n",
              "      display:flex;\n",
              "      flex-wrap:wrap;\n",
              "      gap: 12px;\n",
              "    }\n",
              "\n",
              "    .colab-df-convert {\n",
              "      background-color: #E8F0FE;\n",
              "      border: none;\n",
              "      border-radius: 50%;\n",
              "      cursor: pointer;\n",
              "      display: none;\n",
              "      fill: #1967D2;\n",
              "      height: 32px;\n",
              "      padding: 0 0 0 0;\n",
              "      width: 32px;\n",
              "    }\n",
              "\n",
              "    .colab-df-convert:hover {\n",
              "      background-color: #E2EBFA;\n",
              "      box-shadow: 0px 1px 2px rgba(60, 64, 67, 0.3), 0px 1px 3px 1px rgba(60, 64, 67, 0.15);\n",
              "      fill: #174EA6;\n",
              "    }\n",
              "\n",
              "    [theme=dark] .colab-df-convert {\n",
              "      background-color: #3B4455;\n",
              "      fill: #D2E3FC;\n",
              "    }\n",
              "\n",
              "    [theme=dark] .colab-df-convert:hover {\n",
              "      background-color: #434B5C;\n",
              "      box-shadow: 0px 1px 3px 1px rgba(0, 0, 0, 0.15);\n",
              "      filter: drop-shadow(0px 1px 2px rgba(0, 0, 0, 0.3));\n",
              "      fill: #FFFFFF;\n",
              "    }\n",
              "  </style>\n",
              "\n",
              "      <script>\n",
              "        const buttonEl =\n",
              "          document.querySelector('#df-742b4649-4ec4-4a90-a6f9-c2c972307909 button.colab-df-convert');\n",
              "        buttonEl.style.display =\n",
              "          google.colab.kernel.accessAllowed ? 'block' : 'none';\n",
              "\n",
              "        async function convertToInteractive(key) {\n",
              "          const element = document.querySelector('#df-742b4649-4ec4-4a90-a6f9-c2c972307909');\n",
              "          const dataTable =\n",
              "            await google.colab.kernel.invokeFunction('convertToInteractive',\n",
              "                                                     [key], {});\n",
              "          if (!dataTable) return;\n",
              "\n",
              "          const docLinkHtml = 'Like what you see? Visit the ' +\n",
              "            '<a target=\"_blank\" href=https://colab.research.google.com/notebooks/data_table.ipynb>data table notebook</a>'\n",
              "            + ' to learn more about interactive tables.';\n",
              "          element.innerHTML = '';\n",
              "          dataTable['output_type'] = 'display_data';\n",
              "          await google.colab.output.renderOutput(dataTable, element);\n",
              "          const docLink = document.createElement('div');\n",
              "          docLink.innerHTML = docLinkHtml;\n",
              "          element.appendChild(docLink);\n",
              "        }\n",
              "      </script>\n",
              "    </div>\n",
              "  </div>\n",
              "  "
            ]
          },
          "metadata": {},
          "execution_count": 10
        }
      ]
    },
    {
      "cell_type": "markdown",
      "source": [
        "Tem algo de estranho com meus dados, pois não faz sentido filmes cuja nota média é 0 ou 10 - vamos analisar:"
      ],
      "metadata": {
        "id": "RG37ESbZ9v_s"
      }
    },
    {
      "cell_type": "code",
      "source": [
        "tmdb_com_mais_de_10_votos = tmdb.query('vote_count >= 10')\n",
        "tmdb_com_mais_de_10_votos.describe()"
      ],
      "metadata": {
        "colab": {
          "base_uri": "https://localhost:8080/",
          "height": 0
        },
        "id": "S0WLcD7196kg",
        "outputId": "7ddcf0d8-b534-4e04-f665-60a5462539cf"
      },
      "execution_count": 11,
      "outputs": [
        {
          "output_type": "execute_result",
          "data": {
            "text/plain": [
              "             budget             id   popularity       revenue      runtime  \\\n",
              "count  4.392000e+03    4392.000000  4392.000000  4.392000e+03  4391.000000   \n",
              "mean   3.164545e+07   49204.119991    23.448815  8.990969e+07   108.430881   \n",
              "std    4.162736e+07   80136.249777    32.592158  1.682870e+08    21.014719   \n",
              "min    0.000000e+00       5.000000     0.011697  0.000000e+00     0.000000   \n",
              "25%    2.895962e+06    8403.500000     6.512166  1.365700e+04    95.000000   \n",
              "50%    1.700000e+07   13084.500000    14.827784  2.685837e+07   105.000000   \n",
              "75%    4.200000e+07   46831.250000    30.258282  1.022818e+08   118.500000   \n",
              "max    3.800000e+08  417859.000000   875.581305  2.787965e+09   338.000000   \n",
              "\n",
              "       vote_average    vote_count  \n",
              "count   4392.000000   4392.000000  \n",
              "mean       6.226935    754.441712  \n",
              "std        0.893215   1272.263761  \n",
              "min        1.900000     10.000000  \n",
              "25%        5.700000     83.750000  \n",
              "50%        6.300000    288.500000  \n",
              "75%        6.800000    831.000000  \n",
              "max        8.500000  13752.000000  "
            ],
            "text/html": [
              "\n",
              "  <div id=\"df-c2c78f05-1cf8-4268-821a-26cc50b0323d\">\n",
              "    <div class=\"colab-df-container\">\n",
              "      <div>\n",
              "<style scoped>\n",
              "    .dataframe tbody tr th:only-of-type {\n",
              "        vertical-align: middle;\n",
              "    }\n",
              "\n",
              "    .dataframe tbody tr th {\n",
              "        vertical-align: top;\n",
              "    }\n",
              "\n",
              "    .dataframe thead th {\n",
              "        text-align: right;\n",
              "    }\n",
              "</style>\n",
              "<table border=\"1\" class=\"dataframe\">\n",
              "  <thead>\n",
              "    <tr style=\"text-align: right;\">\n",
              "      <th></th>\n",
              "      <th>budget</th>\n",
              "      <th>id</th>\n",
              "      <th>popularity</th>\n",
              "      <th>revenue</th>\n",
              "      <th>runtime</th>\n",
              "      <th>vote_average</th>\n",
              "      <th>vote_count</th>\n",
              "    </tr>\n",
              "  </thead>\n",
              "  <tbody>\n",
              "    <tr>\n",
              "      <th>count</th>\n",
              "      <td>4.392000e+03</td>\n",
              "      <td>4392.000000</td>\n",
              "      <td>4392.000000</td>\n",
              "      <td>4.392000e+03</td>\n",
              "      <td>4391.000000</td>\n",
              "      <td>4392.000000</td>\n",
              "      <td>4392.000000</td>\n",
              "    </tr>\n",
              "    <tr>\n",
              "      <th>mean</th>\n",
              "      <td>3.164545e+07</td>\n",
              "      <td>49204.119991</td>\n",
              "      <td>23.448815</td>\n",
              "      <td>8.990969e+07</td>\n",
              "      <td>108.430881</td>\n",
              "      <td>6.226935</td>\n",
              "      <td>754.441712</td>\n",
              "    </tr>\n",
              "    <tr>\n",
              "      <th>std</th>\n",
              "      <td>4.162736e+07</td>\n",
              "      <td>80136.249777</td>\n",
              "      <td>32.592158</td>\n",
              "      <td>1.682870e+08</td>\n",
              "      <td>21.014719</td>\n",
              "      <td>0.893215</td>\n",
              "      <td>1272.263761</td>\n",
              "    </tr>\n",
              "    <tr>\n",
              "      <th>min</th>\n",
              "      <td>0.000000e+00</td>\n",
              "      <td>5.000000</td>\n",
              "      <td>0.011697</td>\n",
              "      <td>0.000000e+00</td>\n",
              "      <td>0.000000</td>\n",
              "      <td>1.900000</td>\n",
              "      <td>10.000000</td>\n",
              "    </tr>\n",
              "    <tr>\n",
              "      <th>25%</th>\n",
              "      <td>2.895962e+06</td>\n",
              "      <td>8403.500000</td>\n",
              "      <td>6.512166</td>\n",
              "      <td>1.365700e+04</td>\n",
              "      <td>95.000000</td>\n",
              "      <td>5.700000</td>\n",
              "      <td>83.750000</td>\n",
              "    </tr>\n",
              "    <tr>\n",
              "      <th>50%</th>\n",
              "      <td>1.700000e+07</td>\n",
              "      <td>13084.500000</td>\n",
              "      <td>14.827784</td>\n",
              "      <td>2.685837e+07</td>\n",
              "      <td>105.000000</td>\n",
              "      <td>6.300000</td>\n",
              "      <td>288.500000</td>\n",
              "    </tr>\n",
              "    <tr>\n",
              "      <th>75%</th>\n",
              "      <td>4.200000e+07</td>\n",
              "      <td>46831.250000</td>\n",
              "      <td>30.258282</td>\n",
              "      <td>1.022818e+08</td>\n",
              "      <td>118.500000</td>\n",
              "      <td>6.800000</td>\n",
              "      <td>831.000000</td>\n",
              "    </tr>\n",
              "    <tr>\n",
              "      <th>max</th>\n",
              "      <td>3.800000e+08</td>\n",
              "      <td>417859.000000</td>\n",
              "      <td>875.581305</td>\n",
              "      <td>2.787965e+09</td>\n",
              "      <td>338.000000</td>\n",
              "      <td>8.500000</td>\n",
              "      <td>13752.000000</td>\n",
              "    </tr>\n",
              "  </tbody>\n",
              "</table>\n",
              "</div>\n",
              "      <button class=\"colab-df-convert\" onclick=\"convertToInteractive('df-c2c78f05-1cf8-4268-821a-26cc50b0323d')\"\n",
              "              title=\"Convert this dataframe to an interactive table.\"\n",
              "              style=\"display:none;\">\n",
              "        \n",
              "  <svg xmlns=\"http://www.w3.org/2000/svg\" height=\"24px\"viewBox=\"0 0 24 24\"\n",
              "       width=\"24px\">\n",
              "    <path d=\"M0 0h24v24H0V0z\" fill=\"none\"/>\n",
              "    <path d=\"M18.56 5.44l.94 2.06.94-2.06 2.06-.94-2.06-.94-.94-2.06-.94 2.06-2.06.94zm-11 1L8.5 8.5l.94-2.06 2.06-.94-2.06-.94L8.5 2.5l-.94 2.06-2.06.94zm10 10l.94 2.06.94-2.06 2.06-.94-2.06-.94-.94-2.06-.94 2.06-2.06.94z\"/><path d=\"M17.41 7.96l-1.37-1.37c-.4-.4-.92-.59-1.43-.59-.52 0-1.04.2-1.43.59L10.3 9.45l-7.72 7.72c-.78.78-.78 2.05 0 2.83L4 21.41c.39.39.9.59 1.41.59.51 0 1.02-.2 1.41-.59l7.78-7.78 2.81-2.81c.8-.78.8-2.07 0-2.86zM5.41 20L4 18.59l7.72-7.72 1.47 1.35L5.41 20z\"/>\n",
              "  </svg>\n",
              "      </button>\n",
              "      \n",
              "  <style>\n",
              "    .colab-df-container {\n",
              "      display:flex;\n",
              "      flex-wrap:wrap;\n",
              "      gap: 12px;\n",
              "    }\n",
              "\n",
              "    .colab-df-convert {\n",
              "      background-color: #E8F0FE;\n",
              "      border: none;\n",
              "      border-radius: 50%;\n",
              "      cursor: pointer;\n",
              "      display: none;\n",
              "      fill: #1967D2;\n",
              "      height: 32px;\n",
              "      padding: 0 0 0 0;\n",
              "      width: 32px;\n",
              "    }\n",
              "\n",
              "    .colab-df-convert:hover {\n",
              "      background-color: #E2EBFA;\n",
              "      box-shadow: 0px 1px 2px rgba(60, 64, 67, 0.3), 0px 1px 3px 1px rgba(60, 64, 67, 0.15);\n",
              "      fill: #174EA6;\n",
              "    }\n",
              "\n",
              "    [theme=dark] .colab-df-convert {\n",
              "      background-color: #3B4455;\n",
              "      fill: #D2E3FC;\n",
              "    }\n",
              "\n",
              "    [theme=dark] .colab-df-convert:hover {\n",
              "      background-color: #434B5C;\n",
              "      box-shadow: 0px 1px 3px 1px rgba(0, 0, 0, 0.15);\n",
              "      filter: drop-shadow(0px 1px 2px rgba(0, 0, 0, 0.3));\n",
              "      fill: #FFFFFF;\n",
              "    }\n",
              "  </style>\n",
              "\n",
              "      <script>\n",
              "        const buttonEl =\n",
              "          document.querySelector('#df-c2c78f05-1cf8-4268-821a-26cc50b0323d button.colab-df-convert');\n",
              "        buttonEl.style.display =\n",
              "          google.colab.kernel.accessAllowed ? 'block' : 'none';\n",
              "\n",
              "        async function convertToInteractive(key) {\n",
              "          const element = document.querySelector('#df-c2c78f05-1cf8-4268-821a-26cc50b0323d');\n",
              "          const dataTable =\n",
              "            await google.colab.kernel.invokeFunction('convertToInteractive',\n",
              "                                                     [key], {});\n",
              "          if (!dataTable) return;\n",
              "\n",
              "          const docLinkHtml = 'Like what you see? Visit the ' +\n",
              "            '<a target=\"_blank\" href=https://colab.research.google.com/notebooks/data_table.ipynb>data table notebook</a>'\n",
              "            + ' to learn more about interactive tables.';\n",
              "          element.innerHTML = '';\n",
              "          dataTable['output_type'] = 'display_data';\n",
              "          await google.colab.output.renderOutput(dataTable, element);\n",
              "          const docLink = document.createElement('div');\n",
              "          docLink.innerHTML = docLinkHtml;\n",
              "          element.appendChild(docLink);\n",
              "        }\n",
              "      </script>\n",
              "    </div>\n",
              "  </div>\n",
              "  "
            ]
          },
          "metadata": {},
          "execution_count": 11
        }
      ]
    },
    {
      "cell_type": "markdown",
      "source": [
        "Detectamos que alguns filmes tiveram poucos votos ou até mesmo nenhum voto.\n",
        "Decidimos que esses filmes não devem pertencer a nossa análise!"
      ],
      "metadata": {
        "id": "0z9GpxZM-DJf"
      }
    },
    {
      "cell_type": "code",
      "source": [
        "ax = sns.distplot(tmdb_com_mais_de_10_votos.vote_average, norm_hist = False, kde = False)\n",
        "ax.set(xlabel = 'Nota média', ylabel = 'Frequência')\n",
        "ax.set_title('Média de votos em filmes no TMDB 5000 dentre os filmes com 10 ou mais votos')"
      ],
      "metadata": {
        "colab": {
          "base_uri": "https://localhost:8080/",
          "height": 0
        },
        "id": "kHyPBqEi-CMI",
        "outputId": "ff06dc44-a998-41ab-f260-78241057402d"
      },
      "execution_count": 12,
      "outputs": [
        {
          "output_type": "stream",
          "name": "stderr",
          "text": [
            "/usr/local/lib/python3.8/dist-packages/seaborn/distributions.py:2619: FutureWarning: `distplot` is a deprecated function and will be removed in a future version. Please adapt your code to use either `displot` (a figure-level function with similar flexibility) or `histplot` (an axes-level function for histograms).\n",
            "  warnings.warn(msg, FutureWarning)\n"
          ]
        },
        {
          "output_type": "execute_result",
          "data": {
            "text/plain": [
              "Text(0.5, 1.0, 'Média de votos em filmes no TMDB 5000 dentre os filmes com 10 ou mais votos')"
            ]
          },
          "metadata": {},
          "execution_count": 12
        },
        {
          "output_type": "display_data",
          "data": {
            "text/plain": [
              "<Figure size 432x288 with 1 Axes>"
            ],
            "image/png": "[encoded data removed]"
          },
          "metadata": {
            "needs_background": "light"
          }
        }
      ]
    },
    {
      "cell_type": "code",
      "source": [
        "ax = sns.distplot(tmdb_com_mais_de_10_votos.vote_average)\n",
        "ax.set(xlabel = 'Nota média', ylabel = 'Densidade')\n",
        "ax.set_title('Média de votos em filmes no TMDB 5000 dentre os filmes com 10 ou mais votos')"
      ],
      "metadata": {
        "colab": {
          "base_uri": "https://localhost:8080/",
          "height": 0
        },
        "id": "Bbkm9CmR-j-N",
        "outputId": "de725c6f-2ebc-443c-c9fb-049639eb0ef9"
      },
      "execution_count": 13,
      "outputs": [
        {
          "output_type": "execute_result",
          "data": {
            "text/plain": [
              "Text(0.5, 1.0, 'Média de votos em filmes no TMDB 5000 dentre os filmes com 10 ou mais votos')"
            ]
          },
          "metadata": {},
          "execution_count": 13
        },
        {
          "output_type": "display_data",
          "data": {
            "text/plain": [
              "<Figure size 432x288 with 1 Axes>"
            ],
            "image/png": "[encoded data removed]"
          },
          "metadata": {
            "needs_background": "light"
          }
        }
      ]
    },
    {
      "cell_type": "code",
      "source": [
        "ax = sns.boxplot(tmdb_com_mais_de_10_votos.vote_average)\n",
        "ax.set_title('Distribuição de nota média dos filmes do TMDB 5000 dentre os filmes com 10 ou mais votos')\n",
        "ax.set(xlabel = 'Nota média do filme')"
      ],
      "metadata": {
        "colab": {
          "base_uri": "https://localhost:8080/",
          "height": 0
        },
        "id": "BInoRych-qB4",
        "outputId": "60fa246c-a65d-41b9-a0af-5df437a9b00d"
      },
      "execution_count": 14,
      "outputs": [
        {
          "output_type": "stream",
          "name": "stderr",
          "text": [
            "/usr/local/lib/python3.8/dist-packages/seaborn/_decorators.py:36: FutureWarning: Pass the following variable as a keyword arg: x. From version 0.12, the only valid positional argument will be `data`, and passing other arguments without an explicit keyword will result in an error or misinterpretation.\n",
            "  warnings.warn(\n"
          ]
        },
        {
          "output_type": "execute_result",
          "data": {
            "text/plain": [
              "[Text(0.5, 0, 'Nota média do filme')]"
            ]
          },
          "metadata": {},
          "execution_count": 14
        },
        {
          "output_type": "display_data",
          "data": {
            "text/plain": [
              "<Figure size 432x288 with 1 Axes>"
            ],
            "image/png": "[encoded data removed]"
          },
          "metadata": {
            "needs_background": "light"
          }
        }
      ]
    },
    {
      "cell_type": "markdown",
      "source": [
        "## 0.2 Visualizando e limpando o movielens"
      ],
      "metadata": {
        "id": "eCTdlLhDgCM_"
      }
    },
    {
      "cell_type": "code",
      "source": [
        "notas = pd.read_csv('ratings.csv')\n",
        "notas.head()"
      ],
      "metadata": {
        "colab": {
          "base_uri": "https://localhost:8080/",
          "height": 0
        },
        "id": "dWVhw4Yp_Xao",
        "outputId": "f326f3f3-9765-4019-e94a-f4f417644e75"
      },
      "execution_count": 15,
      "outputs": [
        {
          "output_type": "execute_result",
          "data": {
            "text/plain": [
              "   userId  movieId  rating  timestamp\n",
              "0       1        1     4.0  964982703\n",
              "1       1        3     4.0  964981247\n",
              "2       1        6     4.0  964982224\n",
              "3       1       47     5.0  964983815\n",
              "4       1       50     5.0  964982931"
            ],
            "text/html": [
              "\n",
              "  <div id=\"df-67fcb332-d9cd-4ca3-984f-186ea9e70ed3\">\n",
              "    <div class=\"colab-df-container\">\n",
              "      <div>\n",
              "<style scoped>\n",
              "    .dataframe tbody tr th:only-of-type {\n",
              "        vertical-align: middle;\n",
              "    }\n",
              "\n",
              "    .dataframe tbody tr th {\n",
              "        vertical-align: top;\n",
              "    }\n",
              "\n",
              "    .dataframe thead th {\n",
              "        text-align: right;\n",
              "    }\n",
              "</style>\n",
              "<table border=\"1\" class=\"dataframe\">\n",
              "  <thead>\n",
              "    <tr style=\"text-align: right;\">\n",
              "      <th></th>\n",
              "      <th>userId</th>\n",
              "      <th>movieId</th>\n",
              "      <th>rating</th>\n",
              "      <th>timestamp</th>\n",
              "    </tr>\n",
              "  </thead>\n",
              "  <tbody>\n",
              "    <tr>\n",
              "      <th>0</th>\n",
              "      <td>1</td>\n",
              "      <td>1</td>\n",
              "      <td>4.0</td>\n",
              "      <td>964982703</td>\n",
              "    </tr>\n",
              "    <tr>\n",
              "      <th>1</th>\n",
              "      <td>1</td>\n",
              "      <td>3</td>\n",
              "      <td>4.0</td>\n",
              "      <td>964981247</td>\n",
              "    </tr>\n",
              "    <tr>\n",
              "      <th>2</th>\n",
              "      <td>1</td>\n",
              "      <td>6</td>\n",
              "      <td>4.0</td>\n",
              "      <td>964982224</td>\n",
              "    </tr>\n",
              "    <tr>\n",
              "      <th>3</th>\n",
              "      <td>1</td>\n",
              "      <td>47</td>\n",
              "      <td>5.0</td>\n",
              "      <td>964983815</td>\n",
              "    </tr>\n",
              "    <tr>\n",
              "      <th>4</th>\n",
              "      <td>1</td>\n",
              "      <td>50</td>\n",
              "      <td>5.0</td>\n",
              "      <td>964982931</td>\n",
              "    </tr>\n",
              "  </tbody>\n",
              "</table>\n",
              "</div>\n",
              "      <button class=\"colab-df-convert\" onclick=\"convertToInteractive('df-67fcb332-d9cd-4ca3-984f-186ea9e70ed3')\"\n",
              "              title=\"Convert this dataframe to an interactive table.\"\n",
              "              style=\"display:none;\">\n",
              "        \n",
              "  <svg xmlns=\"http://www.w3.org/2000/svg\" height=\"24px\"viewBox=\"0 0 24 24\"\n",
              "       width=\"24px\">\n",
              "    <path d=\"M0 0h24v24H0V0z\" fill=\"none\"/>\n",
              "    <path d=\"M18.56 5.44l.94 2.06.94-2.06 2.06-.94-2.06-.94-.94-2.06-.94 2.06-2.06.94zm-11 1L8.5 8.5l.94-2.06 2.06-.94-2.06-.94L8.5 2.5l-.94 2.06-2.06.94zm10 10l.94 2.06.94-2.06 2.06-.94-2.06-.94-.94-2.06-.94 2.06-2.06.94z\"/><path d=\"M17.41 7.96l-1.37-1.37c-.4-.4-.92-.59-1.43-.59-.52 0-1.04.2-1.43.59L10.3 9.45l-7.72 7.72c-.78.78-.78 2.05 0 2.83L4 21.41c.39.39.9.59 1.41.59.51 0 1.02-.2 1.41-.59l7.78-7.78 2.81-2.81c.8-.78.8-2.07 0-2.86zM5.41 20L4 18.59l7.72-7.72 1.47 1.35L5.41 20z\"/>\n",
              "  </svg>\n",
              "      </button>\n",
              "      \n",
              "  <style>\n",
              "    .colab-df-container {\n",
              "      display:flex;\n",
              "      flex-wrap:wrap;\n",
              "      gap: 12px;\n",
              "    }\n",
              "\n",
              "    .colab-df-convert {\n",
              "      background-color: #E8F0FE;\n",
              "      border: none;\n",
              "      border-radius: 50%;\n",
              "      cursor: pointer;\n",
              "      display: none;\n",
              "      fill: #1967D2;\n",
              "      height: 32px;\n",
              "      padding: 0 0 0 0;\n",
              "      width: 32px;\n",
              "    }\n",
              "\n",
              "    .colab-df-convert:hover {\n",
              "      background-color: #E2EBFA;\n",
              "      box-shadow: 0px 1px 2px rgba(60, 64, 67, 0.3), 0px 1px 3px 1px rgba(60, 64, 67, 0.15);\n",
              "      fill: #174EA6;\n",
              "    }\n",
              "\n",
              "    [theme=dark] .colab-df-convert {\n",
              "      background-color: #3B4455;\n",
              "      fill: #D2E3FC;\n",
              "    }\n",
              "\n",
              "    [theme=dark] .colab-df-convert:hover {\n",
              "      background-color: #434B5C;\n",
              "      box-shadow: 0px 1px 3px 1px rgba(0, 0, 0, 0.15);\n",
              "      filter: drop-shadow(0px 1px 2px rgba(0, 0, 0, 0.3));\n",
              "      fill: #FFFFFF;\n",
              "    }\n",
              "  </style>\n",
              "\n",
              "      <script>\n",
              "        const buttonEl =\n",
              "          document.querySelector('#df-67fcb332-d9cd-4ca3-984f-186ea9e70ed3 button.colab-df-convert');\n",
              "        buttonEl.style.display =\n",
              "          google.colab.kernel.accessAllowed ? 'block' : 'none';\n",
              "\n",
              "        async function convertToInteractive(key) {\n",
              "          const element = document.querySelector('#df-67fcb332-d9cd-4ca3-984f-186ea9e70ed3');\n",
              "          const dataTable =\n",
              "            await google.colab.kernel.invokeFunction('convertToInteractive',\n",
              "                                                     [key], {});\n",
              "          if (!dataTable) return;\n",
              "\n",
              "          const docLinkHtml = 'Like what you see? Visit the ' +\n",
              "            '<a target=\"_blank\" href=https://colab.research.google.com/notebooks/data_table.ipynb>data table notebook</a>'\n",
              "            + ' to learn more about interactive tables.';\n",
              "          element.innerHTML = '';\n",
              "          dataTable['output_type'] = 'display_data';\n",
              "          await google.colab.output.renderOutput(dataTable, element);\n",
              "          const docLink = document.createElement('div');\n",
              "          docLink.innerHTML = docLinkHtml;\n",
              "          element.appendChild(docLink);\n",
              "        }\n",
              "      </script>\n",
              "    </div>\n",
              "  </div>\n",
              "  "
            ]
          },
          "metadata": {},
          "execution_count": 15
        }
      ]
    },
    {
      "cell_type": "markdown",
      "source": [
        "Neste dataframe nós não temos as médias dos filmes, por isso vamos precisar calcular as médias agrupando por filme:"
      ],
      "metadata": {
        "id": "z5OXpbwJg26T"
      }
    },
    {
      "cell_type": "code",
      "source": [
        "nota_media_por_filme = notas.groupby('movieId').mean()['rating']\n",
        "nota_media_por_filme.head()"
      ],
      "metadata": {
        "colab": {
          "base_uri": "https://localhost:8080/"
        },
        "id": "qa1Sbdo_gvPa",
        "outputId": "4736531e-3672-4988-e43c-30b67566d36e"
      },
      "execution_count": 16,
      "outputs": [
        {
          "output_type": "execute_result",
          "data": {
            "text/plain": [
              "movieId\n",
              "1    3.920930\n",
              "2    3.431818\n",
              "3    3.259615\n",
              "4    2.357143\n",
              "5    3.071429\n",
              "Name: rating, dtype: float64"
            ]
          },
          "metadata": {},
          "execution_count": 16
        }
      ]
    },
    {
      "cell_type": "code",
      "source": [
        "ax = sns.distplot(nota_media_por_filme.values)\n",
        "ax.set(xlabel = 'Nota média', ylabel = 'Densidade')\n",
        "ax.set_title('Média de votos em filmes no Movielens 100 mil')"
      ],
      "metadata": {
        "colab": {
          "base_uri": "https://localhost:8080/",
          "height": 0
        },
        "id": "3KluJVCHhKoa",
        "outputId": "6d5a179a-b48e-41d0-a94a-eb2bf20c29fe"
      },
      "execution_count": 17,
      "outputs": [
        {
          "output_type": "stream",
          "name": "stderr",
          "text": [
            "/usr/local/lib/python3.8/dist-packages/seaborn/distributions.py:2619: FutureWarning: `distplot` is a deprecated function and will be removed in a future version. Please adapt your code to use either `displot` (a figure-level function with similar flexibility) or `histplot` (an axes-level function for histograms).\n",
            "  warnings.warn(msg, FutureWarning)\n"
          ]
        },
        {
          "output_type": "execute_result",
          "data": {
            "text/plain": [
              "Text(0.5, 1.0, 'Média de votos em filmes no Movielens 100 mil')"
            ]
          },
          "metadata": {},
          "execution_count": 17
        },
        {
          "output_type": "display_data",
          "data": {
            "text/plain": [
              "<Figure size 432x288 with 1 Axes>"
            ],
            "image/png": "[encoded data removed]"
          },
          "metadata": {
            "needs_background": "light"
          }
        }
      ]
    },
    {
      "cell_type": "code",
      "source": [
        "notas.groupby('movieId').count()"
      ],
      "metadata": {
        "colab": {
          "base_uri": "https://localhost:8080/",
          "height": 0
        },
        "id": "KLAWlsyQh9X8",
        "outputId": "1c08178c-912c-4f7a-dfd2-3da2218766f2"
      },
      "execution_count": 18,
      "outputs": [
        {
          "output_type": "execute_result",
          "data": {
            "text/plain": [
              "         userId  rating  timestamp\n",
              "movieId                           \n",
              "1           215     215        215\n",
              "2           110     110        110\n",
              "3            52      52         52\n",
              "4             7       7          7\n",
              "5            49      49         49\n",
              "...         ...     ...        ...\n",
              "193581        1       1          1\n",
              "193583        1       1          1\n",
              "193585        1       1          1\n",
              "193587        1       1          1\n",
              "193609        1       1          1\n",
              "\n",
              "[9724 rows x 3 columns]"
            ],
            "text/html": [
              "\n",
              "  <div id=\"df-0beb3616-48e3-45dc-a567-c29aa681de8c\">\n",
              "    <div class=\"colab-df-container\">\n",
              "      <div>\n",
              "<style scoped>\n",
              "    .dataframe tbody tr th:only-of-type {\n",
              "        vertical-align: middle;\n",
              "    }\n",
              "\n",
              "    .dataframe tbody tr th {\n",
              "        vertical-align: top;\n",
              "    }\n",
              "\n",
              "    .dataframe thead th {\n",
              "        text-align: right;\n",
              "    }\n",
              "</style>\n",
              "<table border=\"1\" class=\"dataframe\">\n",
              "  <thead>\n",
              "    <tr style=\"text-align: right;\">\n",
              "      <th></th>\n",
              "      <th>userId</th>\n",
              "      <th>rating</th>\n",
              "      <th>timestamp</th>\n",
              "    </tr>\n",
              "    <tr>\n",
              "      <th>movieId</th>\n",
              "      <th></th>\n",
              "      <th></th>\n",
              "      <th></th>\n",
              "    </tr>\n",
              "  </thead>\n",
              "  <tbody>\n",
              "    <tr>\n",
              "      <th>1</th>\n",
              "      <td>215</td>\n",
              "      <td>215</td>\n",
              "      <td>215</td>\n",
              "    </tr>\n",
              "    <tr>\n",
              "      <th>2</th>\n",
              "      <td>110</td>\n",
              "      <td>110</td>\n",
              "      <td>110</td>\n",
              "    </tr>\n",
              "    <tr>\n",
              "      <th>3</th>\n",
              "      <td>52</td>\n",
              "      <td>52</td>\n",
              "      <td>52</td>\n",
              "    </tr>\n",
              "    <tr>\n",
              "      <th>4</th>\n",
              "      <td>7</td>\n",
              "      <td>7</td>\n",
              "      <td>7</td>\n",
              "    </tr>\n",
              "    <tr>\n",
              "      <th>5</th>\n",
              "      <td>49</td>\n",
              "      <td>49</td>\n",
              "      <td>49</td>\n",
              "    </tr>\n",
              "    <tr>\n",
              "      <th>...</th>\n",
              "      <td>...</td>\n",
              "      <td>...</td>\n",
              "      <td>...</td>\n",
              "    </tr>\n",
              "    <tr>\n",
              "      <th>193581</th>\n",
              "      <td>1</td>\n",
              "      <td>1</td>\n",
              "      <td>1</td>\n",
              "    </tr>\n",
              "    <tr>\n",
              "      <th>193583</th>\n",
              "      <td>1</td>\n",
              "      <td>1</td>\n",
              "      <td>1</td>\n",
              "    </tr>\n",
              "    <tr>\n",
              "      <th>193585</th>\n",
              "      <td>1</td>\n",
              "      <td>1</td>\n",
              "      <td>1</td>\n",
              "    </tr>\n",
              "    <tr>\n",
              "      <th>193587</th>\n",
              "      <td>1</td>\n",
              "      <td>1</td>\n",
              "      <td>1</td>\n",
              "    </tr>\n",
              "    <tr>\n",
              "      <th>193609</th>\n",
              "      <td>1</td>\n",
              "      <td>1</td>\n",
              "      <td>1</td>\n",
              "    </tr>\n",
              "  </tbody>\n",
              "</table>\n",
              "<p>9724 rows × 3 columns</p>\n",
              "</div>\n",
              "      <button class=\"colab-df-convert\" onclick=\"convertToInteractive('df-0beb3616-48e3-45dc-a567-c29aa681de8c')\"\n",
              "              title=\"Convert this dataframe to an interactive table.\"\n",
              "              style=\"display:none;\">\n",
              "        \n",
              "  <svg xmlns=\"http://www.w3.org/2000/svg\" height=\"24px\"viewBox=\"0 0 24 24\"\n",
              "       width=\"24px\">\n",
              "    <path d=\"M0 0h24v24H0V0z\" fill=\"none\"/>\n",
              "    <path d=\"M18.56 5.44l.94 2.06.94-2.06 2.06-.94-2.06-.94-.94-2.06-.94 2.06-2.06.94zm-11 1L8.5 8.5l.94-2.06 2.06-.94-2.06-.94L8.5 2.5l-.94 2.06-2.06.94zm10 10l.94 2.06.94-2.06 2.06-.94-2.06-.94-.94-2.06-.94 2.06-2.06.94z\"/><path d=\"M17.41 7.96l-1.37-1.37c-.4-.4-.92-.59-1.43-.59-.52 0-1.04.2-1.43.59L10.3 9.45l-7.72 7.72c-.78.78-.78 2.05 0 2.83L4 21.41c.39.39.9.59 1.41.59.51 0 1.02-.2 1.41-.59l7.78-7.78 2.81-2.81c.8-.78.8-2.07 0-2.86zM5.41 20L4 18.59l7.72-7.72 1.47 1.35L5.41 20z\"/>\n",
              "  </svg>\n",
              "      </button>\n",
              "      \n",
              "  <style>\n",
              "    .colab-df-container {\n",
              "      display:flex;\n",
              "      flex-wrap:wrap;\n",
              "      gap: 12px;\n",
              "    }\n",
              "\n",
              "    .colab-df-convert {\n",
              "      background-color: #E8F0FE;\n",
              "      border: none;\n",
              "      border-radius: 50%;\n",
              "      cursor: pointer;\n",
              "      display: none;\n",
              "      fill: #1967D2;\n",
              "      height: 32px;\n",
              "      padding: 0 0 0 0;\n",
              "      width: 32px;\n",
              "    }\n",
              "\n",
              "    .colab-df-convert:hover {\n",
              "      background-color: #E2EBFA;\n",
              "      box-shadow: 0px 1px 2px rgba(60, 64, 67, 0.3), 0px 1px 3px 1px rgba(60, 64, 67, 0.15);\n",
              "      fill: #174EA6;\n",
              "    }\n",
              "\n",
              "    [theme=dark] .colab-df-convert {\n",
              "      background-color: #3B4455;\n",
              "      fill: #D2E3FC;\n",
              "    }\n",
              "\n",
              "    [theme=dark] .colab-df-convert:hover {\n",
              "      background-color: #434B5C;\n",
              "      box-shadow: 0px 1px 3px 1px rgba(0, 0, 0, 0.15);\n",
              "      filter: drop-shadow(0px 1px 2px rgba(0, 0, 0, 0.3));\n",
              "      fill: #FFFFFF;\n",
              "    }\n",
              "  </style>\n",
              "\n",
              "      <script>\n",
              "        const buttonEl =\n",
              "          document.querySelector('#df-0beb3616-48e3-45dc-a567-c29aa681de8c button.colab-df-convert');\n",
              "        buttonEl.style.display =\n",
              "          google.colab.kernel.accessAllowed ? 'block' : 'none';\n",
              "\n",
              "        async function convertToInteractive(key) {\n",
              "          const element = document.querySelector('#df-0beb3616-48e3-45dc-a567-c29aa681de8c');\n",
              "          const dataTable =\n",
              "            await google.colab.kernel.invokeFunction('convertToInteractive',\n",
              "                                                     [key], {});\n",
              "          if (!dataTable) return;\n",
              "\n",
              "          const docLinkHtml = 'Like what you see? Visit the ' +\n",
              "            '<a target=\"_blank\" href=https://colab.research.google.com/notebooks/data_table.ipynb>data table notebook</a>'\n",
              "            + ' to learn more about interactive tables.';\n",
              "          element.innerHTML = '';\n",
              "          dataTable['output_type'] = 'display_data';\n",
              "          await google.colab.output.renderOutput(dataTable, element);\n",
              "          const docLink = document.createElement('div');\n",
              "          docLink.innerHTML = docLinkHtml;\n",
              "          element.appendChild(docLink);\n",
              "        }\n",
              "      </script>\n",
              "    </div>\n",
              "  </div>\n",
              "  "
            ]
          },
          "metadata": {},
          "execution_count": 18
        }
      ]
    },
    {
      "cell_type": "code",
      "source": [
        "quantidade_de_votos_por_filme = notas.groupby('movieId').count()\n",
        "quantidade_de_votos_por_filme.query('rating >=10')"
      ],
      "metadata": {
        "colab": {
          "base_uri": "https://localhost:8080/",
          "height": 0
        },
        "id": "Amm0xy3qiOQB",
        "outputId": "561aecd7-5b50-451d-da78-3226f2cfa661"
      },
      "execution_count": 19,
      "outputs": [
        {
          "output_type": "execute_result",
          "data": {
            "text/plain": [
              "         userId  rating  timestamp\n",
              "movieId                           \n",
              "1           215     215        215\n",
              "2           110     110        110\n",
              "3            52      52         52\n",
              "5            49      49         49\n",
              "6           102     102        102\n",
              "...         ...     ...        ...\n",
              "174055       13      13         13\n",
              "176371       18      18         18\n",
              "177765       13      13         13\n",
              "179819       12      12         12\n",
              "187593       12      12         12\n",
              "\n",
              "[2269 rows x 3 columns]"
            ],
            "text/html": [
              "\n",
              "  <div id=\"df-02417ac6-183a-4bd2-a7c1-b7e94b15cfcb\">\n",
              "    <div class=\"colab-df-container\">\n",
              "      <div>\n",
              "<style scoped>\n",
              "    .dataframe tbody tr th:only-of-type {\n",
              "        vertical-align: middle;\n",
              "    }\n",
              "\n",
              "    .dataframe tbody tr th {\n",
              "        vertical-align: top;\n",
              "    }\n",
              "\n",
              "    .dataframe thead th {\n",
              "        text-align: right;\n",
              "    }\n",
              "</style>\n",
              "<table border=\"1\" class=\"dataframe\">\n",
              "  <thead>\n",
              "    <tr style=\"text-align: right;\">\n",
              "      <th></th>\n",
              "      <th>userId</th>\n",
              "      <th>rating</th>\n",
              "      <th>timestamp</th>\n",
              "    </tr>\n",
              "    <tr>\n",
              "      <th>movieId</th>\n",
              "      <th></th>\n",
              "      <th></th>\n",
              "      <th></th>\n",
              "    </tr>\n",
              "  </thead>\n",
              "  <tbody>\n",
              "    <tr>\n",
              "      <th>1</th>\n",
              "      <td>215</td>\n",
              "      <td>215</td>\n",
              "      <td>215</td>\n",
              "    </tr>\n",
              "    <tr>\n",
              "      <th>2</th>\n",
              "      <td>110</td>\n",
              "      <td>110</td>\n",
              "      <td>110</td>\n",
              "    </tr>\n",
              "    <tr>\n",
              "      <th>3</th>\n",
              "      <td>52</td>\n",
              "      <td>52</td>\n",
              "      <td>52</td>\n",
              "    </tr>\n",
              "    <tr>\n",
              "      <th>5</th>\n",
              "      <td>49</td>\n",
              "      <td>49</td>\n",
              "      <td>49</td>\n",
              "    </tr>\n",
              "    <tr>\n",
              "      <th>6</th>\n",
              "      <td>102</td>\n",
              "      <td>102</td>\n",
              "      <td>102</td>\n",
              "    </tr>\n",
              "    <tr>\n",
              "      <th>...</th>\n",
              "      <td>...</td>\n",
              "      <td>...</td>\n",
              "      <td>...</td>\n",
              "    </tr>\n",
              "    <tr>\n",
              "      <th>174055</th>\n",
              "      <td>13</td>\n",
              "      <td>13</td>\n",
              "      <td>13</td>\n",
              "    </tr>\n",
              "    <tr>\n",
              "      <th>176371</th>\n",
              "      <td>18</td>\n",
              "      <td>18</td>\n",
              "      <td>18</td>\n",
              "    </tr>\n",
              "    <tr>\n",
              "      <th>177765</th>\n",
              "      <td>13</td>\n",
              "      <td>13</td>\n",
              "      <td>13</td>\n",
              "    </tr>\n",
              "    <tr>\n",
              "      <th>179819</th>\n",
              "      <td>12</td>\n",
              "      <td>12</td>\n",
              "      <td>12</td>\n",
              "    </tr>\n",
              "    <tr>\n",
              "      <th>187593</th>\n",
              "      <td>12</td>\n",
              "      <td>12</td>\n",
              "      <td>12</td>\n",
              "    </tr>\n",
              "  </tbody>\n",
              "</table>\n",
              "<p>2269 rows × 3 columns</p>\n",
              "</div>\n",
              "      <button class=\"colab-df-convert\" onclick=\"convertToInteractive('df-02417ac6-183a-4bd2-a7c1-b7e94b15cfcb')\"\n",
              "              title=\"Convert this dataframe to an interactive table.\"\n",
              "              style=\"display:none;\">\n",
              "        \n",
              "  <svg xmlns=\"http://www.w3.org/2000/svg\" height=\"24px\"viewBox=\"0 0 24 24\"\n",
              "       width=\"24px\">\n",
              "    <path d=\"M0 0h24v24H0V0z\" fill=\"none\"/>\n",
              "    <path d=\"M18.56 5.44l.94 2.06.94-2.06 2.06-.94-2.06-.94-.94-2.06-.94 2.06-2.06.94zm-11 1L8.5 8.5l.94-2.06 2.06-.94-2.06-.94L8.5 2.5l-.94 2.06-2.06.94zm10 10l.94 2.06.94-2.06 2.06-.94-2.06-.94-.94-2.06-.94 2.06-2.06.94z\"/><path d=\"M17.41 7.96l-1.37-1.37c-.4-.4-.92-.59-1.43-.59-.52 0-1.04.2-1.43.59L10.3 9.45l-7.72 7.72c-.78.78-.78 2.05 0 2.83L4 21.41c.39.39.9.59 1.41.59.51 0 1.02-.2 1.41-.59l7.78-7.78 2.81-2.81c.8-.78.8-2.07 0-2.86zM5.41 20L4 18.59l7.72-7.72 1.47 1.35L5.41 20z\"/>\n",
              "  </svg>\n",
              "      </button>\n",
              "      \n",
              "  <style>\n",
              "    .colab-df-container {\n",
              "      display:flex;\n",
              "      flex-wrap:wrap;\n",
              "      gap: 12px;\n",
              "    }\n",
              "\n",
              "    .colab-df-convert {\n",
              "      background-color: #E8F0FE;\n",
              "      border: none;\n",
              "      border-radius: 50%;\n",
              "      cursor: pointer;\n",
              "      display: none;\n",
              "      fill: #1967D2;\n",
              "      height: 32px;\n",
              "      padding: 0 0 0 0;\n",
              "      width: 32px;\n",
              "    }\n",
              "\n",
              "    .colab-df-convert:hover {\n",
              "      background-color: #E2EBFA;\n",
              "      box-shadow: 0px 1px 2px rgba(60, 64, 67, 0.3), 0px 1px 3px 1px rgba(60, 64, 67, 0.15);\n",
              "      fill: #174EA6;\n",
              "    }\n",
              "\n",
              "    [theme=dark] .colab-df-convert {\n",
              "      background-color: #3B4455;\n",
              "      fill: #D2E3FC;\n",
              "    }\n",
              "\n",
              "    [theme=dark] .colab-df-convert:hover {\n",
              "      background-color: #434B5C;\n",
              "      box-shadow: 0px 1px 3px 1px rgba(0, 0, 0, 0.15);\n",
              "      filter: drop-shadow(0px 1px 2px rgba(0, 0, 0, 0.3));\n",
              "      fill: #FFFFFF;\n",
              "    }\n",
              "  </style>\n",
              "\n",
              "      <script>\n",
              "        const buttonEl =\n",
              "          document.querySelector('#df-02417ac6-183a-4bd2-a7c1-b7e94b15cfcb button.colab-df-convert');\n",
              "        buttonEl.style.display =\n",
              "          google.colab.kernel.accessAllowed ? 'block' : 'none';\n",
              "\n",
              "        async function convertToInteractive(key) {\n",
              "          const element = document.querySelector('#df-02417ac6-183a-4bd2-a7c1-b7e94b15cfcb');\n",
              "          const dataTable =\n",
              "            await google.colab.kernel.invokeFunction('convertToInteractive',\n",
              "                                                     [key], {});\n",
              "          if (!dataTable) return;\n",
              "\n",
              "          const docLinkHtml = 'Like what you see? Visit the ' +\n",
              "            '<a target=\"_blank\" href=https://colab.research.google.com/notebooks/data_table.ipynb>data table notebook</a>'\n",
              "            + ' to learn more about interactive tables.';\n",
              "          element.innerHTML = '';\n",
              "          dataTable['output_type'] = 'display_data';\n",
              "          await google.colab.output.renderOutput(dataTable, element);\n",
              "          const docLink = document.createElement('div');\n",
              "          docLink.innerHTML = docLinkHtml;\n",
              "          element.appendChild(docLink);\n",
              "        }\n",
              "      </script>\n",
              "    </div>\n",
              "  </div>\n",
              "  "
            ]
          },
          "metadata": {},
          "execution_count": 19
        }
      ]
    },
    {
      "cell_type": "code",
      "source": [
        "filmes_com_pelo_menos_10_votos = quantidade_de_votos_por_filme.query('rating >=10').index\n",
        "filmes_com_pelo_menos_10_votos"
      ],
      "metadata": {
        "colab": {
          "base_uri": "https://localhost:8080/"
        },
        "id": "Q_9fLbSoic5j",
        "outputId": "b0d2000e-6677-46c6-8acd-dd182ead6fe9"
      },
      "execution_count": 20,
      "outputs": [
        {
          "output_type": "execute_result",
          "data": {
            "text/plain": [
              "Int64Index([     1,      2,      3,      5,      6,      7,      9,     10,\n",
              "                11,     12,\n",
              "            ...\n",
              "            166461, 166528, 166643, 168250, 168252, 174055, 176371, 177765,\n",
              "            179819, 187593],\n",
              "           dtype='int64', name='movieId', length=2269)"
            ]
          },
          "metadata": {},
          "execution_count": 20
        }
      ]
    },
    {
      "cell_type": "code",
      "source": [
        "filmes_com_pelo_menos_10_votos = quantidade_de_votos_por_filme.query('rating >=10').index\n",
        "filmes_com_pelo_menos_10_votos.values"
      ],
      "metadata": {
        "colab": {
          "base_uri": "https://localhost:8080/"
        },
        "id": "F8MmqM5IivbK",
        "outputId": "5d6963c8-9600-451c-89e2-738b45fb4fe6"
      },
      "execution_count": 21,
      "outputs": [
        {
          "output_type": "execute_result",
          "data": {
            "text/plain": [
              "array([     1,      2,      3, ..., 177765, 179819, 187593])"
            ]
          },
          "metadata": {},
          "execution_count": 21
        }
      ]
    },
    {
      "cell_type": "code",
      "source": [
        "nota_media_por_filme"
      ],
      "metadata": {
        "colab": {
          "base_uri": "https://localhost:8080/"
        },
        "id": "23f814JNi9UK",
        "outputId": "b388486b-cbb2-4d5f-8615-1b7c7f807ab8"
      },
      "execution_count": 22,
      "outputs": [
        {
          "output_type": "execute_result",
          "data": {
            "text/plain": [
              "movieId\n",
              "1         3.920930\n",
              "2         3.431818\n",
              "3         3.259615\n",
              "4         2.357143\n",
              "5         3.071429\n",
              "            ...   \n",
              "193581    4.000000\n",
              "193583    3.500000\n",
              "193585    3.500000\n",
              "193587    3.500000\n",
              "193609    4.000000\n",
              "Name: rating, Length: 9724, dtype: float64"
            ]
          },
          "metadata": {},
          "execution_count": 22
        }
      ]
    },
    {
      "cell_type": "code",
      "source": [
        "nota_media_por_filme.loc[5]"
      ],
      "metadata": {
        "colab": {
          "base_uri": "https://localhost:8080/"
        },
        "id": "8W9P4VCCjJgB",
        "outputId": "6d3a45d6-47bf-4ced-aa39-b8da9b313ae6"
      },
      "execution_count": 23,
      "outputs": [
        {
          "output_type": "execute_result",
          "data": {
            "text/plain": [
              "3.0714285714285716"
            ]
          },
          "metadata": {},
          "execution_count": 23
        }
      ]
    },
    {
      "cell_type": "code",
      "source": [
        "nota_media_por_filme.loc[[1,3,5]]"
      ],
      "metadata": {
        "colab": {
          "base_uri": "https://localhost:8080/"
        },
        "id": "KxHMKsCNjQXb",
        "outputId": "c95b376c-0162-4df8-ec65-fa2063acf03d"
      },
      "execution_count": 24,
      "outputs": [
        {
          "output_type": "execute_result",
          "data": {
            "text/plain": [
              "movieId\n",
              "1    3.920930\n",
              "3    3.259615\n",
              "5    3.071429\n",
              "Name: rating, dtype: float64"
            ]
          },
          "metadata": {},
          "execution_count": 24
        }
      ]
    },
    {
      "cell_type": "code",
      "source": [
        "nota_media_por_filme.loc[filmes_com_pelo_menos_10_votos]"
      ],
      "metadata": {
        "colab": {
          "base_uri": "https://localhost:8080/"
        },
        "id": "0vRgct7gjd0C",
        "outputId": "ecd65f7b-4af3-475c-d05d-b42360997c1f"
      },
      "execution_count": 25,
      "outputs": [
        {
          "output_type": "execute_result",
          "data": {
            "text/plain": [
              "movieId\n",
              "1         3.920930\n",
              "2         3.431818\n",
              "3         3.259615\n",
              "5         3.071429\n",
              "6         3.946078\n",
              "            ...   \n",
              "174055    3.423077\n",
              "176371    3.805556\n",
              "177765    3.538462\n",
              "179819    3.125000\n",
              "187593    3.875000\n",
              "Name: rating, Length: 2269, dtype: float64"
            ]
          },
          "metadata": {},
          "execution_count": 25
        }
      ]
    },
    {
      "cell_type": "code",
      "source": [
        "nota_media_dos_filmes_com_pelo_menos_10_votos = nota_media_por_filme.loc[filmes_com_pelo_menos_10_votos]\n",
        "nota_media_dos_filmes_com_pelo_menos_10_votos.head()"
      ],
      "metadata": {
        "colab": {
          "base_uri": "https://localhost:8080/"
        },
        "id": "ffRg4kFIji4a",
        "outputId": "323882cd-cee6-4cbe-a1b2-f7dff7cf7a8d"
      },
      "execution_count": 26,
      "outputs": [
        {
          "output_type": "execute_result",
          "data": {
            "text/plain": [
              "movieId\n",
              "1    3.920930\n",
              "2    3.431818\n",
              "3    3.259615\n",
              "5    3.071429\n",
              "6    3.946078\n",
              "Name: rating, dtype: float64"
            ]
          },
          "metadata": {},
          "execution_count": 26
        }
      ]
    },
    {
      "cell_type": "code",
      "source": [
        "ax = sns.distplot(nota_media_dos_filmes_com_pelo_menos_10_votos.values)\n",
        "ax.set(xlabel = 'Nota média', ylabel = 'Densidade')\n",
        "ax.set_title('Média de votos em filmes no Movielens 100 mil com pelo menos 10 ou mais votos')"
      ],
      "metadata": {
        "colab": {
          "base_uri": "https://localhost:8080/",
          "height": 0
        },
        "id": "ogxRKgk6jq6z",
        "outputId": "1a9a0a9e-9055-4cf4-d425-78a12369ae81"
      },
      "execution_count": 27,
      "outputs": [
        {
          "output_type": "stream",
          "name": "stderr",
          "text": [
            "/usr/local/lib/python3.8/dist-packages/seaborn/distributions.py:2619: FutureWarning: `distplot` is a deprecated function and will be removed in a future version. Please adapt your code to use either `displot` (a figure-level function with similar flexibility) or `histplot` (an axes-level function for histograms).\n",
            "  warnings.warn(msg, FutureWarning)\n"
          ]
        },
        {
          "output_type": "execute_result",
          "data": {
            "text/plain": [
              "Text(0.5, 1.0, 'Média de votos em filmes no Movielens 100 mil com pelo menos 10 ou mais votos')"
            ]
          },
          "metadata": {},
          "execution_count": 27
        },
        {
          "output_type": "display_data",
          "data": {
            "text/plain": [
              "<Figure size 432x288 with 1 Axes>"
            ],
            "image/png": "[encoded data removed]"
          },
          "metadata": {
            "needs_background": "light"
          }
        }
      ]
    },
    {
      "cell_type": "code",
      "source": [
        "ax = sns.boxplot(nota_media_dos_filmes_com_pelo_menos_10_votos.values)\n",
        "ax.set_title('Distribuição de nota média dos filmes do Movielens 100 mil dentre os filmes com 10 ou mais votos')\n",
        "ax.set(xlabel = 'Nota média do filme')"
      ],
      "metadata": {
        "colab": {
          "base_uri": "https://localhost:8080/",
          "height": 0
        },
        "id": "jSpniWXVj49j",
        "outputId": "5aa9ddad-8c01-476e-e3b9-e9192bde4190"
      },
      "execution_count": 28,
      "outputs": [
        {
          "output_type": "stream",
          "name": "stderr",
          "text": [
            "/usr/local/lib/python3.8/dist-packages/seaborn/_decorators.py:36: FutureWarning: Pass the following variable as a keyword arg: x. From version 0.12, the only valid positional argument will be `data`, and passing other arguments without an explicit keyword will result in an error or misinterpretation.\n",
            "  warnings.warn(\n"
          ]
        },
        {
          "output_type": "execute_result",
          "data": {
            "text/plain": [
              "[Text(0.5, 0, 'Nota média do filme')]"
            ]
          },
          "metadata": {},
          "execution_count": 28
        },
        {
          "output_type": "display_data",
          "data": {
            "text/plain": [
              "<Figure size 432x288 with 1 Axes>"
            ],
            "image/png": "[encoded data removed]"
          },
          "metadata": {
            "needs_background": "light"
          }
        }
      ]
    },
    {
      "cell_type": "markdown",
      "source": [
        "## 0.3 Visualizando a CDF"
      ],
      "metadata": {
        "id": "0uETfpmzlQQB"
      }
    },
    {
      "cell_type": "code",
      "source": [
        "ax = sns.distplot(nota_media_dos_filmes_com_pelo_menos_10_votos.values, \n",
        "                  hist_kws = {'cumulative': True},\n",
        "                  kde_kws = {'cumulative': True})\n",
        "ax.set(xlabel = 'Nota média', ylabel = '% Acumuluda de filmes')\n",
        "ax.set_title('Média de votos em filmes no Movielens 100 mil com pelo menos 10 ou mais votos')"
      ],
      "metadata": {
        "colab": {
          "base_uri": "https://localhost:8080/",
          "height": 0
        },
        "id": "RxHDlg9dkUHU",
        "outputId": "9bc79985-2603-46e1-917f-e6694739ebeb"
      },
      "execution_count": 29,
      "outputs": [
        {
          "output_type": "stream",
          "name": "stderr",
          "text": [
            "/usr/local/lib/python3.8/dist-packages/seaborn/distributions.py:2619: FutureWarning: `distplot` is a deprecated function and will be removed in a future version. Please adapt your code to use either `displot` (a figure-level function with similar flexibility) or `histplot` (an axes-level function for histograms).\n",
            "  warnings.warn(msg, FutureWarning)\n"
          ]
        },
        {
          "output_type": "execute_result",
          "data": {
            "text/plain": [
              "Text(0.5, 1.0, 'Média de votos em filmes no Movielens 100 mil com pelo menos 10 ou mais votos')"
            ]
          },
          "metadata": {},
          "execution_count": 29
        },
        {
          "output_type": "display_data",
          "data": {
            "text/plain": [
              "<Figure size 432x288 with 1 Axes>"
            ],
            "image/png": "[encoded data removed]"
          },
          "metadata": {
            "needs_background": "light"
          }
        }
      ]
    },
    {
      "cell_type": "code",
      "source": [
        "ax = sns.distplot(tmdb_com_mais_de_10_votos.vote_average, \n",
        "                  hist_kws = {'cumulative': True},\n",
        "                  kde_kws = {'cumulative': True})\n",
        "ax.set(xlabel = 'Nota média', ylabel = '% Acumuluda de filmes')\n",
        "ax.set_title('Média de votos em filmes no TMDB 5000 com pelo menos 10 ou mais votos')"
      ],
      "metadata": {
        "colab": {
          "base_uri": "https://localhost:8080/",
          "height": 0
        },
        "id": "YPXOnI9Rnu1I",
        "outputId": "f41113f1-82be-446f-f1ff-d58f1dbf5dbe"
      },
      "execution_count": 30,
      "outputs": [
        {
          "output_type": "stream",
          "name": "stderr",
          "text": [
            "/usr/local/lib/python3.8/dist-packages/seaborn/distributions.py:2619: FutureWarning: `distplot` is a deprecated function and will be removed in a future version. Please adapt your code to use either `displot` (a figure-level function with similar flexibility) or `histplot` (an axes-level function for histograms).\n",
            "  warnings.warn(msg, FutureWarning)\n"
          ]
        },
        {
          "output_type": "execute_result",
          "data": {
            "text/plain": [
              "Text(0.5, 1.0, 'Média de votos em filmes no TMDB 5000 com pelo menos 10 ou mais votos')"
            ]
          },
          "metadata": {},
          "execution_count": 30
        },
        {
          "output_type": "display_data",
          "data": {
            "text/plain": [
              "<Figure size 432x288 with 1 Axes>"
            ],
            "image/png": "[encoded data removed]"
          },
          "metadata": {
            "needs_background": "light"
          }
        }
      ]
    },
    {
      "cell_type": "markdown",
      "source": [
        "# Aula 02\n",
        "\n",
        "## 0.1 Visualizando outras informações e quantis quaisquer de forma numérica"
      ],
      "metadata": {
        "id": "M7Q36dTLokeM"
      }
    },
    {
      "cell_type": "markdown",
      "source": [
        "Analisando a distribuição dos dados capturados de outros campos do TMDB"
      ],
      "metadata": {
        "id": "61jcfVY_p86P"
      }
    },
    {
      "cell_type": "code",
      "source": [
        "tmdb_com_mais_de_10_votos.head()"
      ],
      "metadata": {
        "colab": {
          "base_uri": "https://localhost:8080/",
          "height": 0
        },
        "id": "tEgTZjwPn7Or",
        "outputId": "661f689f-e828-434c-fb52-6005c996ff9d"
      },
      "execution_count": 31,
      "outputs": [
        {
          "output_type": "execute_result",
          "data": {
            "text/plain": [
              "      budget                                             genres  \\\n",
              "0  237000000  [{\"id\": 28, \"name\": \"Action\"}, {\"id\": 12, \"nam...   \n",
              "1  300000000  [{\"id\": 12, \"name\": \"Adventure\"}, {\"id\": 14, \"...   \n",
              "2  245000000  [{\"id\": 28, \"name\": \"Action\"}, {\"id\": 12, \"nam...   \n",
              "3  250000000  [{\"id\": 28, \"name\": \"Action\"}, {\"id\": 80, \"nam...   \n",
              "4  260000000  [{\"id\": 28, \"name\": \"Action\"}, {\"id\": 12, \"nam...   \n",
              "\n",
              "                                       homepage      id  \\\n",
              "0                   http://www.avatarmovie.com/   19995   \n",
              "1  http://disney.go.com/disneypictures/pirates/     285   \n",
              "2   http://www.sonypictures.com/movies/spectre/  206647   \n",
              "3            http://www.thedarkknightrises.com/   49026   \n",
              "4          http://movies.disney.com/john-carter   49529   \n",
              "\n",
              "                                            keywords original_language  \\\n",
              "0  [{\"id\": 1463, \"name\": \"culture clash\"}, {\"id\":...                en   \n",
              "1  [{\"id\": 270, \"name\": \"ocean\"}, {\"id\": 726, \"na...                en   \n",
              "2  [{\"id\": 470, \"name\": \"spy\"}, {\"id\": 818, \"name...                en   \n",
              "3  [{\"id\": 849, \"name\": \"dc comics\"}, {\"id\": 853,...                en   \n",
              "4  [{\"id\": 818, \"name\": \"based on novel\"}, {\"id\":...                en   \n",
              "\n",
              "                             original_title  \\\n",
              "0                                    Avatar   \n",
              "1  Pirates of the Caribbean: At World's End   \n",
              "2                                   Spectre   \n",
              "3                     The Dark Knight Rises   \n",
              "4                               John Carter   \n",
              "\n",
              "                                            overview  popularity  \\\n",
              "0  In the 22nd century, a paraplegic Marine is di...  150.437577   \n",
              "1  Captain Barbossa, long believed to be dead, ha...  139.082615   \n",
              "2  A cryptic message from Bond’s past sends him o...  107.376788   \n",
              "3  Following the death of District Attorney Harve...  112.312950   \n",
              "4  John Carter is a war-weary, former military ca...   43.926995   \n",
              "\n",
              "                                production_companies  \\\n",
              "0  [{\"name\": \"Ingenious Film Partners\", \"id\": 289...   \n",
              "1  [{\"name\": \"Walt Disney Pictures\", \"id\": 2}, {\"...   \n",
              "2  [{\"name\": \"Columbia Pictures\", \"id\": 5}, {\"nam...   \n",
              "3  [{\"name\": \"Legendary Pictures\", \"id\": 923}, {\"...   \n",
              "4        [{\"name\": \"Walt Disney Pictures\", \"id\": 2}]   \n",
              "\n",
              "                                production_countries release_date     revenue  \\\n",
              "0  [{\"iso_3166_1\": \"US\", \"name\": \"United States o...   2009-12-10  2787965087   \n",
              "1  [{\"iso_3166_1\": \"US\", \"name\": \"United States o...   2007-05-19   961000000   \n",
              "2  [{\"iso_3166_1\": \"GB\", \"name\": \"United Kingdom\"...   2015-10-26   880674609   \n",
              "3  [{\"iso_3166_1\": \"US\", \"name\": \"United States o...   2012-07-16  1084939099   \n",
              "4  [{\"iso_3166_1\": \"US\", \"name\": \"United States o...   2012-03-07   284139100   \n",
              "\n",
              "   runtime                                   spoken_languages    status  \\\n",
              "0    162.0  [{\"iso_639_1\": \"en\", \"name\": \"English\"}, {\"iso...  Released   \n",
              "1    169.0           [{\"iso_639_1\": \"en\", \"name\": \"English\"}]  Released   \n",
              "2    148.0  [{\"iso_639_1\": \"fr\", \"name\": \"Fran\\u00e7ais\"},...  Released   \n",
              "3    165.0           [{\"iso_639_1\": \"en\", \"name\": \"English\"}]  Released   \n",
              "4    132.0           [{\"iso_639_1\": \"en\", \"name\": \"English\"}]  Released   \n",
              "\n",
              "                                          tagline  \\\n",
              "0                     Enter the World of Pandora.   \n",
              "1  At the end of the world, the adventure begins.   \n",
              "2                           A Plan No One Escapes   \n",
              "3                                 The Legend Ends   \n",
              "4            Lost in our world, found in another.   \n",
              "\n",
              "                                      title  vote_average  vote_count  \n",
              "0                                    Avatar           7.2       11800  \n",
              "1  Pirates of the Caribbean: At World's End           6.9        4500  \n",
              "2                                   Spectre           6.3        4466  \n",
              "3                     The Dark Knight Rises           7.6        9106  \n",
              "4                               John Carter           6.1        2124  "
            ],
            "text/html": [
              "\n",
              "  <div id=\"df-c2d8efea-87c6-472e-bd87-44e207495963\">\n",
              "    <div class=\"colab-df-container\">\n",
              "      <div>\n",
              "<style scoped>\n",
              "    .dataframe tbody tr th:only-of-type {\n",
              "        vertical-align: middle;\n",
              "    }\n",
              "\n",
              "    .dataframe tbody tr th {\n",
              "        vertical-align: top;\n",
              "    }\n",
              "\n",
              "    .dataframe thead th {\n",
              "        text-align: right;\n",
              "    }\n",
              "</style>\n",
              "<table border=\"1\" class=\"dataframe\">\n",
              "  <thead>\n",
              "    <tr style=\"text-align: right;\">\n",
              "      <th></th>\n",
              "      <th>budget</th>\n",
              "      <th>genres</th>\n",
              "      <th>homepage</th>\n",
              "      <th>id</th>\n",
              "      <th>keywords</th>\n",
              "      <th>original_language</th>\n",
              "      <th>original_title</th>\n",
              "      <th>overview</th>\n",
              "      <th>popularity</th>\n",
              "      <th>production_companies</th>\n",
              "      <th>production_countries</th>\n",
              "      <th>release_date</th>\n",
              "      <th>revenue</th>\n",
              "      <th>runtime</th>\n",
              "      <th>spoken_languages</th>\n",
              "      <th>status</th>\n",
              "      <th>tagline</th>\n",
              "      <th>title</th>\n",
              "      <th>vote_average</th>\n",
              "      <th>vote_count</th>\n",
              "    </tr>\n",
              "  </thead>\n",
              "  <tbody>\n",
              "    <tr>\n",
              "      <th>0</th>\n",
              "      <td>237000000</td>\n",
              "      <td>[{\"id\": 28, \"name\": \"Action\"}, {\"id\": 12, \"nam...</td>\n",
              "      <td>http://www.avatarmovie.com/</td>\n",
              "      <td>19995</td>\n",
              "      <td>[{\"id\": 1463, \"name\": \"culture clash\"}, {\"id\":...</td>\n",
              "      <td>en</td>\n",
              "      <td>Avatar</td>\n",
              "      <td>In the 22nd century, a paraplegic Marine is di...</td>\n",
              "      <td>150.437577</td>\n",
              "      <td>[{\"name\": \"Ingenious Film Partners\", \"id\": 289...</td>\n",
              "      <td>[{\"iso_3166_1\": \"US\", \"name\": \"United States o...</td>\n",
              "      <td>2009-12-10</td>\n",
              "      <td>2787965087</td>\n",
              "      <td>162.0</td>\n",
              "      <td>[{\"iso_639_1\": \"en\", \"name\": \"English\"}, {\"iso...</td>\n",
              "      <td>Released</td>\n",
              "      <td>Enter the World of Pandora.</td>\n",
              "      <td>Avatar</td>\n",
              "      <td>7.2</td>\n",
              "      <td>11800</td>\n",
              "    </tr>\n",
              "    <tr>\n",
              "      <th>1</th>\n",
              "      <td>300000000</td>\n",
              "      <td>[{\"id\": 12, \"name\": \"Adventure\"}, {\"id\": 14, \"...</td>\n",
              "      <td>http://disney.go.com/disneypictures/pirates/</td>\n",
              "      <td>285</td>\n",
              "      <td>[{\"id\": 270, \"name\": \"ocean\"}, {\"id\": 726, \"na...</td>\n",
              "      <td>en</td>\n",
              "      <td>Pirates of the Caribbean: At World's End</td>\n",
              "      <td>Captain Barbossa, long believed to be dead, ha...</td>\n",
              "      <td>139.082615</td>\n",
              "      <td>[{\"name\": \"Walt Disney Pictures\", \"id\": 2}, {\"...</td>\n",
              "      <td>[{\"iso_3166_1\": \"US\", \"name\": \"United States o...</td>\n",
              "      <td>2007-05-19</td>\n",
              "      <td>961000000</td>\n",
              "      <td>169.0</td>\n",
              "      <td>[{\"iso_639_1\": \"en\", \"name\": \"English\"}]</td>\n",
              "      <td>Released</td>\n",
              "      <td>At the end of the world, the adventure begins.</td>\n",
              "      <td>Pirates of the Caribbean: At World's End</td>\n",
              "      <td>6.9</td>\n",
              "      <td>4500</td>\n",
              "    </tr>\n",
              "    <tr>\n",
              "      <th>2</th>\n",
              "      <td>245000000</td>\n",
              "      <td>[{\"id\": 28, \"name\": \"Action\"}, {\"id\": 12, \"nam...</td>\n",
              "      <td>http://www.sonypictures.com/movies/spectre/</td>\n",
              "      <td>206647</td>\n",
              "      <td>[{\"id\": 470, \"name\": \"spy\"}, {\"id\": 818, \"name...</td>\n",
              "      <td>en</td>\n",
              "      <td>Spectre</td>\n",
              "      <td>A cryptic message from Bond’s past sends him o...</td>\n",
              "      <td>107.376788</td>\n",
              "      <td>[{\"name\": \"Columbia Pictures\", \"id\": 5}, {\"nam...</td>\n",
              "      <td>[{\"iso_3166_1\": \"GB\", \"name\": \"United Kingdom\"...</td>\n",
              "      <td>2015-10-26</td>\n",
              "      <td>880674609</td>\n",
              "      <td>148.0</td>\n",
              "      <td>[{\"iso_639_1\": \"fr\", \"name\": \"Fran\\u00e7ais\"},...</td>\n",
              "      <td>Released</td>\n",
              "      <td>A Plan No One Escapes</td>\n",
              "      <td>Spectre</td>\n",
              "      <td>6.3</td>\n",
              "      <td>4466</td>\n",
              "    </tr>\n",
              "    <tr>\n",
              "      <th>3</th>\n",
              "      <td>250000000</td>\n",
              "      <td>[{\"id\": 28, \"name\": \"Action\"}, {\"id\": 80, \"nam...</td>\n",
              "      <td>http://www.thedarkknightrises.com/</td>\n",
              "      <td>49026</td>\n",
              "      <td>[{\"id\": 849, \"name\": \"dc comics\"}, {\"id\": 853,...</td>\n",
              "      <td>en</td>\n",
              "      <td>The Dark Knight Rises</td>\n",
              "      <td>Following the death of District Attorney Harve...</td>\n",
              "      <td>112.312950</td>\n",
              "      <td>[{\"name\": \"Legendary Pictures\", \"id\": 923}, {\"...</td>\n",
              "      <td>[{\"iso_3166_1\": \"US\", \"name\": \"United States o...</td>\n",
              "      <td>2012-07-16</td>\n",
              "      <td>1084939099</td>\n",
              "      <td>165.0</td>\n",
              "      <td>[{\"iso_639_1\": \"en\", \"name\": \"English\"}]</td>\n",
              "      <td>Released</td>\n",
              "      <td>The Legend Ends</td>\n",
              "      <td>The Dark Knight Rises</td>\n",
              "      <td>7.6</td>\n",
              "      <td>9106</td>\n",
              "    </tr>\n",
              "    <tr>\n",
              "      <th>4</th>\n",
              "      <td>260000000</td>\n",
              "      <td>[{\"id\": 28, \"name\": \"Action\"}, {\"id\": 12, \"nam...</td>\n",
              "      <td>http://movies.disney.com/john-carter</td>\n",
              "      <td>49529</td>\n",
              "      <td>[{\"id\": 818, \"name\": \"based on novel\"}, {\"id\":...</td>\n",
              "      <td>en</td>\n",
              "      <td>John Carter</td>\n",
              "      <td>John Carter is a war-weary, former military ca...</td>\n",
              "      <td>43.926995</td>\n",
              "      <td>[{\"name\": \"Walt Disney Pictures\", \"id\": 2}]</td>\n",
              "      <td>[{\"iso_3166_1\": \"US\", \"name\": \"United States o...</td>\n",
              "      <td>2012-03-07</td>\n",
              "      <td>284139100</td>\n",
              "      <td>132.0</td>\n",
              "      <td>[{\"iso_639_1\": \"en\", \"name\": \"English\"}]</td>\n",
              "      <td>Released</td>\n",
              "      <td>Lost in our world, found in another.</td>\n",
              "      <td>John Carter</td>\n",
              "      <td>6.1</td>\n",
              "      <td>2124</td>\n",
              "    </tr>\n",
              "  </tbody>\n",
              "</table>\n",
              "</div>\n",
              "      <button class=\"colab-df-convert\" onclick=\"convertToInteractive('df-c2d8efea-87c6-472e-bd87-44e207495963')\"\n",
              "              title=\"Convert this dataframe to an interactive table.\"\n",
              "              style=\"display:none;\">\n",
              "        \n",
              "  <svg xmlns=\"http://www.w3.org/2000/svg\" height=\"24px\"viewBox=\"0 0 24 24\"\n",
              "       width=\"24px\">\n",
              "    <path d=\"M0 0h24v24H0V0z\" fill=\"none\"/>\n",
              "    <path d=\"M18.56 5.44l.94 2.06.94-2.06 2.06-.94-2.06-.94-.94-2.06-.94 2.06-2.06.94zm-11 1L8.5 8.5l.94-2.06 2.06-.94-2.06-.94L8.5 2.5l-.94 2.06-2.06.94zm10 10l.94 2.06.94-2.06 2.06-.94-2.06-.94-.94-2.06-.94 2.06-2.06.94z\"/><path d=\"M17.41 7.96l-1.37-1.37c-.4-.4-.92-.59-1.43-.59-.52 0-1.04.2-1.43.59L10.3 9.45l-7.72 7.72c-.78.78-.78 2.05 0 2.83L4 21.41c.39.39.9.59 1.41.59.51 0 1.02-.2 1.41-.59l7.78-7.78 2.81-2.81c.8-.78.8-2.07 0-2.86zM5.41 20L4 18.59l7.72-7.72 1.47 1.35L5.41 20z\"/>\n",
              "  </svg>\n",
              "      </button>\n",
              "      \n",
              "  <style>\n",
              "    .colab-df-container {\n",
              "      display:flex;\n",
              "      flex-wrap:wrap;\n",
              "      gap: 12px;\n",
              "    }\n",
              "\n",
              "    .colab-df-convert {\n",
              "      background-color: #E8F0FE;\n",
              "      border: none;\n",
              "      border-radius: 50%;\n",
              "      cursor: pointer;\n",
              "      display: none;\n",
              "      fill: #1967D2;\n",
              "      height: 32px;\n",
              "      padding: 0 0 0 0;\n",
              "      width: 32px;\n",
              "    }\n",
              "\n",
              "    .colab-df-convert:hover {\n",
              "      background-color: #E2EBFA;\n",
              "      box-shadow: 0px 1px 2px rgba(60, 64, 67, 0.3), 0px 1px 3px 1px rgba(60, 64, 67, 0.15);\n",
              "      fill: #174EA6;\n",
              "    }\n",
              "\n",
              "    [theme=dark] .colab-df-convert {\n",
              "      background-color: #3B4455;\n",
              "      fill: #D2E3FC;\n",
              "    }\n",
              "\n",
              "    [theme=dark] .colab-df-convert:hover {\n",
              "      background-color: #434B5C;\n",
              "      box-shadow: 0px 1px 3px 1px rgba(0, 0, 0, 0.15);\n",
              "      filter: drop-shadow(0px 1px 2px rgba(0, 0, 0, 0.3));\n",
              "      fill: #FFFFFF;\n",
              "    }\n",
              "  </style>\n",
              "\n",
              "      <script>\n",
              "        const buttonEl =\n",
              "          document.querySelector('#df-c2d8efea-87c6-472e-bd87-44e207495963 button.colab-df-convert');\n",
              "        buttonEl.style.display =\n",
              "          google.colab.kernel.accessAllowed ? 'block' : 'none';\n",
              "\n",
              "        async function convertToInteractive(key) {\n",
              "          const element = document.querySelector('#df-c2d8efea-87c6-472e-bd87-44e207495963');\n",
              "          const dataTable =\n",
              "            await google.colab.kernel.invokeFunction('convertToInteractive',\n",
              "                                                     [key], {});\n",
              "          if (!dataTable) return;\n",
              "\n",
              "          const docLinkHtml = 'Like what you see? Visit the ' +\n",
              "            '<a target=\"_blank\" href=https://colab.research.google.com/notebooks/data_table.ipynb>data table notebook</a>'\n",
              "            + ' to learn more about interactive tables.';\n",
              "          element.innerHTML = '';\n",
              "          dataTable['output_type'] = 'display_data';\n",
              "          await google.colab.output.renderOutput(dataTable, element);\n",
              "          const docLink = document.createElement('div');\n",
              "          docLink.innerHTML = docLinkHtml;\n",
              "          element.appendChild(docLink);\n",
              "        }\n",
              "      </script>\n",
              "    </div>\n",
              "  </div>\n",
              "  "
            ]
          },
          "metadata": {},
          "execution_count": 31
        }
      ]
    },
    {
      "cell_type": "code",
      "source": [
        "ax = sns.distplot(tmdb_com_mais_de_10_votos.vote_count)\n",
        "ax.set(xlabel = 'Número de votos', ylabel = 'Densidade')\n",
        "ax.set_title('Número de votos em filmes no TMDB 5000 com 10 ou mais votos')\n",
        "ax"
      ],
      "metadata": {
        "colab": {
          "base_uri": "https://localhost:8080/",
          "height": 0
        },
        "id": "7f5W5FPhqHAC",
        "outputId": "751a4553-7046-4f3e-a71a-13168121031f"
      },
      "execution_count": 32,
      "outputs": [
        {
          "output_type": "stream",
          "name": "stderr",
          "text": [
            "/usr/local/lib/python3.8/dist-packages/seaborn/distributions.py:2619: FutureWarning: `distplot` is a deprecated function and will be removed in a future version. Please adapt your code to use either `displot` (a figure-level function with similar flexibility) or `histplot` (an axes-level function for histograms).\n",
            "  warnings.warn(msg, FutureWarning)\n"
          ]
        },
        {
          "output_type": "execute_result",
          "data": {
            "text/plain": [
              "<AxesSubplot:title={'center':'Número de votos em filmes no TMDB 5000 com 10 ou mais votos'}, xlabel='Número de votos', ylabel='Densidade'>"
            ]
          },
          "metadata": {},
          "execution_count": 32
        },
        {
          "output_type": "display_data",
          "data": {
            "text/plain": [
              "<Figure size 432x288 with 1 Axes>"
            ],
            "image/png": "[encoded data removed]"
          },
          "metadata": {
            "needs_background": "light"
          }
        }
      ]
    },
    {
      "cell_type": "code",
      "source": [
        "tmdb.budget"
      ],
      "metadata": {
        "colab": {
          "base_uri": "https://localhost:8080/"
        },
        "id": "pQ5n4NkqquVh",
        "outputId": "3fd10835-5912-408a-9917-a27dece5cb3f"
      },
      "execution_count": 33,
      "outputs": [
        {
          "output_type": "execute_result",
          "data": {
            "text/plain": [
              "0       237000000\n",
              "1       300000000\n",
              "2       245000000\n",
              "3       250000000\n",
              "4       260000000\n",
              "          ...    \n",
              "4798       220000\n",
              "4799         9000\n",
              "4800            0\n",
              "4801            0\n",
              "4802            0\n",
              "Name: budget, Length: 4803, dtype: int64"
            ]
          },
          "metadata": {},
          "execution_count": 33
        }
      ]
    },
    {
      "cell_type": "code",
      "source": [
        "tmdb.query('budget > 0').budget"
      ],
      "metadata": {
        "colab": {
          "base_uri": "https://localhost:8080/"
        },
        "id": "YkK4u7b8rY1q",
        "outputId": "67098ff0-6faa-44ff-8dc6-7fc0552424e1"
      },
      "execution_count": 34,
      "outputs": [
        {
          "output_type": "execute_result",
          "data": {
            "text/plain": [
              "0       237000000\n",
              "1       300000000\n",
              "2       245000000\n",
              "3       250000000\n",
              "4       260000000\n",
              "          ...    \n",
              "4791           13\n",
              "4792        20000\n",
              "4796         7000\n",
              "4798       220000\n",
              "4799         9000\n",
              "Name: budget, Length: 3766, dtype: int64"
            ]
          },
          "metadata": {},
          "execution_count": 34
        }
      ]
    },
    {
      "cell_type": "code",
      "source": [
        "ax = sns.distplot(tmdb.query('budget > 0').budget)\n",
        "ax.set(xlabel = 'Budget (gastos)', ylabel = 'Densidade')\n",
        "ax.set_title('Gastos em filmes no TMDB 5000')\n",
        "ax"
      ],
      "metadata": {
        "colab": {
          "base_uri": "https://localhost:8080/",
          "height": 0
        },
        "id": "QE_KGWmBrgfZ",
        "outputId": "628eba7d-fadc-4d7d-d3e9-47dd9cf44248"
      },
      "execution_count": 35,
      "outputs": [
        {
          "output_type": "stream",
          "name": "stderr",
          "text": [
            "/usr/local/lib/python3.8/dist-packages/seaborn/distributions.py:2619: FutureWarning: `distplot` is a deprecated function and will be removed in a future version. Please adapt your code to use either `displot` (a figure-level function with similar flexibility) or `histplot` (an axes-level function for histograms).\n",
            "  warnings.warn(msg, FutureWarning)\n"
          ]
        },
        {
          "output_type": "execute_result",
          "data": {
            "text/plain": [
              "<AxesSubplot:title={'center':'Gastos em filmes no TMDB 5000'}, xlabel='Budget (gastos)', ylabel='Densidade'>"
            ]
          },
          "metadata": {},
          "execution_count": 35
        },
        {
          "output_type": "display_data",
          "data": {
            "text/plain": [
              "<Figure size 432x288 with 1 Axes>"
            ],
            "image/png": "[encoded data removed]"
          },
          "metadata": {
            "needs_background": "light"
          }
        }
      ]
    },
    {
      "cell_type": "code",
      "source": [
        "tmdb.popularity"
      ],
      "metadata": {
        "colab": {
          "base_uri": "https://localhost:8080/"
        },
        "id": "UBrwmus1r5WC",
        "outputId": "bd14be1f-7419-4de6-fdcd-e0455174f559"
      },
      "execution_count": 36,
      "outputs": [
        {
          "output_type": "execute_result",
          "data": {
            "text/plain": [
              "0       150.437577\n",
              "1       139.082615\n",
              "2       107.376788\n",
              "3       112.312950\n",
              "4        43.926995\n",
              "           ...    \n",
              "4798     14.269792\n",
              "4799      0.642552\n",
              "4800      1.444476\n",
              "4801      0.857008\n",
              "4802      1.929883\n",
              "Name: popularity, Length: 4803, dtype: float64"
            ]
          },
          "metadata": {},
          "execution_count": 36
        }
      ]
    },
    {
      "cell_type": "code",
      "source": [
        "tmdb.query('popularity == 0')"
      ],
      "metadata": {
        "colab": {
          "base_uri": "https://localhost:8080/",
          "height": 0
        },
        "id": "0Z8-zfilsKfj",
        "outputId": "3089dbc1-eb1a-4990-c1ef-f6faf013da7d"
      },
      "execution_count": 37,
      "outputs": [
        {
          "output_type": "execute_result",
          "data": {
            "text/plain": [
              "      budget genres homepage      id keywords original_language  \\\n",
              "4553       0     []      NaN  380097       []                en   \n",
              "\n",
              "                  original_title  \\\n",
              "4553  America Is Still the Place   \n",
              "\n",
              "                                               overview  popularity  \\\n",
              "4553  1971 post civil rights San Francisco seemed li...         0.0   \n",
              "\n",
              "     production_companies production_countries release_date  revenue  runtime  \\\n",
              "4553                   []                   []          NaN        0      0.0   \n",
              "\n",
              "     spoken_languages    status tagline                       title  \\\n",
              "4553               []  Released     NaN  America Is Still the Place   \n",
              "\n",
              "      vote_average  vote_count  \n",
              "4553           0.0           0  "
            ],
            "text/html": [
              "\n",
              "  <div id=\"df-3408b9e7-e0cd-4972-8ee1-45484487d13e\">\n",
              "    <div class=\"colab-df-container\">\n",
              "      <div>\n",
              "<style scoped>\n",
              "    .dataframe tbody tr th:only-of-type {\n",
              "        vertical-align: middle;\n",
              "    }\n",
              "\n",
              "    .dataframe tbody tr th {\n",
              "        vertical-align: top;\n",
              "    }\n",
              "\n",
              "    .dataframe thead th {\n",
              "        text-align: right;\n",
              "    }\n",
              "</style>\n",
              "<table border=\"1\" class=\"dataframe\">\n",
              "  <thead>\n",
              "    <tr style=\"text-align: right;\">\n",
              "      <th></th>\n",
              "      <th>budget</th>\n",
              "      <th>genres</th>\n",
              "      <th>homepage</th>\n",
              "      <th>id</th>\n",
              "      <th>keywords</th>\n",
              "      <th>original_language</th>\n",
              "      <th>original_title</th>\n",
              "      <th>overview</th>\n",
              "      <th>popularity</th>\n",
              "      <th>production_companies</th>\n",
              "      <th>production_countries</th>\n",
              "      <th>release_date</th>\n",
              "      <th>revenue</th>\n",
              "      <th>runtime</th>\n",
              "      <th>spoken_languages</th>\n",
              "      <th>status</th>\n",
              "      <th>tagline</th>\n",
              "      <th>title</th>\n",
              "      <th>vote_average</th>\n",
              "      <th>vote_count</th>\n",
              "    </tr>\n",
              "  </thead>\n",
              "  <tbody>\n",
              "    <tr>\n",
              "      <th>4553</th>\n",
              "      <td>0</td>\n",
              "      <td>[]</td>\n",
              "      <td>NaN</td>\n",
              "      <td>380097</td>\n",
              "      <td>[]</td>\n",
              "      <td>en</td>\n",
              "      <td>America Is Still the Place</td>\n",
              "      <td>1971 post civil rights San Francisco seemed li...</td>\n",
              "      <td>0.0</td>\n",
              "      <td>[]</td>\n",
              "      <td>[]</td>\n",
              "      <td>NaN</td>\n",
              "      <td>0</td>\n",
              "      <td>0.0</td>\n",
              "      <td>[]</td>\n",
              "      <td>Released</td>\n",
              "      <td>NaN</td>\n",
              "      <td>America Is Still the Place</td>\n",
              "      <td>0.0</td>\n",
              "      <td>0</td>\n",
              "    </tr>\n",
              "  </tbody>\n",
              "</table>\n",
              "</div>\n",
              "      <button class=\"colab-df-convert\" onclick=\"convertToInteractive('df-3408b9e7-e0cd-4972-8ee1-45484487d13e')\"\n",
              "              title=\"Convert this dataframe to an interactive table.\"\n",
              "              style=\"display:none;\">\n",
              "        \n",
              "  <svg xmlns=\"http://www.w3.org/2000/svg\" height=\"24px\"viewBox=\"0 0 24 24\"\n",
              "       width=\"24px\">\n",
              "    <path d=\"M0 0h24v24H0V0z\" fill=\"none\"/>\n",
              "    <path d=\"M18.56 5.44l.94 2.06.94-2.06 2.06-.94-2.06-.94-.94-2.06-.94 2.06-2.06.94zm-11 1L8.5 8.5l.94-2.06 2.06-.94-2.06-.94L8.5 2.5l-.94 2.06-2.06.94zm10 10l.94 2.06.94-2.06 2.06-.94-2.06-.94-.94-2.06-.94 2.06-2.06.94z\"/><path d=\"M17.41 7.96l-1.37-1.37c-.4-.4-.92-.59-1.43-.59-.52 0-1.04.2-1.43.59L10.3 9.45l-7.72 7.72c-.78.78-.78 2.05 0 2.83L4 21.41c.39.39.9.59 1.41.59.51 0 1.02-.2 1.41-.59l7.78-7.78 2.81-2.81c.8-.78.8-2.07 0-2.86zM5.41 20L4 18.59l7.72-7.72 1.47 1.35L5.41 20z\"/>\n",
              "  </svg>\n",
              "      </button>\n",
              "      \n",
              "  <style>\n",
              "    .colab-df-container {\n",
              "      display:flex;\n",
              "      flex-wrap:wrap;\n",
              "      gap: 12px;\n",
              "    }\n",
              "\n",
              "    .colab-df-convert {\n",
              "      background-color: #E8F0FE;\n",
              "      border: none;\n",
              "      border-radius: 50%;\n",
              "      cursor: pointer;\n",
              "      display: none;\n",
              "      fill: #1967D2;\n",
              "      height: 32px;\n",
              "      padding: 0 0 0 0;\n",
              "      width: 32px;\n",
              "    }\n",
              "\n",
              "    .colab-df-convert:hover {\n",
              "      background-color: #E2EBFA;\n",
              "      box-shadow: 0px 1px 2px rgba(60, 64, 67, 0.3), 0px 1px 3px 1px rgba(60, 64, 67, 0.15);\n",
              "      fill: #174EA6;\n",
              "    }\n",
              "\n",
              "    [theme=dark] .colab-df-convert {\n",
              "      background-color: #3B4455;\n",
              "      fill: #D2E3FC;\n",
              "    }\n",
              "\n",
              "    [theme=dark] .colab-df-convert:hover {\n",
              "      background-color: #434B5C;\n",
              "      box-shadow: 0px 1px 3px 1px rgba(0, 0, 0, 0.15);\n",
              "      filter: drop-shadow(0px 1px 2px rgba(0, 0, 0, 0.3));\n",
              "      fill: #FFFFFF;\n",
              "    }\n",
              "  </style>\n",
              "\n",
              "      <script>\n",
              "        const buttonEl =\n",
              "          document.querySelector('#df-3408b9e7-e0cd-4972-8ee1-45484487d13e button.colab-df-convert');\n",
              "        buttonEl.style.display =\n",
              "          google.colab.kernel.accessAllowed ? 'block' : 'none';\n",
              "\n",
              "        async function convertToInteractive(key) {\n",
              "          const element = document.querySelector('#df-3408b9e7-e0cd-4972-8ee1-45484487d13e');\n",
              "          const dataTable =\n",
              "            await google.colab.kernel.invokeFunction('convertToInteractive',\n",
              "                                                     [key], {});\n",
              "          if (!dataTable) return;\n",
              "\n",
              "          const docLinkHtml = 'Like what you see? Visit the ' +\n",
              "            '<a target=\"_blank\" href=https://colab.research.google.com/notebooks/data_table.ipynb>data table notebook</a>'\n",
              "            + ' to learn more about interactive tables.';\n",
              "          element.innerHTML = '';\n",
              "          dataTable['output_type'] = 'display_data';\n",
              "          await google.colab.output.renderOutput(dataTable, element);\n",
              "          const docLink = document.createElement('div');\n",
              "          docLink.innerHTML = docLinkHtml;\n",
              "          element.appendChild(docLink);\n",
              "        }\n",
              "      </script>\n",
              "    </div>\n",
              "  </div>\n",
              "  "
            ]
          },
          "metadata": {},
          "execution_count": 37
        }
      ]
    },
    {
      "cell_type": "code",
      "source": [
        "ax = sns.distplot(tmdb.popularity)\n",
        "ax.set(xlabel = 'Popularidade', ylabel = 'Densidade')\n",
        "ax.set_title('Popularidade em filmes no TMDB 5000')\n",
        "ax"
      ],
      "metadata": {
        "colab": {
          "base_uri": "https://localhost:8080/",
          "height": 0
        },
        "id": "ZedYHjixsTp6",
        "outputId": "e13326e1-2b5d-4704-d447-90e1e77201c3"
      },
      "execution_count": 38,
      "outputs": [
        {
          "output_type": "stream",
          "name": "stderr",
          "text": [
            "/usr/local/lib/python3.8/dist-packages/seaborn/distributions.py:2619: FutureWarning: `distplot` is a deprecated function and will be removed in a future version. Please adapt your code to use either `displot` (a figure-level function with similar flexibility) or `histplot` (an axes-level function for histograms).\n",
            "  warnings.warn(msg, FutureWarning)\n"
          ]
        },
        {
          "output_type": "execute_result",
          "data": {
            "text/plain": [
              "<AxesSubplot:title={'center':'Popularidade em filmes no TMDB 5000'}, xlabel='Popularidade', ylabel='Densidade'>"
            ]
          },
          "metadata": {},
          "execution_count": 38
        },
        {
          "output_type": "display_data",
          "data": {
            "text/plain": [
              "<Figure size 432x288 with 1 Axes>"
            ],
            "image/png": "[encoded data removed]"
          },
          "metadata": {
            "needs_background": "light"
          }
        }
      ]
    },
    {
      "cell_type": "code",
      "source": [
        "tmdb.runtime"
      ],
      "metadata": {
        "colab": {
          "base_uri": "https://localhost:8080/"
        },
        "id": "cFI-p0S8sptE",
        "outputId": "762563d6-555d-4ef5-9fbd-ff1c5707e6fa"
      },
      "execution_count": 39,
      "outputs": [
        {
          "output_type": "execute_result",
          "data": {
            "text/plain": [
              "0       162.0\n",
              "1       169.0\n",
              "2       148.0\n",
              "3       165.0\n",
              "4       132.0\n",
              "        ...  \n",
              "4798     81.0\n",
              "4799     85.0\n",
              "4800    120.0\n",
              "4801     98.0\n",
              "4802     90.0\n",
              "Name: runtime, Length: 4803, dtype: float64"
            ]
          },
          "metadata": {},
          "execution_count": 39
        }
      ]
    },
    {
      "cell_type": "code",
      "source": [
        "ax = sns.distplot(tmdb.runtime)\n",
        "ax.set(xlabel = 'Tempo de duração', ylabel = 'Densidade')\n",
        "ax.set_title('Tempo de duração em filmes no TMDB 5000')\n",
        "ax"
      ],
      "metadata": {
        "colab": {
          "base_uri": "https://localhost:8080/",
          "height": 0
        },
        "id": "iSiOvCQLsvAb",
        "outputId": "fcd2d74e-1a9a-459b-aa59-613655c17043"
      },
      "execution_count": 40,
      "outputs": [
        {
          "output_type": "stream",
          "name": "stderr",
          "text": [
            "/usr/local/lib/python3.8/dist-packages/seaborn/distributions.py:2619: FutureWarning: `distplot` is a deprecated function and will be removed in a future version. Please adapt your code to use either `displot` (a figure-level function with similar flexibility) or `histplot` (an axes-level function for histograms).\n",
            "  warnings.warn(msg, FutureWarning)\n"
          ]
        },
        {
          "output_type": "execute_result",
          "data": {
            "text/plain": [
              "<AxesSubplot:title={'center':'Tempo de duração em filmes no TMDB 5000'}, xlabel='Tempo de duração', ylabel='Densidade'>"
            ]
          },
          "metadata": {},
          "execution_count": 40
        },
        {
          "output_type": "display_data",
          "data": {
            "text/plain": [
              "<Figure size 432x288 with 1 Axes>"
            ],
            "image/png": "[encoded data removed]"
          },
          "metadata": {
            "needs_background": "light"
          }
        }
      ]
    },
    {
      "cell_type": "code",
      "source": [
        "tmdb.runtime.isnull()"
      ],
      "metadata": {
        "colab": {
          "base_uri": "https://localhost:8080/"
        },
        "id": "lrCrMPcZs530",
        "outputId": "6957765e-6237-4d17-ccbf-fdc7456e00bb"
      },
      "execution_count": 41,
      "outputs": [
        {
          "output_type": "execute_result",
          "data": {
            "text/plain": [
              "0       False\n",
              "1       False\n",
              "2       False\n",
              "3       False\n",
              "4       False\n",
              "        ...  \n",
              "4798    False\n",
              "4799    False\n",
              "4800    False\n",
              "4801    False\n",
              "4802    False\n",
              "Name: runtime, Length: 4803, dtype: bool"
            ]
          },
          "metadata": {},
          "execution_count": 41
        }
      ]
    },
    {
      "cell_type": "code",
      "source": [
        "tmdb.runtime.isnull().sum()"
      ],
      "metadata": {
        "colab": {
          "base_uri": "https://localhost:8080/"
        },
        "id": "j2NPqLAXtIva",
        "outputId": "7fa4971f-fafe-4d71-a5ca-b267e60a4322"
      },
      "execution_count": 42,
      "outputs": [
        {
          "output_type": "execute_result",
          "data": {
            "text/plain": [
              "2"
            ]
          },
          "metadata": {},
          "execution_count": 42
        }
      ]
    },
    {
      "cell_type": "code",
      "source": [
        "tmdb.runtime.dropna()"
      ],
      "metadata": {
        "colab": {
          "base_uri": "https://localhost:8080/"
        },
        "id": "YTf2f2S8tOQ0",
        "outputId": "aac45734-0914-4c6e-8023-78c170288bf9"
      },
      "execution_count": 43,
      "outputs": [
        {
          "output_type": "execute_result",
          "data": {
            "text/plain": [
              "0       162.0\n",
              "1       169.0\n",
              "2       148.0\n",
              "3       165.0\n",
              "4       132.0\n",
              "        ...  \n",
              "4798     81.0\n",
              "4799     85.0\n",
              "4800    120.0\n",
              "4801     98.0\n",
              "4802     90.0\n",
              "Name: runtime, Length: 4801, dtype: float64"
            ]
          },
          "metadata": {},
          "execution_count": 43
        }
      ]
    },
    {
      "cell_type": "code",
      "source": [
        "ax = sns.distplot(tmdb.runtime.dropna())\n",
        "ax.set(xlabel = 'Tempo de duração', ylabel = 'Densidade')\n",
        "ax.set_title('Tempo de duração em filmes no TMDB 5000')\n",
        "ax"
      ],
      "metadata": {
        "colab": {
          "base_uri": "https://localhost:8080/",
          "height": 0
        },
        "id": "5tlW9aMLtVpy",
        "outputId": "7b1b997b-9745-4a68-8210-7c96497ff7ef"
      },
      "execution_count": 44,
      "outputs": [
        {
          "output_type": "stream",
          "name": "stderr",
          "text": [
            "/usr/local/lib/python3.8/dist-packages/seaborn/distributions.py:2619: FutureWarning: `distplot` is a deprecated function and will be removed in a future version. Please adapt your code to use either `displot` (a figure-level function with similar flexibility) or `histplot` (an axes-level function for histograms).\n",
            "  warnings.warn(msg, FutureWarning)\n"
          ]
        },
        {
          "output_type": "execute_result",
          "data": {
            "text/plain": [
              "<AxesSubplot:title={'center':'Tempo de duração em filmes no TMDB 5000'}, xlabel='Tempo de duração', ylabel='Densidade'>"
            ]
          },
          "metadata": {},
          "execution_count": 44
        },
        {
          "output_type": "display_data",
          "data": {
            "text/plain": [
              "<Figure size 432x288 with 1 Axes>"
            ],
            "image/png": "[encoded data removed]"
          },
          "metadata": {
            "needs_background": "light"
          }
        }
      ]
    },
    {
      "cell_type": "code",
      "source": [
        "tmdb.query(\"runtime == 0\")"
      ],
      "metadata": {
        "colab": {
          "base_uri": "https://localhost:8080/",
          "height": 0
        },
        "id": "wnZF8r8yteQM",
        "outputId": "d3c57383-8f0c-43c4-e7ca-242bd6847582"
      },
      "execution_count": 45,
      "outputs": [
        {
          "output_type": "execute_result",
          "data": {
            "text/plain": [
              "       budget                                             genres  \\\n",
              "1011        0                     [{\"id\": 27, \"name\": \"Horror\"}]   \n",
              "3112        0  [{\"id\": 18, \"name\": \"Drama\"}, {\"id\": 80, \"name...   \n",
              "3669        0  [{\"id\": 35, \"name\": \"Comedy\"}, {\"id\": 18, \"nam...   \n",
              "3809  4000000  [{\"id\": 35, \"name\": \"Comedy\"}, {\"id\": 10749, \"...   \n",
              "3953        0  [{\"id\": 10752, \"name\": \"War\"}, {\"id\": 18, \"nam...   \n",
              "3992        0                                                 []   \n",
              "4068        0                                                 []   \n",
              "4118        0                                                 []   \n",
              "4205        0  [{\"id\": 18, \"name\": \"Drama\"}, {\"id\": 80, \"name...   \n",
              "4210        0                 [{\"id\": 10749, \"name\": \"Romance\"}]   \n",
              "4241  1500000                     [{\"id\": 35, \"name\": \"Comedy\"}]   \n",
              "4313        0  [{\"id\": 53, \"name\": \"Thriller\"}, {\"id\": 27, \"n...   \n",
              "4318        0                     [{\"id\": 27, \"name\": \"Horror\"}]   \n",
              "4322        0                [{\"id\": 99, \"name\": \"Documentary\"}]   \n",
              "4328        0  [{\"id\": 27, \"name\": \"Horror\"}, {\"id\": 99, \"nam...   \n",
              "4405        0  [{\"id\": 10751, \"name\": \"Family\"}, {\"id\": 35, \"...   \n",
              "4435        0                     [{\"id\": 27, \"name\": \"Horror\"}]   \n",
              "4458        0                                                 []   \n",
              "4502        0  [{\"id\": 80, \"name\": \"Crime\"}, {\"id\": 18, \"name...   \n",
              "4504        0                                                 []   \n",
              "4553        0                                                 []   \n",
              "4558        0  [{\"id\": 10402, \"name\": \"Music\"}, {\"id\": 27, \"n...   \n",
              "4564        0                      [{\"id\": 18, \"name\": \"Drama\"}]   \n",
              "4566        0                                                 []   \n",
              "4569        0                                                 []   \n",
              "4571        0                                                 []   \n",
              "4581        0                                                 []   \n",
              "4584        0  [{\"id\": 27, \"name\": \"Horror\"}, {\"id\": 35, \"nam...   \n",
              "4611        0                                                 []   \n",
              "4620        0  [{\"id\": 28, \"name\": \"Action\"}, {\"id\": 12, \"nam...   \n",
              "4633        0                                                 []   \n",
              "4657        0                                                 []   \n",
              "4658        0  [{\"id\": 27, \"name\": \"Horror\"}, {\"id\": 53, \"nam...   \n",
              "4662        0                     [{\"id\": 35, \"name\": \"Comedy\"}]   \n",
              "4729        0                  [{\"id\": 10751, \"name\": \"Family\"}]   \n",
              "\n",
              "                                               homepage      id  \\\n",
              "1011                                                NaN   53953   \n",
              "3112                                                NaN   41894   \n",
              "3669                      http://www.romeothemovie.com/  113406   \n",
              "3809                                                NaN  158150   \n",
              "3953                                                NaN  281230   \n",
              "3992                                                NaN  346081   \n",
              "4068                                                NaN  371085   \n",
              "4118                                                NaN  325140   \n",
              "4205               http://www.imdb.com/title/tt1289419/   66468   \n",
              "4210                                                NaN   74084   \n",
              "4241                                                NaN   51820   \n",
              "4313                                                NaN  107315   \n",
              "4318                                                NaN  310933   \n",
              "4322                                                NaN  102840   \n",
              "4328                                                NaN  202604   \n",
              "4405  https://www.epicbuzz.net/movies/karachi-se-lahore  357441   \n",
              "4435                                                NaN  323270   \n",
              "4458                                                NaN  279759   \n",
              "4502                                                NaN  263503   \n",
              "4504                                                NaN  331493   \n",
              "4553                                                NaN  380097   \n",
              "4558                  http://www.thedevilscarnival.com/  285743   \n",
              "4564                                                NaN   94072   \n",
              "4566                                                NaN  325579   \n",
              "4569                     http://mutualfriendsmovie.com/  198370   \n",
              "4571                                                NaN  328307   \n",
              "4581                                                NaN  281189   \n",
              "4584                                                NaN  189711   \n",
              "4611                                                NaN  162396   \n",
              "4620                                                NaN   47534   \n",
              "4633                                                NaN  300327   \n",
              "4657                                                NaN  320435   \n",
              "4658                                                NaN  150211   \n",
              "4662                                                NaN   40963   \n",
              "4729                                                NaN  272726   \n",
              "\n",
              "                                               keywords original_language  \\\n",
              "1011  [{\"id\": 10292, \"name\": \"gore\"}, {\"id\": 12339, ...                de   \n",
              "3112                                                 []                en   \n",
              "3669                                                 []                en   \n",
              "3809                                                 []                en   \n",
              "3953         [{\"id\": 187056, \"name\": \"woman director\"}]                en   \n",
              "3992                                                 []                en   \n",
              "4068                                                 []                en   \n",
              "4118                                                 []                en   \n",
              "4205                                                 []                en   \n",
              "4210                                                 []                hi   \n",
              "4241        [{\"id\": 10183, \"name\": \"independent film\"}]                en   \n",
              "4313              [{\"id\": 888, \"name\": \"screenwriter\"}]                en   \n",
              "4318                                                 []                en   \n",
              "4322                                                 []                en   \n",
              "4328                 [{\"id\": 2626, \"name\": \"exorcism\"}]                en   \n",
              "4405                                                 []                en   \n",
              "4435                [{\"id\": 9706, \"name\": \"anthology\"}]                en   \n",
              "4458                                                 []                en   \n",
              "4502                                                 []                en   \n",
              "4504                                                 []                en   \n",
              "4553                                                 []                en   \n",
              "4558  [{\"id\": 3473, \"name\": \"carnival\"}, {\"id\": 4344...                en   \n",
              "4564                                                 []                en   \n",
              "4566                                                 []                en   \n",
              "4569                                                 []                en   \n",
              "4571                                                 []                en   \n",
              "4581         [{\"id\": 187056, \"name\": \"woman director\"}]                en   \n",
              "4584                                                 []                en   \n",
              "4611                                                 []                en   \n",
              "4620  [{\"id\": 2792, \"name\": \"boxer\"}, {\"id\": 4076, \"...                en   \n",
              "4633                                                 []                en   \n",
              "4657                                                 []                en   \n",
              "4658  [{\"id\": 177972, \"name\": \"bickering\"}, {\"id\": 2...                en   \n",
              "4662        [{\"id\": 10183, \"name\": \"independent film\"}]                en   \n",
              "4729                                                 []                en   \n",
              "\n",
              "                                         original_title  \\\n",
              "1011                                    The Tooth Fairy   \n",
              "3112                            Blood Done Sign My Name   \n",
              "3669                               Should've Been Romeo   \n",
              "3809                                How to Fall in Love   \n",
              "3953                                         Fort McCoy   \n",
              "3992                                          Sardaarji   \n",
              "4068                                          Sharkskin   \n",
              "4118                             Hum To Mohabbat Karega   \n",
              "4205                                           N-Secure   \n",
              "4210                                      दिल जो भी कहे   \n",
              "4241                                          The Salon   \n",
              "4313                                         Below Zero   \n",
              "4318                                    Bleeding Hearts   \n",
              "4322                                 Sex With Strangers   \n",
              "4328                              The Vatican Exorcisms   \n",
              "4405                                  Karachi se Lahore   \n",
              "4435                          The Horror Network Vol. 1   \n",
              "4458                                Harrison Montgomery   \n",
              "4502                                      Water & Power   \n",
              "4504                            Light from the Darkroom   \n",
              "4553                         America Is Still the Place   \n",
              "4558                     Alleluia! The Devil's Carnival   \n",
              "4564                           Straight Out of Brooklyn   \n",
              "4566                                       Diamond Ruff   \n",
              "4569                                     Mutual Friends   \n",
              "4571  Rise of the Entrepreneur: The Search for a Bet...   \n",
              "4581                               Gory Gory Hallelujah   \n",
              "4584                       Love in the Time of Monsters   \n",
              "4611                                       The Big Swap   \n",
              "4620                               Fighting Tommy Riley   \n",
              "4633                                        Death Calls   \n",
              "4657                                          UnDivided   \n",
              "4658                                         The Frozen   \n",
              "4662                                     Little Big Top   \n",
              "4729                               Dude Where's My Dog?   \n",
              "\n",
              "                                               overview  popularity  \\\n",
              "1011  A woman and her daughter (Nicole Muñoz) encoun...    0.716764   \n",
              "3112  A drama based on the true story in which a bla...    0.397341   \n",
              "3669  A self-centered, middle-aged pitchman for a po...    0.407030   \n",
              "3809  An accountant, who never quite grew out of his...    1.923514   \n",
              "3953  Unable to serve in World War II because of a h...    0.384496   \n",
              "3992  A ghost hunter uses bottles to capture trouble...    0.296981   \n",
              "4068  The Post War II story of Manhattan born Mike E...    0.027801   \n",
              "4118  Raju, a waiter, is in love with the famous TV ...    0.001186   \n",
              "4205  N-Secure is a no holds-barred thrilling drama ...    0.134560   \n",
              "4210  During the British rule in India, several Indi...    0.122704   \n",
              "4241  A Beauty shop owner finds romance as she strug...    2.028170   \n",
              "4313  When Jack (Edward Furlong) is in danger of mis...    1.365140   \n",
              "4318  Captured Hearts, an insane serial killer/horro...    0.100533   \n",
              "4322  For some married couples, sex is an obsession ...    0.014406   \n",
              "4328  Documentary following US film-maker Joe Marino...    0.447166   \n",
              "4405  A road trip from Karachi to Lahore where 5 fri...    0.060003   \n",
              "4435  Serial killers, ghostly phone calls, inner dem...    0.392658   \n",
              "4458                            Film from Daniel Davila    0.006943   \n",
              "4502  Twin brothers nicknamed \"Water\" and \"Power\" fr...    0.350557   \n",
              "4504  Light in the Darkroom is the story of two best...    0.012942   \n",
              "4553  1971 post civil rights San Francisco seemed li...    0.000000   \n",
              "4558  The Devil's Carnival: Alleluia! is the second ...    0.674398   \n",
              "4564  A Special Jury Award winner at the Sundance Fi...    0.161517   \n",
              "4566  Action - Orphan, con artist, crime boss and mi...    0.165257   \n",
              "4569  Surprise parties rarely go well. This one is n...    0.136721   \n",
              "4571  The world is changing faster than ever. Techno...    0.052942   \n",
              "4581  Four actors compete for the role of Jesus - a ...    0.033883   \n",
              "4584  Two sisters travel to a cheesy tourist trap wh...    0.133619   \n",
              "4611  In this British drama, Ellen (Sorcha Brooks) a...    0.627763   \n",
              "4620  An aging trainer and a young fighter, both in ...    0.045429   \n",
              "4633  An action-packed love story on the Mexican bor...    0.005883   \n",
              "4657  UnDivided documents the true story of how a su...    0.010607   \n",
              "4658  After a harrowing snowmobile accident, a young...    1.084387   \n",
              "4662  An aging out of work clown returns to his smal...    0.092100   \n",
              "4729  Left home alone with his dog Harry, young Ray ...    0.283970   \n",
              "\n",
              "                                   production_companies  \\\n",
              "1011                                                 []   \n",
              "3112                                                 []   \n",
              "3669       [{\"name\": \"Phillybrook Films\", \"id\": 65147}]   \n",
              "3809  [{\"name\": \"Annuit Coeptis Entertainment Inc.\",...   \n",
              "3953                                                 []   \n",
              "3992                                                 []   \n",
              "4068                                                 []   \n",
              "4118                                                 []   \n",
              "4205                                                 []   \n",
              "4210  [{\"name\": \"Entertainment One Pvt. Ltd.\", \"id\":...   \n",
              "4241                                                 []   \n",
              "4313                                                 []   \n",
              "4318                                                 []   \n",
              "4322                                                 []   \n",
              "4328                                                 []   \n",
              "4405                                                 []   \n",
              "4435                                                 []   \n",
              "4458                                                 []   \n",
              "4502                                                 []   \n",
              "4504                                                 []   \n",
              "4553                                                 []   \n",
              "4558  [{\"name\": \"Limb from Limb Pictures\", \"id\": 590...   \n",
              "4564                                                 []   \n",
              "4566                                                 []   \n",
              "4569                                                 []   \n",
              "4571                                                 []   \n",
              "4581                                                 []   \n",
              "4584  [{\"name\": \"Red Cube Picture\", \"id\": 27892}, {\"...   \n",
              "4611                                                 []   \n",
              "4620                                                 []   \n",
              "4633                                                 []   \n",
              "4657                                                 []   \n",
              "4658                                                 []   \n",
              "4662          [{\"name\": \"Fly High Films\", \"id\": 24248}]   \n",
              "4729                                                 []   \n",
              "\n",
              "                                   production_countries release_date  revenue  \\\n",
              "1011                                                 []   2006-08-08        0   \n",
              "3112                                                 []   2010-02-01        0   \n",
              "3669  [{\"iso_3166_1\": \"US\", \"name\": \"United States o...   2012-04-28        0   \n",
              "3809  [{\"iso_3166_1\": \"US\", \"name\": \"United States o...   2012-07-21        0   \n",
              "3953                                                 []   2014-01-01        0   \n",
              "3992            [{\"iso_3166_1\": \"IN\", \"name\": \"India\"}]   2015-06-26        0   \n",
              "4068                                                 []   2015-01-01        0   \n",
              "4118                                                 []   2000-05-26        0   \n",
              "4205                                                 []   2010-10-15  2592808   \n",
              "4210            [{\"iso_3166_1\": \"IN\", \"name\": \"India\"}]   2006-12-07        0   \n",
              "4241                                                 []   2005-01-13        0   \n",
              "4313           [{\"iso_3166_1\": \"CA\", \"name\": \"Canada\"}]   2011-10-22        0   \n",
              "4318                                                 []   2013-06-01        0   \n",
              "4322                                                 []   2002-02-22        0   \n",
              "4328                                                 []   2013-05-29        0   \n",
              "4405         [{\"iso_3166_1\": \"PK\", \"name\": \"Pakistan\"}]   2015-07-31        0   \n",
              "4435                                                 []   2015-10-27        0   \n",
              "4458                                                 []   2008-01-01        0   \n",
              "4502                                                 []   2014-05-02        0   \n",
              "4504                                                 []   2014-01-01        0   \n",
              "4553                                                 []          NaN        0   \n",
              "4558  [{\"iso_3166_1\": \"US\", \"name\": \"United States o...   2016-03-29        0   \n",
              "4564                                                 []   1991-06-13        0   \n",
              "4566                                                 []   2015-01-01        0   \n",
              "4569                                                 []   2014-04-15        0   \n",
              "4571                                                 []   2014-11-20        0   \n",
              "4581                                                 []   2003-11-05        0   \n",
              "4584  [{\"iso_3166_1\": \"US\", \"name\": \"United States o...   2014-03-08        0   \n",
              "4611                                                 []   1998-06-11        0   \n",
              "4620                                                 []   2005-05-06        0   \n",
              "4633                                                 []   2010-09-01        0   \n",
              "4657                                                 []   2013-02-01        0   \n",
              "4658                                                 []   2012-10-10        0   \n",
              "4662  [{\"iso_3166_1\": \"US\", \"name\": \"United States o...   2006-01-01        0   \n",
              "4729                                                 []   2014-06-12        0   \n",
              "\n",
              "      runtime                                   spoken_languages    status  \\\n",
              "1011      0.0  [{\"iso_639_1\": \"en\", \"name\": \"English\"}, {\"iso...  Released   \n",
              "3112      0.0                                                 []  Released   \n",
              "3669      0.0           [{\"iso_639_1\": \"en\", \"name\": \"English\"}]  Released   \n",
              "3809      0.0           [{\"iso_639_1\": \"en\", \"name\": \"English\"}]  Released   \n",
              "3953      0.0                                                 []  Released   \n",
              "3992      0.0                                                 []  Released   \n",
              "4068      0.0                                                 []  Released   \n",
              "4118      0.0                                                 []  Released   \n",
              "4205      0.0                                                 []  Released   \n",
              "4210      0.0  [{\"iso_639_1\": \"en\", \"name\": \"English\"}, {\"iso...  Released   \n",
              "4241      0.0           [{\"iso_639_1\": \"en\", \"name\": \"English\"}]  Released   \n",
              "4313      0.0           [{\"iso_639_1\": \"en\", \"name\": \"English\"}]  Released   \n",
              "4318      0.0                                                 []  Released   \n",
              "4322      0.0                                                 []  Released   \n",
              "4328      0.0  [{\"iso_639_1\": \"it\", \"name\": \"Italiano\"}, {\"is...  Released   \n",
              "4405      0.0  [{\"iso_639_1\": \"ur\", \"name\": \"\\u0627\\u0631\\u06...  Released   \n",
              "4435      0.0                                                 []  Released   \n",
              "4458      0.0                                                 []  Released   \n",
              "4502      0.0                                                 []  Released   \n",
              "4504      0.0                                                 []  Released   \n",
              "4553      0.0                                                 []  Released   \n",
              "4558      0.0                                                 []  Released   \n",
              "4564      0.0                                                 []  Released   \n",
              "4566      0.0                                                 []  Released   \n",
              "4569      0.0           [{\"iso_639_1\": \"en\", \"name\": \"English\"}]  Released   \n",
              "4571      0.0                                                 []  Released   \n",
              "4581      0.0                                                 []  Released   \n",
              "4584      0.0                                                 []  Released   \n",
              "4611      0.0           [{\"iso_639_1\": \"en\", \"name\": \"English\"}]  Released   \n",
              "4620      0.0           [{\"iso_639_1\": \"en\", \"name\": \"English\"}]  Released   \n",
              "4633      0.0                                                 []  Released   \n",
              "4657      0.0                                                 []  Released   \n",
              "4658      0.0                                                 []  Released   \n",
              "4662      0.0           [{\"iso_639_1\": \"en\", \"name\": \"English\"}]   Rumored   \n",
              "4729      0.0                                                 []  Released   \n",
              "\n",
              "                                           tagline  \\\n",
              "1011                                           NaN   \n",
              "3112               No one changes the world alone.   \n",
              "3669  Even Shakespeare didn't see this one coming.   \n",
              "3809                                           NaN   \n",
              "3953                                           NaN   \n",
              "3992                                           NaN   \n",
              "4068                                           NaN   \n",
              "4118                                           NaN   \n",
              "4205                                           NaN   \n",
              "4210                                           NaN   \n",
              "4241      Where you get more than just a hair cut!   \n",
              "4313    There's nothing scarier than a blank page.   \n",
              "4318                                           NaN   \n",
              "4322                                           NaN   \n",
              "4328           The public were never meant to know   \n",
              "4405                                           NaN   \n",
              "4435                                           NaN   \n",
              "4458                                           NaN   \n",
              "4502                                           NaN   \n",
              "4504                                           NaN   \n",
              "4553                                           NaN   \n",
              "4558                      Hell ain't got a prayer.   \n",
              "4564                                           NaN   \n",
              "4566                                           NaN   \n",
              "4569              Surprise parties rarely go well.   \n",
              "4571                                           NaN   \n",
              "4581                                           NaN   \n",
              "4584                                           NaN   \n",
              "4611                                           NaN   \n",
              "4620                                           NaN   \n",
              "4633                                           NaN   \n",
              "4657                                           NaN   \n",
              "4658                                           NaN   \n",
              "4662                                           NaN   \n",
              "4729                                           NaN   \n",
              "\n",
              "                                                  title  vote_average  \\\n",
              "1011                                    The Tooth Fairy           4.3   \n",
              "3112                            Blood Done Sign My Name           6.0   \n",
              "3669                               Should've Been Romeo           0.0   \n",
              "3809                                How to Fall in Love           5.2   \n",
              "3953                                         Fort McCoy           6.3   \n",
              "3992                                          Sardaarji           9.5   \n",
              "4068                                          Sharkskin           0.0   \n",
              "4118                             Hum To Mohabbat Karega           0.0   \n",
              "4205                                           N-Secure           4.3   \n",
              "4210                                Dil Jo Bhi Kahey...           0.0   \n",
              "4241                                          The Salon           3.5   \n",
              "4313                                         Below Zero           4.4   \n",
              "4318                                    Bleeding Hearts           2.0   \n",
              "4322                                 Sex With Strangers           5.0   \n",
              "4328                              The Vatican Exorcisms           4.4   \n",
              "4405                                  Karachi se Lahore           8.0   \n",
              "4435                          The Horror Network Vol. 1           5.0   \n",
              "4458                                Harrison Montgomery           0.0   \n",
              "4502                                      Water & Power           3.0   \n",
              "4504                            Light from the Darkroom           0.0   \n",
              "4553                         America Is Still the Place           0.0   \n",
              "4558                     Alleluia! The Devil's Carnival           6.0   \n",
              "4564                           Straight Out of Brooklyn           4.3   \n",
              "4566                                       Diamond Ruff           2.4   \n",
              "4569                                     Mutual Friends           0.0   \n",
              "4571  Rise of the Entrepreneur: The Search for a Bet...           8.0   \n",
              "4581                               Gory Gory Hallelujah           1.0   \n",
              "4584                       Love in the Time of Monsters           5.0   \n",
              "4611                                       The Big Swap           0.0   \n",
              "4620                               Fighting Tommy Riley           5.3   \n",
              "4633                                        Death Calls           0.0   \n",
              "4657                                          UnDivided           0.0   \n",
              "4658                                         The Frozen           4.2   \n",
              "4662                                     Little Big Top          10.0   \n",
              "4729                               Dude Where's My Dog?           0.0   \n",
              "\n",
              "      vote_count  \n",
              "1011          13  \n",
              "3112           5  \n",
              "3669           0  \n",
              "3809          20  \n",
              "3953           2  \n",
              "3992           2  \n",
              "4068           0  \n",
              "4118           0  \n",
              "4205           4  \n",
              "4210           0  \n",
              "4241           1  \n",
              "4313          12  \n",
              "4318           1  \n",
              "4322           1  \n",
              "4328          11  \n",
              "4405           1  \n",
              "4435           2  \n",
              "4458           0  \n",
              "4502           1  \n",
              "4504           0  \n",
              "4553           0  \n",
              "4558           2  \n",
              "4564           4  \n",
              "4566           4  \n",
              "4569           0  \n",
              "4571           1  \n",
              "4581           1  \n",
              "4584           2  \n",
              "4611           0  \n",
              "4620           4  \n",
              "4633           0  \n",
              "4657           0  \n",
              "4658          14  \n",
              "4662           1  \n",
              "4729           0  "
            ],
            "text/html": [
              "\n",
              "  <div id=\"df-88097eae-4ede-4d45-8bf1-b199c3263275\">\n",
              "    <div class=\"colab-df-container\">\n",
              "      <div>\n",
              "<style scoped>\n",
              "    .dataframe tbody tr th:only-of-type {\n",
              "        vertical-align: middle;\n",
              "    }\n",
              "\n",
              "    .dataframe tbody tr th {\n",
              "        vertical-align: top;\n",
              "    }\n",
              "\n",
              "    .dataframe thead th {\n",
              "        text-align: right;\n",
              "    }\n",
              "</style>\n",
              "<table border=\"1\" class=\"dataframe\">\n",
              "  <thead>\n",
              "    <tr style=\"text-align: right;\">\n",
              "      <th></th>\n",
              "      <th>budget</th>\n",
              "      <th>genres</th>\n",
              "      <th>homepage</th>\n",
              "      <th>id</th>\n",
              "      <th>keywords</th>\n",
              "      <th>original_language</th>\n",
              "      <th>original_title</th>\n",
              "      <th>overview</th>\n",
              "      <th>popularity</th>\n",
              "      <th>production_companies</th>\n",
              "      <th>production_countries</th>\n",
              "      <th>release_date</th>\n",
              "      <th>revenue</th>\n",
              "      <th>runtime</th>\n",
              "      <th>spoken_languages</th>\n",
              "      <th>status</th>\n",
              "      <th>tagline</th>\n",
              "      <th>title</th>\n",
              "      <th>vote_average</th>\n",
              "      <th>vote_count</th>\n",
              "    </tr>\n",
              "  </thead>\n",
              "  <tbody>\n",
              "    <tr>\n",
              "      <th>1011</th>\n",
              "      <td>0</td>\n",
              "      <td>[{\"id\": 27, \"name\": \"Horror\"}]</td>\n",
              "      <td>NaN</td>\n",
              "      <td>53953</td>\n",
              "      <td>[{\"id\": 10292, \"name\": \"gore\"}, {\"id\": 12339, ...</td>\n",
              "      <td>de</td>\n",
              "      <td>The Tooth Fairy</td>\n",
              "      <td>A woman and her daughter (Nicole Muñoz) encoun...</td>\n",
              "      <td>0.716764</td>\n",
              "      <td>[]</td>\n",
              "      <td>[]</td>\n",
              "      <td>2006-08-08</td>\n",
              "      <td>0</td>\n",
              "      <td>0.0</td>\n",
              "      <td>[{\"iso_639_1\": \"en\", \"name\": \"English\"}, {\"iso...</td>\n",
              "      <td>Released</td>\n",
              "      <td>NaN</td>\n",
              "      <td>The Tooth Fairy</td>\n",
              "      <td>4.3</td>\n",
              "      <td>13</td>\n",
              "    </tr>\n",
              "    <tr>\n",
              "      <th>3112</th>\n",
              "      <td>0</td>\n",
              "      <td>[{\"id\": 18, \"name\": \"Drama\"}, {\"id\": 80, \"name...</td>\n",
              "      <td>NaN</td>\n",
              "      <td>41894</td>\n",
              "      <td>[]</td>\n",
              "      <td>en</td>\n",
              "      <td>Blood Done Sign My Name</td>\n",
              "      <td>A drama based on the true story in which a bla...</td>\n",
              "      <td>0.397341</td>\n",
              "      <td>[]</td>\n",
              "      <td>[]</td>\n",
              "      <td>2010-02-01</td>\n",
              "      <td>0</td>\n",
              "      <td>0.0</td>\n",
              "      <td>[]</td>\n",
              "      <td>Released</td>\n",
              "      <td>No one changes the world alone.</td>\n",
              "      <td>Blood Done Sign My Name</td>\n",
              "      <td>6.0</td>\n",
              "      <td>5</td>\n",
              "    </tr>\n",
              "    <tr>\n",
              "      <th>3669</th>\n",
              "      <td>0</td>\n",
              "      <td>[{\"id\": 35, \"name\": \"Comedy\"}, {\"id\": 18, \"nam...</td>\n",
              "      <td>http://www.romeothemovie.com/</td>\n",
              "      <td>113406</td>\n",
              "      <td>[]</td>\n",
              "      <td>en</td>\n",
              "      <td>Should've Been Romeo</td>\n",
              "      <td>A self-centered, middle-aged pitchman for a po...</td>\n",
              "      <td>0.407030</td>\n",
              "      <td>[{\"name\": \"Phillybrook Films\", \"id\": 65147}]</td>\n",
              "      <td>[{\"iso_3166_1\": \"US\", \"name\": \"United States o...</td>\n",
              "      <td>2012-04-28</td>\n",
              "      <td>0</td>\n",
              "      <td>0.0</td>\n",
              "      <td>[{\"iso_639_1\": \"en\", \"name\": \"English\"}]</td>\n",
              "      <td>Released</td>\n",
              "      <td>Even Shakespeare didn't see this one coming.</td>\n",
              "      <td>Should've Been Romeo</td>\n",
              "      <td>0.0</td>\n",
              "      <td>0</td>\n",
              "    </tr>\n",
              "    <tr>\n",
              "      <th>3809</th>\n",
              "      <td>4000000</td>\n",
              "      <td>[{\"id\": 35, \"name\": \"Comedy\"}, {\"id\": 10749, \"...</td>\n",
              "      <td>NaN</td>\n",
              "      <td>158150</td>\n",
              "      <td>[]</td>\n",
              "      <td>en</td>\n",
              "      <td>How to Fall in Love</td>\n",
              "      <td>An accountant, who never quite grew out of his...</td>\n",
              "      <td>1.923514</td>\n",
              "      <td>[{\"name\": \"Annuit Coeptis Entertainment Inc.\",...</td>\n",
              "      <td>[{\"iso_3166_1\": \"US\", \"name\": \"United States o...</td>\n",
              "      <td>2012-07-21</td>\n",
              "      <td>0</td>\n",
              "      <td>0.0</td>\n",
              "      <td>[{\"iso_639_1\": \"en\", \"name\": \"English\"}]</td>\n",
              "      <td>Released</td>\n",
              "      <td>NaN</td>\n",
              "      <td>How to Fall in Love</td>\n",
              "      <td>5.2</td>\n",
              "      <td>20</td>\n",
              "    </tr>\n",
              "    <tr>\n",
              "      <th>3953</th>\n",
              "      <td>0</td>\n",
              "      <td>[{\"id\": 10752, \"name\": \"War\"}, {\"id\": 18, \"nam...</td>\n",
              "      <td>NaN</td>\n",
              "      <td>281230</td>\n",
              "      <td>[{\"id\": 187056, \"name\": \"woman director\"}]</td>\n",
              "      <td>en</td>\n",
              "      <td>Fort McCoy</td>\n",
              "      <td>Unable to serve in World War II because of a h...</td>\n",
              "      <td>0.384496</td>\n",
              "      <td>[]</td>\n",
              "      <td>[]</td>\n",
              "      <td>2014-01-01</td>\n",
              "      <td>0</td>\n",
              "      <td>0.0</td>\n",
              "      <td>[]</td>\n",
              "      <td>Released</td>\n",
              "      <td>NaN</td>\n",
              "      <td>Fort McCoy</td>\n",
              "      <td>6.3</td>\n",
              "      <td>2</td>\n",
              "    </tr>\n",
              "    <tr>\n",
              "      <th>3992</th>\n",
              "      <td>0</td>\n",
              "      <td>[]</td>\n",
              "      <td>NaN</td>\n",
              "      <td>346081</td>\n",
              "      <td>[]</td>\n",
              "      <td>en</td>\n",
              "      <td>Sardaarji</td>\n",
              "      <td>A ghost hunter uses bottles to capture trouble...</td>\n",
              "      <td>0.296981</td>\n",
              "      <td>[]</td>\n",
              "      <td>[{\"iso_3166_1\": \"IN\", \"name\": \"India\"}]</td>\n",
              "      <td>2015-06-26</td>\n",
              "      <td>0</td>\n",
              "      <td>0.0</td>\n",
              "      <td>[]</td>\n",
              "      <td>Released</td>\n",
              "      <td>NaN</td>\n",
              "      <td>Sardaarji</td>\n",
              "      <td>9.5</td>\n",
              "      <td>2</td>\n",
              "    </tr>\n",
              "    <tr>\n",
              "      <th>4068</th>\n",
              "      <td>0</td>\n",
              "      <td>[]</td>\n",
              "      <td>NaN</td>\n",
              "      <td>371085</td>\n",
              "      <td>[]</td>\n",
              "      <td>en</td>\n",
              "      <td>Sharkskin</td>\n",
              "      <td>The Post War II story of Manhattan born Mike E...</td>\n",
              "      <td>0.027801</td>\n",
              "      <td>[]</td>\n",
              "      <td>[]</td>\n",
              "      <td>2015-01-01</td>\n",
              "      <td>0</td>\n",
              "      <td>0.0</td>\n",
              "      <td>[]</td>\n",
              "      <td>Released</td>\n",
              "      <td>NaN</td>\n",
              "      <td>Sharkskin</td>\n",
              "      <td>0.0</td>\n",
              "      <td>0</td>\n",
              "    </tr>\n",
              "    <tr>\n",
              "      <th>4118</th>\n",
              "      <td>0</td>\n",
              "      <td>[]</td>\n",
              "      <td>NaN</td>\n",
              "      <td>325140</td>\n",
              "      <td>[]</td>\n",
              "      <td>en</td>\n",
              "      <td>Hum To Mohabbat Karega</td>\n",
              "      <td>Raju, a waiter, is in love with the famous TV ...</td>\n",
              "      <td>0.001186</td>\n",
              "      <td>[]</td>\n",
              "      <td>[]</td>\n",
              "      <td>2000-05-26</td>\n",
              "      <td>0</td>\n",
              "      <td>0.0</td>\n",
              "      <td>[]</td>\n",
              "      <td>Released</td>\n",
              "      <td>NaN</td>\n",
              "      <td>Hum To Mohabbat Karega</td>\n",
              "      <td>0.0</td>\n",
              "      <td>0</td>\n",
              "    </tr>\n",
              "    <tr>\n",
              "      <th>4205</th>\n",
              "      <td>0</td>\n",
              "      <td>[{\"id\": 18, \"name\": \"Drama\"}, {\"id\": 80, \"name...</td>\n",
              "      <td>http://www.imdb.com/title/tt1289419/</td>\n",
              "      <td>66468</td>\n",
              "      <td>[]</td>\n",
              "      <td>en</td>\n",
              "      <td>N-Secure</td>\n",
              "      <td>N-Secure is a no holds-barred thrilling drama ...</td>\n",
              "      <td>0.134560</td>\n",
              "      <td>[]</td>\n",
              "      <td>[]</td>\n",
              "      <td>2010-10-15</td>\n",
              "      <td>2592808</td>\n",
              "      <td>0.0</td>\n",
              "      <td>[]</td>\n",
              "      <td>Released</td>\n",
              "      <td>NaN</td>\n",
              "      <td>N-Secure</td>\n",
              "      <td>4.3</td>\n",
              "      <td>4</td>\n",
              "    </tr>\n",
              "    <tr>\n",
              "      <th>4210</th>\n",
              "      <td>0</td>\n",
              "      <td>[{\"id\": 10749, \"name\": \"Romance\"}]</td>\n",
              "      <td>NaN</td>\n",
              "      <td>74084</td>\n",
              "      <td>[]</td>\n",
              "      <td>hi</td>\n",
              "      <td>दिल जो भी कहे</td>\n",
              "      <td>During the British rule in India, several Indi...</td>\n",
              "      <td>0.122704</td>\n",
              "      <td>[{\"name\": \"Entertainment One Pvt. Ltd.\", \"id\":...</td>\n",
              "      <td>[{\"iso_3166_1\": \"IN\", \"name\": \"India\"}]</td>\n",
              "      <td>2006-12-07</td>\n",
              "      <td>0</td>\n",
              "      <td>0.0</td>\n",
              "      <td>[{\"iso_639_1\": \"en\", \"name\": \"English\"}, {\"iso...</td>\n",
              "      <td>Released</td>\n",
              "      <td>NaN</td>\n",
              "      <td>Dil Jo Bhi Kahey...</td>\n",
              "      <td>0.0</td>\n",
              "      <td>0</td>\n",
              "    </tr>\n",
              "    <tr>\n",
              "      <th>4241</th>\n",
              "      <td>1500000</td>\n",
              "      <td>[{\"id\": 35, \"name\": \"Comedy\"}]</td>\n",
              "      <td>NaN</td>\n",
              "      <td>51820</td>\n",
              "      <td>[{\"id\": 10183, \"name\": \"independent film\"}]</td>\n",
              "      <td>en</td>\n",
              "      <td>The Salon</td>\n",
              "      <td>A Beauty shop owner finds romance as she strug...</td>\n",
              "      <td>2.028170</td>\n",
              "      <td>[]</td>\n",
              "      <td>[]</td>\n",
              "      <td>2005-01-13</td>\n",
              "      <td>0</td>\n",
              "      <td>0.0</td>\n",
              "      <td>[{\"iso_639_1\": \"en\", \"name\": \"English\"}]</td>\n",
              "      <td>Released</td>\n",
              "      <td>Where you get more than just a hair cut!</td>\n",
              "      <td>The Salon</td>\n",
              "      <td>3.5</td>\n",
              "      <td>1</td>\n",
              "    </tr>\n",
              "    <tr>\n",
              "      <th>4313</th>\n",
              "      <td>0</td>\n",
              "      <td>[{\"id\": 53, \"name\": \"Thriller\"}, {\"id\": 27, \"n...</td>\n",
              "      <td>NaN</td>\n",
              "      <td>107315</td>\n",
              "      <td>[{\"id\": 888, \"name\": \"screenwriter\"}]</td>\n",
              "      <td>en</td>\n",
              "      <td>Below Zero</td>\n",
              "      <td>When Jack (Edward Furlong) is in danger of mis...</td>\n",
              "      <td>1.365140</td>\n",
              "      <td>[]</td>\n",
              "      <td>[{\"iso_3166_1\": \"CA\", \"name\": \"Canada\"}]</td>\n",
              "      <td>2011-10-22</td>\n",
              "      <td>0</td>\n",
              "      <td>0.0</td>\n",
              "      <td>[{\"iso_639_1\": \"en\", \"name\": \"English\"}]</td>\n",
              "      <td>Released</td>\n",
              "      <td>There's nothing scarier than a blank page.</td>\n",
              "      <td>Below Zero</td>\n",
              "      <td>4.4</td>\n",
              "      <td>12</td>\n",
              "    </tr>\n",
              "    <tr>\n",
              "      <th>4318</th>\n",
              "      <td>0</td>\n",
              "      <td>[{\"id\": 27, \"name\": \"Horror\"}]</td>\n",
              "      <td>NaN</td>\n",
              "      <td>310933</td>\n",
              "      <td>[]</td>\n",
              "      <td>en</td>\n",
              "      <td>Bleeding Hearts</td>\n",
              "      <td>Captured Hearts, an insane serial killer/horro...</td>\n",
              "      <td>0.100533</td>\n",
              "      <td>[]</td>\n",
              "      <td>[]</td>\n",
              "      <td>2013-06-01</td>\n",
              "      <td>0</td>\n",
              "      <td>0.0</td>\n",
              "      <td>[]</td>\n",
              "      <td>Released</td>\n",
              "      <td>NaN</td>\n",
              "      <td>Bleeding Hearts</td>\n",
              "      <td>2.0</td>\n",
              "      <td>1</td>\n",
              "    </tr>\n",
              "    <tr>\n",
              "      <th>4322</th>\n",
              "      <td>0</td>\n",
              "      <td>[{\"id\": 99, \"name\": \"Documentary\"}]</td>\n",
              "      <td>NaN</td>\n",
              "      <td>102840</td>\n",
              "      <td>[]</td>\n",
              "      <td>en</td>\n",
              "      <td>Sex With Strangers</td>\n",
              "      <td>For some married couples, sex is an obsession ...</td>\n",
              "      <td>0.014406</td>\n",
              "      <td>[]</td>\n",
              "      <td>[]</td>\n",
              "      <td>2002-02-22</td>\n",
              "      <td>0</td>\n",
              "      <td>0.0</td>\n",
              "      <td>[]</td>\n",
              "      <td>Released</td>\n",
              "      <td>NaN</td>\n",
              "      <td>Sex With Strangers</td>\n",
              "      <td>5.0</td>\n",
              "      <td>1</td>\n",
              "    </tr>\n",
              "    <tr>\n",
              "      <th>4328</th>\n",
              "      <td>0</td>\n",
              "      <td>[{\"id\": 27, \"name\": \"Horror\"}, {\"id\": 99, \"nam...</td>\n",
              "      <td>NaN</td>\n",
              "      <td>202604</td>\n",
              "      <td>[{\"id\": 2626, \"name\": \"exorcism\"}]</td>\n",
              "      <td>en</td>\n",
              "      <td>The Vatican Exorcisms</td>\n",
              "      <td>Documentary following US film-maker Joe Marino...</td>\n",
              "      <td>0.447166</td>\n",
              "      <td>[]</td>\n",
              "      <td>[]</td>\n",
              "      <td>2013-05-29</td>\n",
              "      <td>0</td>\n",
              "      <td>0.0</td>\n",
              "      <td>[{\"iso_639_1\": \"it\", \"name\": \"Italiano\"}, {\"is...</td>\n",
              "      <td>Released</td>\n",
              "      <td>The public were never meant to know</td>\n",
              "      <td>The Vatican Exorcisms</td>\n",
              "      <td>4.4</td>\n",
              "      <td>11</td>\n",
              "    </tr>\n",
              "    <tr>\n",
              "      <th>4405</th>\n",
              "      <td>0</td>\n",
              "      <td>[{\"id\": 10751, \"name\": \"Family\"}, {\"id\": 35, \"...</td>\n",
              "      <td>https://www.epicbuzz.net/movies/karachi-se-lahore</td>\n",
              "      <td>357441</td>\n",
              "      <td>[]</td>\n",
              "      <td>en</td>\n",
              "      <td>Karachi se Lahore</td>\n",
              "      <td>A road trip from Karachi to Lahore where 5 fri...</td>\n",
              "      <td>0.060003</td>\n",
              "      <td>[]</td>\n",
              "      <td>[{\"iso_3166_1\": \"PK\", \"name\": \"Pakistan\"}]</td>\n",
              "      <td>2015-07-31</td>\n",
              "      <td>0</td>\n",
              "      <td>0.0</td>\n",
              "      <td>[{\"iso_639_1\": \"ur\", \"name\": \"\\u0627\\u0631\\u06...</td>\n",
              "      <td>Released</td>\n",
              "      <td>NaN</td>\n",
              "      <td>Karachi se Lahore</td>\n",
              "      <td>8.0</td>\n",
              "      <td>1</td>\n",
              "    </tr>\n",
              "    <tr>\n",
              "      <th>4435</th>\n",
              "      <td>0</td>\n",
              "      <td>[{\"id\": 27, \"name\": \"Horror\"}]</td>\n",
              "      <td>NaN</td>\n",
              "      <td>323270</td>\n",
              "      <td>[{\"id\": 9706, \"name\": \"anthology\"}]</td>\n",
              "      <td>en</td>\n",
              "      <td>The Horror Network Vol. 1</td>\n",
              "      <td>Serial killers, ghostly phone calls, inner dem...</td>\n",
              "      <td>0.392658</td>\n",
              "      <td>[]</td>\n",
              "      <td>[]</td>\n",
              "      <td>2015-10-27</td>\n",
              "      <td>0</td>\n",
              "      <td>0.0</td>\n",
              "      <td>[]</td>\n",
              "      <td>Released</td>\n",
              "      <td>NaN</td>\n",
              "      <td>The Horror Network Vol. 1</td>\n",
              "      <td>5.0</td>\n",
              "      <td>2</td>\n",
              "    </tr>\n",
              "    <tr>\n",
              "      <th>4458</th>\n",
              "      <td>0</td>\n",
              "      <td>[]</td>\n",
              "      <td>NaN</td>\n",
              "      <td>279759</td>\n",
              "      <td>[]</td>\n",
              "      <td>en</td>\n",
              "      <td>Harrison Montgomery</td>\n",
              "      <td>Film from Daniel Davila</td>\n",
              "      <td>0.006943</td>\n",
              "      <td>[]</td>\n",
              "      <td>[]</td>\n",
              "      <td>2008-01-01</td>\n",
              "      <td>0</td>\n",
              "      <td>0.0</td>\n",
              "      <td>[]</td>\n",
              "      <td>Released</td>\n",
              "      <td>NaN</td>\n",
              "      <td>Harrison Montgomery</td>\n",
              "      <td>0.0</td>\n",
              "      <td>0</td>\n",
              "    </tr>\n",
              "    <tr>\n",
              "      <th>4502</th>\n",
              "      <td>0</td>\n",
              "      <td>[{\"id\": 80, \"name\": \"Crime\"}, {\"id\": 18, \"name...</td>\n",
              "      <td>NaN</td>\n",
              "      <td>263503</td>\n",
              "      <td>[]</td>\n",
              "      <td>en</td>\n",
              "      <td>Water &amp; Power</td>\n",
              "      <td>Twin brothers nicknamed \"Water\" and \"Power\" fr...</td>\n",
              "      <td>0.350557</td>\n",
              "      <td>[]</td>\n",
              "      <td>[]</td>\n",
              "      <td>2014-05-02</td>\n",
              "      <td>0</td>\n",
              "      <td>0.0</td>\n",
              "      <td>[]</td>\n",
              "      <td>Released</td>\n",
              "      <td>NaN</td>\n",
              "      <td>Water &amp; Power</td>\n",
              "      <td>3.0</td>\n",
              "      <td>1</td>\n",
              "    </tr>\n",
              "    <tr>\n",
              "      <th>4504</th>\n",
              "      <td>0</td>\n",
              "      <td>[]</td>\n",
              "      <td>NaN</td>\n",
              "      <td>331493</td>\n",
              "      <td>[]</td>\n",
              "      <td>en</td>\n",
              "      <td>Light from the Darkroom</td>\n",
              "      <td>Light in the Darkroom is the story of two best...</td>\n",
              "      <td>0.012942</td>\n",
              "      <td>[]</td>\n",
              "      <td>[]</td>\n",
              "      <td>2014-01-01</td>\n",
              "      <td>0</td>\n",
              "      <td>0.0</td>\n",
              "      <td>[]</td>\n",
              "      <td>Released</td>\n",
              "      <td>NaN</td>\n",
              "      <td>Light from the Darkroom</td>\n",
              "      <td>0.0</td>\n",
              "      <td>0</td>\n",
              "    </tr>\n",
              "    <tr>\n",
              "      <th>4553</th>\n",
              "      <td>0</td>\n",
              "      <td>[]</td>\n",
              "      <td>NaN</td>\n",
              "      <td>380097</td>\n",
              "      <td>[]</td>\n",
              "      <td>en</td>\n",
              "      <td>America Is Still the Place</td>\n",
              "      <td>1971 post civil rights San Francisco seemed li...</td>\n",
              "      <td>0.000000</td>\n",
              "      <td>[]</td>\n",
              "      <td>[]</td>\n",
              "      <td>NaN</td>\n",
              "      <td>0</td>\n",
              "      <td>0.0</td>\n",
              "      <td>[]</td>\n",
              "      <td>Released</td>\n",
              "      <td>NaN</td>\n",
              "      <td>America Is Still the Place</td>\n",
              "      <td>0.0</td>\n",
              "      <td>0</td>\n",
              "    </tr>\n",
              "    <tr>\n",
              "      <th>4558</th>\n",
              "      <td>0</td>\n",
              "      <td>[{\"id\": 10402, \"name\": \"Music\"}, {\"id\": 27, \"n...</td>\n",
              "      <td>http://www.thedevilscarnival.com/</td>\n",
              "      <td>285743</td>\n",
              "      <td>[{\"id\": 3473, \"name\": \"carnival\"}, {\"id\": 4344...</td>\n",
              "      <td>en</td>\n",
              "      <td>Alleluia! The Devil's Carnival</td>\n",
              "      <td>The Devil's Carnival: Alleluia! is the second ...</td>\n",
              "      <td>0.674398</td>\n",
              "      <td>[{\"name\": \"Limb from Limb Pictures\", \"id\": 590...</td>\n",
              "      <td>[{\"iso_3166_1\": \"US\", \"name\": \"United States o...</td>\n",
              "      <td>2016-03-29</td>\n",
              "      <td>0</td>\n",
              "      <td>0.0</td>\n",
              "      <td>[]</td>\n",
              "      <td>Released</td>\n",
              "      <td>Hell ain't got a prayer.</td>\n",
              "      <td>Alleluia! The Devil's Carnival</td>\n",
              "      <td>6.0</td>\n",
              "      <td>2</td>\n",
              "    </tr>\n",
              "    <tr>\n",
              "      <th>4564</th>\n",
              "      <td>0</td>\n",
              "      <td>[{\"id\": 18, \"name\": \"Drama\"}]</td>\n",
              "      <td>NaN</td>\n",
              "      <td>94072</td>\n",
              "      <td>[]</td>\n",
              "      <td>en</td>\n",
              "      <td>Straight Out of Brooklyn</td>\n",
              "      <td>A Special Jury Award winner at the Sundance Fi...</td>\n",
              "      <td>0.161517</td>\n",
              "      <td>[]</td>\n",
              "      <td>[]</td>\n",
              "      <td>1991-06-13</td>\n",
              "      <td>0</td>\n",
              "      <td>0.0</td>\n",
              "      <td>[]</td>\n",
              "      <td>Released</td>\n",
              "      <td>NaN</td>\n",
              "      <td>Straight Out of Brooklyn</td>\n",
              "      <td>4.3</td>\n",
              "      <td>4</td>\n",
              "    </tr>\n",
              "    <tr>\n",
              "      <th>4566</th>\n",
              "      <td>0</td>\n",
              "      <td>[]</td>\n",
              "      <td>NaN</td>\n",
              "      <td>325579</td>\n",
              "      <td>[]</td>\n",
              "      <td>en</td>\n",
              "      <td>Diamond Ruff</td>\n",
              "      <td>Action - Orphan, con artist, crime boss and mi...</td>\n",
              "      <td>0.165257</td>\n",
              "      <td>[]</td>\n",
              "      <td>[]</td>\n",
              "      <td>2015-01-01</td>\n",
              "      <td>0</td>\n",
              "      <td>0.0</td>\n",
              "      <td>[]</td>\n",
              "      <td>Released</td>\n",
              "      <td>NaN</td>\n",
              "      <td>Diamond Ruff</td>\n",
              "      <td>2.4</td>\n",
              "      <td>4</td>\n",
              "    </tr>\n",
              "    <tr>\n",
              "      <th>4569</th>\n",
              "      <td>0</td>\n",
              "      <td>[]</td>\n",
              "      <td>http://mutualfriendsmovie.com/</td>\n",
              "      <td>198370</td>\n",
              "      <td>[]</td>\n",
              "      <td>en</td>\n",
              "      <td>Mutual Friends</td>\n",
              "      <td>Surprise parties rarely go well. This one is n...</td>\n",
              "      <td>0.136721</td>\n",
              "      <td>[]</td>\n",
              "      <td>[]</td>\n",
              "      <td>2014-04-15</td>\n",
              "      <td>0</td>\n",
              "      <td>0.0</td>\n",
              "      <td>[{\"iso_639_1\": \"en\", \"name\": \"English\"}]</td>\n",
              "      <td>Released</td>\n",
              "      <td>Surprise parties rarely go well.</td>\n",
              "      <td>Mutual Friends</td>\n",
              "      <td>0.0</td>\n",
              "      <td>0</td>\n",
              "    </tr>\n",
              "    <tr>\n",
              "      <th>4571</th>\n",
              "      <td>0</td>\n",
              "      <td>[]</td>\n",
              "      <td>NaN</td>\n",
              "      <td>328307</td>\n",
              "      <td>[]</td>\n",
              "      <td>en</td>\n",
              "      <td>Rise of the Entrepreneur: The Search for a Bet...</td>\n",
              "      <td>The world is changing faster than ever. Techno...</td>\n",
              "      <td>0.052942</td>\n",
              "      <td>[]</td>\n",
              "      <td>[]</td>\n",
              "      <td>2014-11-20</td>\n",
              "      <td>0</td>\n",
              "      <td>0.0</td>\n",
              "      <td>[]</td>\n",
              "      <td>Released</td>\n",
              "      <td>NaN</td>\n",
              "      <td>Rise of the Entrepreneur: The Search for a Bet...</td>\n",
              "      <td>8.0</td>\n",
              "      <td>1</td>\n",
              "    </tr>\n",
              "    <tr>\n",
              "      <th>4581</th>\n",
              "      <td>0</td>\n",
              "      <td>[]</td>\n",
              "      <td>NaN</td>\n",
              "      <td>281189</td>\n",
              "      <td>[{\"id\": 187056, \"name\": \"woman director\"}]</td>\n",
              "      <td>en</td>\n",
              "      <td>Gory Gory Hallelujah</td>\n",
              "      <td>Four actors compete for the role of Jesus - a ...</td>\n",
              "      <td>0.033883</td>\n",
              "      <td>[]</td>\n",
              "      <td>[]</td>\n",
              "      <td>2003-11-05</td>\n",
              "      <td>0</td>\n",
              "      <td>0.0</td>\n",
              "      <td>[]</td>\n",
              "      <td>Released</td>\n",
              "      <td>NaN</td>\n",
              "      <td>Gory Gory Hallelujah</td>\n",
              "      <td>1.0</td>\n",
              "      <td>1</td>\n",
              "    </tr>\n",
              "    <tr>\n",
              "      <th>4584</th>\n",
              "      <td>0</td>\n",
              "      <td>[{\"id\": 27, \"name\": \"Horror\"}, {\"id\": 35, \"nam...</td>\n",
              "      <td>NaN</td>\n",
              "      <td>189711</td>\n",
              "      <td>[]</td>\n",
              "      <td>en</td>\n",
              "      <td>Love in the Time of Monsters</td>\n",
              "      <td>Two sisters travel to a cheesy tourist trap wh...</td>\n",
              "      <td>0.133619</td>\n",
              "      <td>[{\"name\": \"Red Cube Picture\", \"id\": 27892}, {\"...</td>\n",
              "      <td>[{\"iso_3166_1\": \"US\", \"name\": \"United States o...</td>\n",
              "      <td>2014-03-08</td>\n",
              "      <td>0</td>\n",
              "      <td>0.0</td>\n",
              "      <td>[]</td>\n",
              "      <td>Released</td>\n",
              "      <td>NaN</td>\n",
              "      <td>Love in the Time of Monsters</td>\n",
              "      <td>5.0</td>\n",
              "      <td>2</td>\n",
              "    </tr>\n",
              "    <tr>\n",
              "      <th>4611</th>\n",
              "      <td>0</td>\n",
              "      <td>[]</td>\n",
              "      <td>NaN</td>\n",
              "      <td>162396</td>\n",
              "      <td>[]</td>\n",
              "      <td>en</td>\n",
              "      <td>The Big Swap</td>\n",
              "      <td>In this British drama, Ellen (Sorcha Brooks) a...</td>\n",
              "      <td>0.627763</td>\n",
              "      <td>[]</td>\n",
              "      <td>[]</td>\n",
              "      <td>1998-06-11</td>\n",
              "      <td>0</td>\n",
              "      <td>0.0</td>\n",
              "      <td>[{\"iso_639_1\": \"en\", \"name\": \"English\"}]</td>\n",
              "      <td>Released</td>\n",
              "      <td>NaN</td>\n",
              "      <td>The Big Swap</td>\n",
              "      <td>0.0</td>\n",
              "      <td>0</td>\n",
              "    </tr>\n",
              "    <tr>\n",
              "      <th>4620</th>\n",
              "      <td>0</td>\n",
              "      <td>[{\"id\": 28, \"name\": \"Action\"}, {\"id\": 12, \"nam...</td>\n",
              "      <td>NaN</td>\n",
              "      <td>47534</td>\n",
              "      <td>[{\"id\": 2792, \"name\": \"boxer\"}, {\"id\": 4076, \"...</td>\n",
              "      <td>en</td>\n",
              "      <td>Fighting Tommy Riley</td>\n",
              "      <td>An aging trainer and a young fighter, both in ...</td>\n",
              "      <td>0.045429</td>\n",
              "      <td>[]</td>\n",
              "      <td>[]</td>\n",
              "      <td>2005-05-06</td>\n",
              "      <td>0</td>\n",
              "      <td>0.0</td>\n",
              "      <td>[{\"iso_639_1\": \"en\", \"name\": \"English\"}]</td>\n",
              "      <td>Released</td>\n",
              "      <td>NaN</td>\n",
              "      <td>Fighting Tommy Riley</td>\n",
              "      <td>5.3</td>\n",
              "      <td>4</td>\n",
              "    </tr>\n",
              "    <tr>\n",
              "      <th>4633</th>\n",
              "      <td>0</td>\n",
              "      <td>[]</td>\n",
              "      <td>NaN</td>\n",
              "      <td>300327</td>\n",
              "      <td>[]</td>\n",
              "      <td>en</td>\n",
              "      <td>Death Calls</td>\n",
              "      <td>An action-packed love story on the Mexican bor...</td>\n",
              "      <td>0.005883</td>\n",
              "      <td>[]</td>\n",
              "      <td>[]</td>\n",
              "      <td>2010-09-01</td>\n",
              "      <td>0</td>\n",
              "      <td>0.0</td>\n",
              "      <td>[]</td>\n",
              "      <td>Released</td>\n",
              "      <td>NaN</td>\n",
              "      <td>Death Calls</td>\n",
              "      <td>0.0</td>\n",
              "      <td>0</td>\n",
              "    </tr>\n",
              "    <tr>\n",
              "      <th>4657</th>\n",
              "      <td>0</td>\n",
              "      <td>[]</td>\n",
              "      <td>NaN</td>\n",
              "      <td>320435</td>\n",
              "      <td>[]</td>\n",
              "      <td>en</td>\n",
              "      <td>UnDivided</td>\n",
              "      <td>UnDivided documents the true story of how a su...</td>\n",
              "      <td>0.010607</td>\n",
              "      <td>[]</td>\n",
              "      <td>[]</td>\n",
              "      <td>2013-02-01</td>\n",
              "      <td>0</td>\n",
              "      <td>0.0</td>\n",
              "      <td>[]</td>\n",
              "      <td>Released</td>\n",
              "      <td>NaN</td>\n",
              "      <td>UnDivided</td>\n",
              "      <td>0.0</td>\n",
              "      <td>0</td>\n",
              "    </tr>\n",
              "    <tr>\n",
              "      <th>4658</th>\n",
              "      <td>0</td>\n",
              "      <td>[{\"id\": 27, \"name\": \"Horror\"}, {\"id\": 53, \"nam...</td>\n",
              "      <td>NaN</td>\n",
              "      <td>150211</td>\n",
              "      <td>[{\"id\": 177972, \"name\": \"bickering\"}, {\"id\": 2...</td>\n",
              "      <td>en</td>\n",
              "      <td>The Frozen</td>\n",
              "      <td>After a harrowing snowmobile accident, a young...</td>\n",
              "      <td>1.084387</td>\n",
              "      <td>[]</td>\n",
              "      <td>[]</td>\n",
              "      <td>2012-10-10</td>\n",
              "      <td>0</td>\n",
              "      <td>0.0</td>\n",
              "      <td>[]</td>\n",
              "      <td>Released</td>\n",
              "      <td>NaN</td>\n",
              "      <td>The Frozen</td>\n",
              "      <td>4.2</td>\n",
              "      <td>14</td>\n",
              "    </tr>\n",
              "    <tr>\n",
              "      <th>4662</th>\n",
              "      <td>0</td>\n",
              "      <td>[{\"id\": 35, \"name\": \"Comedy\"}]</td>\n",
              "      <td>NaN</td>\n",
              "      <td>40963</td>\n",
              "      <td>[{\"id\": 10183, \"name\": \"independent film\"}]</td>\n",
              "      <td>en</td>\n",
              "      <td>Little Big Top</td>\n",
              "      <td>An aging out of work clown returns to his smal...</td>\n",
              "      <td>0.092100</td>\n",
              "      <td>[{\"name\": \"Fly High Films\", \"id\": 24248}]</td>\n",
              "      <td>[{\"iso_3166_1\": \"US\", \"name\": \"United States o...</td>\n",
              "      <td>2006-01-01</td>\n",
              "      <td>0</td>\n",
              "      <td>0.0</td>\n",
              "      <td>[{\"iso_639_1\": \"en\", \"name\": \"English\"}]</td>\n",
              "      <td>Rumored</td>\n",
              "      <td>NaN</td>\n",
              "      <td>Little Big Top</td>\n",
              "      <td>10.0</td>\n",
              "      <td>1</td>\n",
              "    </tr>\n",
              "    <tr>\n",
              "      <th>4729</th>\n",
              "      <td>0</td>\n",
              "      <td>[{\"id\": 10751, \"name\": \"Family\"}]</td>\n",
              "      <td>NaN</td>\n",
              "      <td>272726</td>\n",
              "      <td>[]</td>\n",
              "      <td>en</td>\n",
              "      <td>Dude Where's My Dog?</td>\n",
              "      <td>Left home alone with his dog Harry, young Ray ...</td>\n",
              "      <td>0.283970</td>\n",
              "      <td>[]</td>\n",
              "      <td>[]</td>\n",
              "      <td>2014-06-12</td>\n",
              "      <td>0</td>\n",
              "      <td>0.0</td>\n",
              "      <td>[]</td>\n",
              "      <td>Released</td>\n",
              "      <td>NaN</td>\n",
              "      <td>Dude Where's My Dog?</td>\n",
              "      <td>0.0</td>\n",
              "      <td>0</td>\n",
              "    </tr>\n",
              "  </tbody>\n",
              "</table>\n",
              "</div>\n",
              "      <button class=\"colab-df-convert\" onclick=\"convertToInteractive('df-88097eae-4ede-4d45-8bf1-b199c3263275')\"\n",
              "              title=\"Convert this dataframe to an interactive table.\"\n",
              "              style=\"display:none;\">\n",
              "        \n",
              "  <svg xmlns=\"http://www.w3.org/2000/svg\" height=\"24px\"viewBox=\"0 0 24 24\"\n",
              "       width=\"24px\">\n",
              "    <path d=\"M0 0h24v24H0V0z\" fill=\"none\"/>\n",
              "    <path d=\"M18.56 5.44l.94 2.06.94-2.06 2.06-.94-2.06-.94-.94-2.06-.94 2.06-2.06.94zm-11 1L8.5 8.5l.94-2.06 2.06-.94-2.06-.94L8.5 2.5l-.94 2.06-2.06.94zm10 10l.94 2.06.94-2.06 2.06-.94-2.06-.94-.94-2.06-.94 2.06-2.06.94z\"/><path d=\"M17.41 7.96l-1.37-1.37c-.4-.4-.92-.59-1.43-.59-.52 0-1.04.2-1.43.59L10.3 9.45l-7.72 7.72c-.78.78-.78 2.05 0 2.83L4 21.41c.39.39.9.59 1.41.59.51 0 1.02-.2 1.41-.59l7.78-7.78 2.81-2.81c.8-.78.8-2.07 0-2.86zM5.41 20L4 18.59l7.72-7.72 1.47 1.35L5.41 20z\"/>\n",
              "  </svg>\n",
              "      </button>\n",
              "      \n",
              "  <style>\n",
              "    .colab-df-container {\n",
              "      display:flex;\n",
              "      flex-wrap:wrap;\n",
              "      gap: 12px;\n",
              "    }\n",
              "\n",
              "    .colab-df-convert {\n",
              "      background-color: #E8F0FE;\n",
              "      border: none;\n",
              "      border-radius: 50%;\n",
              "      cursor: pointer;\n",
              "      display: none;\n",
              "      fill: #1967D2;\n",
              "      height: 32px;\n",
              "      padding: 0 0 0 0;\n",
              "      width: 32px;\n",
              "    }\n",
              "\n",
              "    .colab-df-convert:hover {\n",
              "      background-color: #E2EBFA;\n",
              "      box-shadow: 0px 1px 2px rgba(60, 64, 67, 0.3), 0px 1px 3px 1px rgba(60, 64, 67, 0.15);\n",
              "      fill: #174EA6;\n",
              "    }\n",
              "\n",
              "    [theme=dark] .colab-df-convert {\n",
              "      background-color: #3B4455;\n",
              "      fill: #D2E3FC;\n",
              "    }\n",
              "\n",
              "    [theme=dark] .colab-df-convert:hover {\n",
              "      background-color: #434B5C;\n",
              "      box-shadow: 0px 1px 3px 1px rgba(0, 0, 0, 0.15);\n",
              "      filter: drop-shadow(0px 1px 2px rgba(0, 0, 0, 0.3));\n",
              "      fill: #FFFFFF;\n",
              "    }\n",
              "  </style>\n",
              "\n",
              "      <script>\n",
              "        const buttonEl =\n",
              "          document.querySelector('#df-88097eae-4ede-4d45-8bf1-b199c3263275 button.colab-df-convert');\n",
              "        buttonEl.style.display =\n",
              "          google.colab.kernel.accessAllowed ? 'block' : 'none';\n",
              "\n",
              "        async function convertToInteractive(key) {\n",
              "          const element = document.querySelector('#df-88097eae-4ede-4d45-8bf1-b199c3263275');\n",
              "          const dataTable =\n",
              "            await google.colab.kernel.invokeFunction('convertToInteractive',\n",
              "                                                     [key], {});\n",
              "          if (!dataTable) return;\n",
              "\n",
              "          const docLinkHtml = 'Like what you see? Visit the ' +\n",
              "            '<a target=\"_blank\" href=https://colab.research.google.com/notebooks/data_table.ipynb>data table notebook</a>'\n",
              "            + ' to learn more about interactive tables.';\n",
              "          element.innerHTML = '';\n",
              "          dataTable['output_type'] = 'display_data';\n",
              "          await google.colab.output.renderOutput(dataTable, element);\n",
              "          const docLink = document.createElement('div');\n",
              "          docLink.innerHTML = docLinkHtml;\n",
              "          element.appendChild(docLink);\n",
              "        }\n",
              "      </script>\n",
              "    </div>\n",
              "  </div>\n",
              "  "
            ]
          },
          "metadata": {},
          "execution_count": 45
        }
      ]
    },
    {
      "cell_type": "code",
      "source": [
        "ax = sns.distplot(tmdb.query('runtime > 0').runtime.dropna())\n",
        "ax.set(xlabel = 'Tempo de duração', ylabel = 'Densidade')\n",
        "ax.set_title('Tempo de duração em filmes no TMDB 5000')\n",
        "ax"
      ],
      "metadata": {
        "colab": {
          "base_uri": "https://localhost:8080/",
          "height": 0
        },
        "id": "AC24dMMAtihi",
        "outputId": "15957b48-00a6-4918-89d5-d859af7082c9"
      },
      "execution_count": 46,
      "outputs": [
        {
          "output_type": "stream",
          "name": "stderr",
          "text": [
            "/usr/local/lib/python3.8/dist-packages/seaborn/distributions.py:2619: FutureWarning: `distplot` is a deprecated function and will be removed in a future version. Please adapt your code to use either `displot` (a figure-level function with similar flexibility) or `histplot` (an axes-level function for histograms).\n",
            "  warnings.warn(msg, FutureWarning)\n"
          ]
        },
        {
          "output_type": "execute_result",
          "data": {
            "text/plain": [
              "<AxesSubplot:title={'center':'Tempo de duração em filmes no TMDB 5000'}, xlabel='Tempo de duração', ylabel='Densidade'>"
            ]
          },
          "metadata": {},
          "execution_count": 46
        },
        {
          "output_type": "display_data",
          "data": {
            "text/plain": [
              "<Figure size 432x288 with 1 Axes>"
            ],
            "image/png": "[encoded data removed]"
          },
          "metadata": {
            "needs_background": "light"
          }
        }
      ]
    },
    {
      "cell_type": "code",
      "source": [
        "ax = sns.distplot(tmdb.query('runtime > 0').runtime.dropna(),\n",
        "                  hist_kws = {'cumulative': True},\n",
        "                  kde_kws = {\"cumulative\": True})\n",
        "ax.set(xlabel = 'Tempo de duração', ylabel = '% de filmes')\n",
        "ax.set_title('Tempo de duração em filmes no TMDB 5000')\n",
        "ax"
      ],
      "metadata": {
        "colab": {
          "base_uri": "https://localhost:8080/",
          "height": 0
        },
        "id": "ADUshYZXtxlj",
        "outputId": "ba289144-31e3-49a4-8a78-2cc1092e3a73"
      },
      "execution_count": 47,
      "outputs": [
        {
          "output_type": "stream",
          "name": "stderr",
          "text": [
            "/usr/local/lib/python3.8/dist-packages/seaborn/distributions.py:2619: FutureWarning: `distplot` is a deprecated function and will be removed in a future version. Please adapt your code to use either `displot` (a figure-level function with similar flexibility) or `histplot` (an axes-level function for histograms).\n",
            "  warnings.warn(msg, FutureWarning)\n"
          ]
        },
        {
          "output_type": "execute_result",
          "data": {
            "text/plain": [
              "<AxesSubplot:title={'center':'Tempo de duração em filmes no TMDB 5000'}, xlabel='Tempo de duração', ylabel='% de filmes'>"
            ]
          },
          "metadata": {},
          "execution_count": 47
        },
        {
          "output_type": "display_data",
          "data": {
            "text/plain": [
              "<Figure size 432x288 with 1 Axes>"
            ],
            "image/png": "[encoded data removed]"
          },
          "metadata": {
            "needs_background": "light"
          }
        }
      ]
    },
    {
      "cell_type": "code",
      "source": [
        "tmdb.query('runtime > 0').runtime.dropna().quantile(0.8)"
      ],
      "metadata": {
        "colab": {
          "base_uri": "https://localhost:8080/"
        },
        "id": "UWi07ipkuO1z",
        "outputId": "356f4fd6-32ec-4e57-b4fd-789576df788d"
      },
      "execution_count": 48,
      "outputs": [
        {
          "output_type": "execute_result",
          "data": {
            "text/plain": [
              "121.0"
            ]
          },
          "metadata": {},
          "execution_count": 48
        }
      ]
    },
    {
      "cell_type": "markdown",
      "source": [
        "# Aula 03\n",
        "\n",
        "## 0.1 O efeito do tamanho de uma amostra"
      ],
      "metadata": {
        "id": "n19EP8bFvG4T"
      }
    },
    {
      "cell_type": "code",
      "source": [
        "nota_media_dos_filmes_com_pelo_menos_10_votos"
      ],
      "metadata": {
        "colab": {
          "base_uri": "https://localhost:8080/"
        },
        "id": "HwcvaNljunVa",
        "outputId": "beeecee3-22e2-4685-ca41-5a18bbd381ea"
      },
      "execution_count": 49,
      "outputs": [
        {
          "output_type": "execute_result",
          "data": {
            "text/plain": [
              "movieId\n",
              "1         3.920930\n",
              "2         3.431818\n",
              "3         3.259615\n",
              "5         3.071429\n",
              "6         3.946078\n",
              "            ...   \n",
              "174055    3.423077\n",
              "176371    3.805556\n",
              "177765    3.538462\n",
              "179819    3.125000\n",
              "187593    3.875000\n",
              "Name: rating, Length: 2269, dtype: float64"
            ]
          },
          "metadata": {},
          "execution_count": 49
        }
      ]
    },
    {
      "cell_type": "code",
      "source": [
        "nota_media_dos_filmes_com_pelo_menos_10_votos.mean()"
      ],
      "metadata": {
        "colab": {
          "base_uri": "https://localhost:8080/"
        },
        "id": "6XqUXySh1Zpj",
        "outputId": "10b3b65c-484e-4416-ea44-e1acbcfd905f"
      },
      "execution_count": 50,
      "outputs": [
        {
          "output_type": "execute_result",
          "data": {
            "text/plain": [
              "3.4320503405352594"
            ]
          },
          "metadata": {},
          "execution_count": 50
        }
      ]
    },
    {
      "cell_type": "code",
      "source": [
        "print('Média dos filmes com pelo menos 10 votos', nota_media_dos_filmes_com_pelo_menos_10_votos.mean())"
      ],
      "metadata": {
        "colab": {
          "base_uri": "https://localhost:8080/"
        },
        "id": "ljFxmdi01e0i",
        "outputId": "8748c710-d379-4c7e-8592-b19eafe09245"
      },
      "execution_count": 51,
      "outputs": [
        {
          "output_type": "stream",
          "name": "stdout",
          "text": [
            "Média dos filmes com pelo menos 10 votos 3.4320503405352594\n"
          ]
        }
      ]
    },
    {
      "cell_type": "code",
      "source": [
        "nota_media_dos_filmes_com_pelo_menos_10_votos[0:5].mean()"
      ],
      "metadata": {
        "colab": {
          "base_uri": "https://localhost:8080/"
        },
        "id": "1gLnsrqx1woh",
        "outputId": "b34fa6d9-e256-4b85-d8a6-295d4eb8f4fc"
      },
      "execution_count": 52,
      "outputs": [
        {
          "output_type": "execute_result",
          "data": {
            "text/plain": [
              "3.5259741603585653"
            ]
          },
          "metadata": {},
          "execution_count": 52
        }
      ]
    },
    {
      "cell_type": "code",
      "source": [
        "len(nota_media_dos_filmes_com_pelo_menos_10_votos)"
      ],
      "metadata": {
        "colab": {
          "base_uri": "https://localhost:8080/"
        },
        "id": "iRgGHdYc2_eK",
        "outputId": "9f0a3aed-7ff5-4062-cebf-0eef6d69d15a"
      },
      "execution_count": 53,
      "outputs": [
        {
          "output_type": "execute_result",
          "data": {
            "text/plain": [
              "2269"
            ]
          },
          "metadata": {},
          "execution_count": 53
        }
      ]
    },
    {
      "cell_type": "code",
      "source": [
        "medias = list()\n",
        "for i in range(1, len(nota_media_dos_filmes_com_pelo_menos_10_votos)):\n",
        "  medias.append(nota_media_dos_filmes_com_pelo_menos_10_votos[0:i].mean())\n",
        "\n",
        "medias"
      ],
      "metadata": {
        "colab": {
          "base_uri": "https://localhost:8080/"
        },
        "id": "wLD5C2_s3QY6",
        "outputId": "e4ee9d90-5e03-4157-a484-9796009b3f3c"
      },
      "execution_count": 54,
      "outputs": [
        {
          "output_type": "execute_result",
          "data": {
            "text/plain": [
              "[3.9209302325581397,\n",
              " 3.676374207188161,\n",
              " 3.5374545996639024,\n",
              " 3.4209480926050695,\n",
              " 3.5259741603585653,\n",
              " 3.469175997829668,\n",
              " 3.420007998139716,\n",
              " 3.429533513523767,\n",
              " 3.456410742179856,\n",
              " 3.352874931119765,\n",
              " 3.396552967684635,\n",
              " 3.363506887044249,\n",
              " 3.406839377909513,\n",
              " 3.4332165225577675,\n",
              " 3.451002087720583,\n",
              " 3.4057690026925918,\n",
              " 3.352488473122439,\n",
              " 3.360371448086299,\n",
              " 3.353100436198716,\n",
              " 3.34169541438878,\n",
              " 3.3313765851321713,\n",
              " 3.3447231039898,\n",
              " 3.3514742733815477,\n",
              " 3.387965875627014,\n",
              " 3.412973556391407,\n",
              " 3.404174978311576,\n",
              " 3.425614825316986,\n",
              " 3.4337122869128076,\n",
              " 3.4475781010027933,\n",
              " 3.4424344719950075,\n",
              " 3.4507430374145236,\n",
              " 3.422391013147493,\n",
              " 3.419060982446054,\n",
              " 3.40869644374666,\n",
              " 3.424887101300415,\n",
              " 3.417169649140109,\n",
              " 3.4393473639752203,\n",
              " 3.4400036363518125,\n",
              " 3.4550555181639973,\n",
              " 3.4495614831510735,\n",
              " 3.4558221786839747,\n",
              " 3.433832556918073,\n",
              " 3.441766683501374,\n",
              " 3.4432967795374996,\n",
              " 3.4437021502486322,\n",
              " 3.442752103504097,\n",
              " 3.4283255881604546,\n",
              " 3.421634281264255,\n",
              " 3.4327573911704268,\n",
              " 3.427227243347018,\n",
              " 3.4237521993598214,\n",
              " 3.4338723493721326,\n",
              " 3.426135314927555,\n",
              " 3.434910586873341,\n",
              " 3.423107017761358,\n",
              " 3.429526690580837,\n",
              " 3.429699800209137,\n",
              " 3.427163746682293,\n",
              " 3.4254647522795945,\n",
              " 3.4355677659019386,\n",
              " 3.446554675162058,\n",
              " 3.4481179588025017,\n",
              " 3.435548626123097,\n",
              " 3.437857762173257,\n",
              " 3.4303770720356037,\n",
              " 3.4314319648835494,\n",
              " 3.4323685929675505,\n",
              " 3.430912192090577,\n",
              " 3.4282192333532597,\n",
              " 3.428768482400594,\n",
              " 3.4346417593284535,\n",
              " 3.436180825802427,\n",
              " 3.429055860985416,\n",
              " 3.4350821331342614,\n",
              " 3.427462856207623,\n",
              " 3.4192916556378283,\n",
              " 3.412454843783534,\n",
              " 3.405592512228055,\n",
              " 3.4085080795428526,\n",
              " 3.4184752579603304,\n",
              " 3.420229959227562,\n",
              " 3.419025064254403,\n",
              " 3.42067000993273,\n",
              " 3.4166540971160706,\n",
              " 3.4046934606794106,\n",
              " 3.402645530073504,\n",
              " 3.39433058470506,\n",
              " 3.3860922239551132,\n",
              " 3.378383322562359,\n",
              " 3.3850123967561108,\n",
              " 3.3951517364367287,\n",
              " 3.3952346281904355,\n",
              " 3.383078405116914,\n",
              " 3.379430534545761,\n",
              " 3.3735724938312446,\n",
              " 3.3744554192427247,\n",
              " 3.36514586411062,\n",
              " 3.3682226069938452,\n",
              " 3.3655132877312814,\n",
              " 3.3585248215206356,\n",
              " 3.357450318337263,\n",
              " 3.358179415038056,\n",
              " 3.351951135927654,\n",
              " 3.3526878695107665,\n",
              " 3.348500780070291,\n",
              " 3.3550400808872385,\n",
              " 3.3547736372550667,\n",
              " 3.3554569501376257,\n",
              " 3.3590766111455377,\n",
              " 3.363591998596662,\n",
              " 3.365834413023719,\n",
              " 3.3673757266437,\n",
              " 3.3629178561746085,\n",
              " 3.3632065884303866,\n",
              " 3.360571317017425,\n",
              " 3.365159987929837,\n",
              " 3.366312466665479,\n",
              " 3.3597185923218533,\n",
              " 3.362398027920589,\n",
              " 3.3633595258360662,\n",
              " 3.3631739850515454,\n",
              " 3.3601971491085,\n",
              " 3.3677817531667715,\n",
              " 3.372304250549067,\n",
              " 3.370737581250557,\n",
              " 3.3735271418931894,\n",
              " 3.374156757879015,\n",
              " 3.374817373804415,\n",
              " 3.370582909112686,\n",
              " 3.3715784251964345,\n",
              " 3.3656885135537133,\n",
              " 3.37224447706627,\n",
              " 3.3760693485240605,\n",
              " 3.3800148153616565,\n",
              " 3.3841583644285618,\n",
              " 3.3842532207454803,\n",
              " 3.3810190838830185,\n",
              " 3.3837512971601633,\n",
              " 3.380605090500224,\n",
              " 3.379672196996651,\n",
              " 3.378565899220266,\n",
              " 3.3834839075139476,\n",
              " 3.3862967073615025,\n",
              " 3.3859578413381586,\n",
              " 3.384907757274957,\n",
              " 3.3893653362368696,\n",
              " 3.3896128004410913,\n",
              " 3.393864044981903,\n",
              " 3.3992546782632913,\n",
              " 3.4000497705316595,\n",
              " 3.3970900038393967,\n",
              " 3.402495661708875,\n",
              " 3.405720090935179,\n",
              " 3.4097413890459887,\n",
              " 3.4119366058908533,\n",
              " 3.409802059496816,\n",
              " 3.4095803903280464,\n",
              " 3.4082773733240948,\n",
              " 3.414697151366201,\n",
              " 3.415855294170163,\n",
              " 3.416688491100783,\n",
              " 3.4130270153024114,\n",
              " 3.411413352631845,\n",
              " 3.4113042377896905,\n",
              " 3.407801383823288,\n",
              " 3.4100435441617014,\n",
              " 3.412176419742972,\n",
              " 3.4087831390490133,\n",
              " 3.4091417462445928,\n",
              " 3.408339308165079,\n",
              " 3.4061874564846257,\n",
              " 3.4072981237272857,\n",
              " 3.4083156682914826,\n",
              " 3.409443425683747,\n",
              " 3.409309262750016,\n",
              " 3.407986315735727,\n",
              " 3.4091241049123617,\n",
              " 3.40321409790242,\n",
              " 3.407465045615825,\n",
              " 3.4080870035608934,\n",
              " 3.406157371107031,\n",
              " 3.4068345930498816,\n",
              " 3.4097582316950534,\n",
              " 3.4070783862329423,\n",
              " 3.405876413203554,\n",
              " 3.4063824539927823,\n",
              " 3.4045319854023735,\n",
              " 3.404026622764721,\n",
              " 3.4006291526014407,\n",
              " 3.4018698604107156,\n",
              " 3.395577348052544,\n",
              " 3.3948191326981045,\n",
              " 3.395515612663823,\n",
              " 3.390899552804731,\n",
              " 3.3914446372069422,\n",
              " 3.39362186772212,\n",
              " 3.392416934383429,\n",
              " 3.390916031155422,\n",
              " 3.386439066174742,\n",
              " 3.381590204177202,\n",
              " 3.3801951806548804,\n",
              " 3.380788273819955,\n",
              " 3.377870408128534,\n",
              " 3.373720308088688,\n",
              " 3.375274392889757,\n",
              " 3.3718750026330104,\n",
              " 3.368727485630198,\n",
              " 3.3679563598980016,\n",
              " 3.3654780998027958,\n",
              " 3.361555188216433,\n",
              " 3.36326451065248,\n",
              " 3.3650325801215497,\n",
              " 3.3616542794893096,\n",
              " 3.3601262383017265,\n",
              " 3.355756511242811,\n",
              " 3.356637511799923,\n",
              " 3.359273151969377,\n",
              " 3.358049846651135,\n",
              " 3.3564149158445087,\n",
              " 3.357225091069518,\n",
              " 3.352857067543827,\n",
              " 3.355736563920467,\n",
              " 3.353692902198851,\n",
              " 3.351518677933082,\n",
              " 3.350865463606915,\n",
              " 3.351746589874141,\n",
              " 3.3532492795348587,\n",
              " 3.3574016949754952,\n",
              " 3.3575106523824867,\n",
              " 3.3592171278069105,\n",
              " 3.3583456023048983,\n",
              " 3.356516363778373,\n",
              " 3.3544009989708963,\n",
              " 3.35288646478726,\n",
              " 3.35263638471182,\n",
              " 3.3543201288443973,\n",
              " 3.355638046725504,\n",
              " 3.355732209472404,\n",
              " 3.357649453317173,\n",
              " 3.357779617632055,\n",
              " 3.353667115760829,\n",
              " 3.353795001169319,\n",
              " 3.3548643071877016,\n",
              " 3.3556270912015123,\n",
              " 3.3558762323258597,\n",
              " 3.3568855430345623,\n",
              " 3.3556655835710845,\n",
              " 3.351831294543628,\n",
              " 3.3509421519254157,\n",
              " 3.3514795597883023,\n",
              " 3.354959720904683,\n",
              " 3.357023372805855,\n",
              " 3.3566003555220374,\n",
              " 3.3551964171144704,\n",
              " 3.3533677601410368,\n",
              " 3.3543590691137,\n",
              " 3.3540178535399763,\n",
              " 3.3532916861489945,\n",
              " 3.3541798778369647,\n",
              " 3.354631871049929,\n",
              " 3.3519959890407973,\n",
              " 3.3548540442414545,\n",
              " 3.352690014741351,\n",
              " 3.3525551024534357,\n",
              " 3.3474511209347435,\n",
              " 3.348226731160027,\n",
              " 3.3479048897772827,\n",
              " 3.3496492171116383,\n",
              " 3.351323383590777,\n",
              " 3.3520350683214395,\n",
              " 3.3494675957446076,\n",
              " 3.347212608668749,\n",
              " 3.3459249788024623,\n",
              " 3.3462492767217804,\n",
              " 3.347871460176523,\n",
              " 3.3501291075775397,\n",
              " 3.351880864783608,\n",
              " 3.3521567301209747,\n",
              " 3.3550568505240554,\n",
              " 3.3559919443324806,\n",
              " 3.357467232591815,\n",
              " 3.3577953629726953,\n",
              " 3.358245503687227,\n",
              " 3.3598649977523487,\n",
              " 3.358602313549709,\n",
              " 3.3612506344794215,\n",
              " 3.3619829617858645,\n",
              " 3.3626200158958253,\n",
              " 3.362787805152626,\n",
              " 3.363753561489538,\n",
              " 3.363128353999258,\n",
              " 3.3620404299973927,\n",
              " 3.3597188523585557,\n",
              " 3.3596095576461003,\n",
              " 3.360211006728781,\n",
              " 3.3593059279638453,\n",
              " 3.3596078594920367,\n",
              " 3.359379868912086,\n",
              " 3.3598037192204435,\n",
              " 3.3576295307224133,\n",
              " 3.3562903809676725,\n",
              " 3.354716414080205,\n",
              " 3.354826033289454,\n",
              " 3.353957885452677,\n",
              " 3.352961302221684,\n",
              " 3.354966875308106,\n",
              " 3.3532987654304147,\n",
              " 3.355699070064058,\n",
              " 3.354652335418273,\n",
              " 3.3551211988524074,\n",
              " 3.3560388022894374,\n",
              " 3.355926941421144,\n",
              " 3.353671583780821,\n",
              " 3.3562017639221184,\n",
              " 3.3544937640943706,\n",
              " 3.3518442312311305,\n",
              " 3.3535602851809796,\n",
              " 3.3528058074402733,\n",
              " 3.3556748840223203,\n",
              " 3.35390550527291,\n",
              " 3.3509794262731227,\n",
              " 3.35037978438048,\n",
              " 3.3525124032717932,\n",
              " 3.3527995395408783,\n",
              " 3.352728732447037,\n",
              " 3.351050287119149,\n",
              " 3.3511053248314684,\n",
              " 3.3503683421338115,\n",
              " 3.3484879134862107,\n",
              " 3.346548051122111,\n",
              " 3.346880297913677,\n",
              " 3.349323112488763,\n",
              " 3.3486835945424405,\n",
              " 3.348648483546024,\n",
              " 3.3495693622731784,\n",
              " 3.3462968344092703,\n",
              " 3.346011087126157,\n",
              " 3.3451987128193594,\n",
              " 3.3451769993238383,\n",
              " 3.3438157520939926,\n",
              " 3.343607281480015,\n",
              " 3.345282893717402,\n",
              " 3.343790329401414,\n",
              " 3.3414585745678824,\n",
              " 3.340238273034221,\n",
              " 3.3397590254377376,\n",
              " 3.3424947703212022,\n",
              " 3.344384153165107,\n",
              " 3.342654515880224,\n",
              " 3.34321396451617,\n",
              " 3.3459693231004155,\n",
              " 3.3480389218561144,\n",
              " 3.3490595859112897,\n",
              " 3.3504668249969143,\n",
              " 3.352366918447627,\n",
              " 3.3549218000303727,\n",
              " 3.3576291019110394,\n",
              " 3.359937988571388,\n",
              " 3.3616177238761002,\n",
              " 3.3634187857542215,\n",
              " 3.3646494603302273,\n",
              " 3.3670675557436804,\n",
              " 3.3692807430431593,\n",
              " 3.3711312276580325,\n",
              " 3.3722148863950427,\n",
              " 3.37408777552427,\n",
              " 3.3760657379887817,\n",
              " 3.377436306044814,\n",
              " 3.3781599053358704,\n",
              " 3.380741455141268,\n",
              " 3.382527807717355,\n",
              " 3.383904064720384,\n",
              " 3.386170184296647,\n",
              " 3.388257073286942,\n",
              " 3.3905550544248437,\n",
              " 3.392754087004425,\n",
              " 3.3923754289487107,\n",
              " 3.395022205969633,\n",
              " 3.395629007536995,\n",
              " 3.3973102016187937,\n",
              " 3.399110787266339,\n",
              " 3.4003202121978697,\n",
              " 3.4020046360444933,\n",
              " 3.402910873971461,\n",
              " 3.404385360624247,\n",
              " 3.406187471088951,\n",
              " 3.406529264544694,\n",
              " 3.4063015649406663,\n",
              " 3.4082951809223565,\n",
              " 3.4059662189199913,\n",
              " 3.4050345065101366,\n",
              " 3.4029808470547533,\n",
              " 3.402485560760297,\n",
              " 3.4013371202507527,\n",
              " 3.401586899693156,\n",
              " 3.4017611454901284,\n",
              " 3.4009533871414908,\n",
              " 3.3982709246947365,\n",
              " 3.398496048287219,\n",
              " 3.399038269704962,\n",
              " 3.3994895458403613,\n",
              " 3.3985402115045824,\n",
              " 3.399753074363534,\n",
              " 3.399718324886679,\n",
              " 3.398155234372555,\n",
              " 3.398354769920078,\n",
              " 3.3982973871930016,\n",
              " 3.398730481832234,\n",
              " 3.4000477667177296,\n",
              " 3.401174647690412,\n",
              " 3.399640970526526,\n",
              " 3.4025323980031823,\n",
              " 3.4022207203416968,\n",
              " 3.4020177278244024,\n",
              " 3.4021964573385377,\n",
              " 3.4023514338032688,\n",
              " 3.4031185100344894,\n",
              " 3.403815462030685,\n",
              " 3.404456508166897,\n",
              " 3.4038598168470857,\n",
              " 3.4049764196095205,\n",
              " 3.4057940110322464,\n",
              " 3.4058018051174916,\n",
              " 3.4070205159810536,\n",
              " 3.4082439178072974,\n",
              " 3.4085571167482818,\n",
              " 3.410109508913809,\n",
              " 3.4117214025845715,\n",
              " 3.411621929895674,\n",
              " 3.4134606930269302,\n",
              " 3.41478474474642,\n",
              " 3.4127774167438107,\n",
              " 3.412266358879973,\n",
              " 3.412250550231414,\n",
              " 3.412315436760712,\n",
              " 3.412898811141231,\n",
              " 3.4143567085985733,\n",
              " 3.4151604454342452,\n",
              " 3.4135553563006584,\n",
              " 3.413300014171059,\n",
              " 3.414857156996068,\n",
              " 3.417255670215534,\n",
              " 3.417526057048088,\n",
              " 3.4180583095183543,\n",
              " 3.4186637964632567,\n",
              " 3.418791919008435,\n",
              " 3.4188588676207607,\n",
              " 3.4203589797263154,\n",
              " 3.4196797495162,\n",
              " 3.421328827197014,\n",
              " 3.422390182347353,\n",
              " 3.4237470940804657,\n",
              " 3.4235907896265805,\n",
              " 3.425216723362827,\n",
              " 3.424581881413378,\n",
              " 3.4254782661763605,\n",
              " 3.4279206915603653,\n",
              " 3.428361104088901,\n",
              " 3.428977117176095,\n",
              " 3.430109775617017,\n",
              " 3.430450007170427,\n",
              " 3.430944900897528,\n",
              " 3.432173961586734,\n",
              " 3.4338352408048594,\n",
              " 3.43417303403089,\n",
              " 3.4358500013622106,\n",
              " 3.4375556638136775,\n",
              " 3.439200844019204,\n",
              " 3.4407760364662736,\n",
              " 3.441889886844613,\n",
              " 3.443384458917837,\n",
              " 3.4448796672824553,\n",
              " 3.446687532679322,\n",
              " 3.4478460681237393,\n",
              " 3.4492625809385786,\n",
              " 3.4508809918362378,\n",
              " 3.4526727624100726,\n",
              " 3.45410598906202,\n",
              " 3.4550047560673502,\n",
              " 3.456617593381099,\n",
              " 3.4582670370539037,\n",
              " 3.4593270184753515,\n",
              " 3.460527616131251,\n",
              " 3.460515256293263,\n",
              " 3.4625210667613873,\n",
              " 3.463626990492331,\n",
              " 3.4648025912886777,\n",
              " 3.4655089872276834,\n",
              " 3.467133079119817,\n",
              " 3.46842064266383,\n",
              " 3.46968513364473,\n",
              " 3.4707630093893544,\n",
              " 3.4722101645961017,\n",
              " 3.4734050832912513,\n",
              " 3.4748476992846022,\n",
              " 3.4756457677440533,\n",
              " 3.476426432926935,\n",
              " 3.4779044922985682,\n",
              " 3.4789038069432605,\n",
              " 3.480522922406297,\n",
              " 3.4820033601304803,\n",
              " 3.482829940219634,\n",
              " 3.4839575148911655,\n",
              " 3.4853201620983594,\n",
              " 3.4862774489060855,\n",
              " 3.4875023168056005,\n",
              " 3.488956947344445,\n",
              " 3.4898828240732587,\n",
              " 3.49100936300286,\n",
              " 3.492526415001586,\n",
              " 3.493659295933928,\n",
              " 3.4948869578993347,\n",
              " 3.496010820693739,\n",
              " 3.4974035319507153,\n",
              " 3.498029932859549,\n",
              " 3.498336560896643,\n",
              " 3.498928458895077,\n",
              " 3.4992880278647487,\n",
              " 3.5004118829311737,\n",
              " 3.5013831956668726,\n",
              " 3.5018283974666162,\n",
              " 3.5028672657608544,\n",
              " 3.504062370370765,\n",
              " 3.5046759562962957,\n",
              " 3.5055128705586953,\n",
              " 3.5066641980122166,\n",
              " 3.508074702380315,\n",
              " 3.5087778001879806,\n",
              " 3.5097782423348964,\n",
              " 3.509759792821057,\n",
              " 3.510911303797311,\n",
              " 3.511916084326742,\n",
              " 3.5123507441002184,\n",
              " 3.5127567664271218,\n",
              " 3.514175781489055,\n",
              " 3.5153153789116502,\n",
              " 3.516204463165425,\n",
              " 3.5173515428497515,\n",
              " 3.5178444321356044,\n",
              " 3.5191271763645933,\n",
              " 3.520280096820217,\n",
              " 3.520670183942455,\n",
              " 3.521444596993368,\n",
              " 3.5223521464752765,\n",
              " 3.5229783560480485,\n",
              " 3.522661545872137,\n",
              " 3.5236190724270844,\n",
              " 3.524397139813167,\n",
              " 3.524959865120125,\n",
              " 3.5244186157785844,\n",
              " 3.5247479510547413,\n",
              " 3.5250201467955846,\n",
              " 3.525446637606473,\n",
              " 3.52633546523328,\n",
              " 3.526842414498972,\n",
              " 3.526826253938465,\n",
              " 3.527728561857258,\n",
              " 3.5284737586766832,\n",
              " 3.529064724277283,\n",
              " 3.528385923287882,\n",
              " 3.5281803217815946,\n",
              " 3.526588067353751,\n",
              " 3.5267224983660403,\n",
              " 3.5266139784068438,\n",
              " 3.5247969625158584,\n",
              " 3.5252478512746643,\n",
              " 3.5260221684933786,\n",
              " 3.525707379855577,\n",
              " 3.5247834653039853,\n",
              " 3.5247948101016977,\n",
              " 3.525308622725306,\n",
              " 3.5259271756211024,\n",
              " 3.5267545278451493,\n",
              " 3.527300993009034,\n",
              " 3.526142401910081,\n",
              " 3.5253582451100747,\n",
              " 3.5251486324923897,\n",
              " 3.5243169643469776,\n",
              " 3.5240076744176014,\n",
              " 3.5225295002663066,\n",
              " 3.5229487765692182,\n",
              " 3.5225002473344,\n",
              " 3.522421763524301,\n",
              " 3.5215700139292245,\n",
              " 3.520849381426782,\n",
              " 3.5199605599567705,\n",
              " 3.5193127666388757,\n",
              " 3.516863165621499,\n",
              " 3.515738044231083,\n",
              " 3.5165681399281397,\n",
              " 3.515047122870433,\n",
              " 3.514334244716622,\n",
              " 3.5144687867104536,\n",
              " 3.515271666379872,\n",
              " 3.5152094633600153,\n",
              " 3.5142367694130483,\n",
              " 3.5137104096652876,\n",
              " 3.514244896159715,\n",
              " 3.512551665949098,\n",
              " 3.513364079839183,\n",
              " 3.5132031856408927,\n",
              " 3.5133058381564393,\n",
              " 3.5115735730848696,\n",
              " 3.5101057360433385,\n",
              " 3.510045535174716,\n",
              " 3.510647770265187,\n",
              " 3.5099437926096146,\n",
              " 3.5085568236524725,\n",
              " 3.508156411597793,\n",
              " 3.5085371135712142,\n",
              " 3.506291330466128,\n",
              " 3.5063438961654665,\n",
              " 3.505871339510493,\n",
              " 3.5056396864553236,\n",
              " 3.5049653277633785,\n",
              " 3.5042004226595154,\n",
              " 3.5031131178145785,\n",
              " 3.500561034979807,\n",
              " 3.5007381084152605,\n",
              " 3.4998748489522997,\n",
              " 3.497620622142392,\n",
              " 3.497680717605186,\n",
              " 3.4974374963026964,\n",
              " 3.4978353363008843,\n",
              " 3.498331107455111,\n",
              " 3.4970558181460767,\n",
              " 3.4958702926678273,\n",
              " 3.4951346684837774,\n",
              " 3.4921301032841128,\n",
              " 3.4901017788571314,\n",
              " 3.490040782223801,\n",
              " 3.490056540479777,\n",
              " 3.48986708286469,\n",
              " 3.489863946752725,\n",
              " 3.4901199704970356,\n",
              " 3.4890277292626917,\n",
              " 3.488665149650237,\n",
              " 3.488016771672729,\n",
              " 3.4876931930003146,\n",
              " 3.4868374223862526,\n",
              " 3.4855079028265474,\n",
              " 3.4846610999640704,\n",
              " 3.4830699294532996,\n",
              " 3.4828552674296245,\n",
              " 3.4834589371269775,\n",
              " 3.482383089760623,\n",
              " 3.4816375208429093,\n",
              " 3.480932833310744,\n",
              " 3.481827937835848,\n",
              " 3.4817460047446716,\n",
              " 3.4811832376335197,\n",
              " 3.481520838037914,\n",
              " 3.4821346697425675,\n",
              " 3.4822796061449846,\n",
              " 3.482701970977478,\n",
              " 3.4806084847412313,\n",
              " 3.4805036996896965,\n",
              " 3.4812225213802783,\n",
              " 3.481697324302401,\n",
              " 3.4809201313867915,\n",
              " 3.4807598891305327,\n",
              " 3.481660437752576,\n",
              " 3.4819143435779867,\n",
              " 3.4816874394460924,\n",
              " 3.4817149771311358,\n",
              " 3.4818925822705786,\n",
              " 3.4823874959403383,\n",
              " 3.4819980269677058,\n",
              " 3.481800720499892,\n",
              " 3.480965528711418,\n",
              " 3.480993896030775,\n",
              " 3.480278131304538,\n",
              " 3.4811662978024476,\n",
              " 3.480606951168714,\n",
              " 3.4797754665576646,\n",
              " 3.4809148519621647,\n",
              " 3.480816433738122,\n",
              " 3.4802055933737104,\n",
              " 3.4790452135488708,\n",
              " 3.479367083332867,\n",
              " 3.4800207708784683,\n",
              " 3.4797834703613173,\n",
              " 3.4795769201520317,\n",
              " 3.480078878845767,\n",
              " 3.480244822088328,\n",
              " 3.4802736197237674,\n",
              " 3.4771727847605605,\n",
              " 3.4763753990684236,\n",
              " 3.4752606790891276,\n",
              " 3.475180073550075,\n",
              " 3.4741463390951806,\n",
              " 3.4744697066205723,\n",
              " 3.473816415745845,\n",
              " 3.4737433040849393,\n",
              " 3.473781083503522,\n",
              " 3.473123537452882,\n",
              " 3.473162097657397,\n",
              " 3.471693779268302,\n",
              " 3.4710189669946705,\n",
              " 3.4717746541846783,\n",
              " 3.47164709111334,\n",
              " 3.472352247203872,\n",
              " 3.471739607686749,\n",
              " 3.472134863925831,\n",
              " 3.471564129993823,\n",
              " 3.469415378328882,\n",
              " 3.4691344984915475,\n",
              " 3.4698382510421917,\n",
              " 3.469351878332682,\n",
              " 3.4690869461096785,\n",
              " 3.4682074286046016,\n",
              " 3.468017998695513,\n",
              " 3.468156355873593,\n",
              " 3.468117588134941,\n",
              " 3.466916549550137,\n",
              " 3.467464675877581,\n",
              " 3.46739382788705,\n",
              " 3.466818554904042,\n",
              " 3.465958563657283,\n",
              " 3.4650799175040548,\n",
              " 3.465615262736071,\n",
              " 3.4659069181563673,\n",
              " 3.4671297301644497,\n",
              " 3.4678029563030983,\n",
              " 3.468795641880611,\n",
              " 3.4689804153442334,\n",
              " 3.4699609349679936,\n",
              " 3.470626573044337,\n",
              " 3.4711768724939263,\n",
              " 3.4716658425316056,\n",
              " 3.47224202762097,\n",
              " 3.4729630084575533,\n",
              " 3.473734493491665,\n",
              " 3.474172804189162,\n",
              " 3.4744347006006966,\n",
              " 3.474730723687255,\n",
              " 3.475181959702152,\n",
              " 3.4755396134624235,\n",
              " 3.475388188225853,\n",
              " 3.4752605722700785,\n",
              " 3.47572773556179,\n",
              " 3.476136136271204,\n",
              " 3.474620475253342,\n",
              " 3.473870537338575,\n",
              " 3.4730666842683218,\n",
              " 3.4734006729250964,\n",
              " 3.4723764863928452,\n",
              " 3.4723138599603596,\n",
              " 3.4727538772267046,\n",
              " 3.473021316501513,\n",
              " 3.4726322748867706,\n",
              " 3.4719170492668354,\n",
              " 3.4717923902113523,\n",
              " 3.4716087575099226,\n",
              " 3.471739309405401,\n",
              " 3.4712475907421667,\n",
              " 3.471250809526558,\n",
              " 3.4717599019376615,\n",
              " 3.4718046808895706,\n",
              " 3.4716698302328974,\n",
              " 3.471175176179028,\n",
              " 3.4710403282478635,\n",
              " 3.4719793317495045,\n",
              " 3.472670458278628,\n",
              " 3.472617859552032,\n",
              " 3.472465036700861,\n",
              " 3.4733435393854037,\n",
              " 3.47299847401294,\n",
              " 3.4720724286178877,\n",
              " 3.4702255813079943,\n",
              " 3.4693009734738416,\n",
              " 3.4691464385341093,\n",
              " 3.4685395220547637,\n",
              " 3.4680264588110603,\n",
              " 3.4685047597382965,\n",
              " 3.46884272941746,\n",
              " 3.469710186835014,\n",
              " 3.4693332721838583,\n",
              " 3.4699447213516748,\n",
              " 3.4704065725797433,\n",
              " 3.470316423319078,\n",
              " 3.470258951082517,\n",
              " 3.4692162782891116,\n",
              " 3.469557637762293,\n",
              " 3.4695095620222367,\n",
              " 3.4696414464620395,\n",
              " 3.4684093734678054,\n",
              " 3.4684494630953844,\n",
              " 3.4680994735253114,\n",
              " 3.467831512490989,\n",
              " 3.4677572512983215,\n",
              " 3.467040386082035,\n",
              " 3.466599789200247,\n",
              " 3.4664403436219087,\n",
              " 3.466456351575424,\n",
              " 3.4663356405437593,\n",
              " 3.466133908944025,\n",
              " 3.4658630644466015,\n",
              " 3.4661795687464183,\n",
              " 3.466395455396596,\n",
              " 3.4659796475038824,\n",
              " 3.466289256065955,\n",
              " 3.4666218140700242,\n",
              " 3.4653630126278294,\n",
              " 3.464412251121459,\n",
              " 3.464195205753083,\n",
              " 3.4643870922627418,\n",
              " 3.4635235768845285,\n",
              " 3.46335234873016,\n",
              " 3.4629206006004143,\n",
              " 3.46330260636136,\n",
              " 3.462072289991809,\n",
              " 3.462177513555926,\n",
              " 3.462899654202663,\n",
              " 3.462915961959703,\n",
              " 3.4630154738286976,\n",
              " 3.4626527457905554,\n",
              " 3.4617204074705175,\n",
              " 3.4612505694600815,\n",
              " 3.461422264883089,\n",
              " 3.4611555194233343,\n",
              " 3.4608606221977585,\n",
              " 3.4613855268401155,\n",
              " 3.4599981436985394,\n",
              " 3.4608610247364804,\n",
              " 3.4610069500683216,\n",
              " 3.460887315262335,\n",
              " 3.460901373423283,\n",
              " 3.4614310460729536,\n",
              " 3.4620558279451545,\n",
              " 3.461905941268927,\n",
              " 3.46247872443863,\n",
              " 3.4629572747227506,\n",
              " 3.462912872625872,\n",
              " 3.4628717451479623,\n",
              " 3.462562742408007,\n",
              " 3.462010098749216,\n",
              " 3.462560297823593,\n",
              " 3.4622256826674485,\n",
              " 3.4609313663785586,\n",
              " 3.4613220231179542,\n",
              " 3.4610851855155635,\n",
              " 3.4611589347782417,\n",
              " 3.459901637462154,\n",
              " 3.4604619116584514,\n",
              " 3.4610374512676643,\n",
              " 3.4613195794243734,\n",
              " 3.461063830444444,\n",
              " 3.459460692834969,\n",
              " 3.459676453364407,\n",
              " 3.460275772420027,\n",
              " 3.4604691107153087,\n",
              " 3.4602372733808315,\n",
              " 3.4603871539671744,\n",
              " 3.460823348329006,\n",
              " 3.4614875871331847,\n",
              " 3.462261813986005,\n",
              " 3.4622866913093047,\n",
              " 3.463084643092096,\n",
              " 3.4626803407342965,\n",
              " 3.4635565009234157,\n",
              " 3.4627956375902014,\n",
              " 3.4624662931996815,\n",
              " 3.462711023234726,\n",
              " 3.461084253907929,\n",
              " 3.4606095607740865,\n",
              " 3.460288002090169,\n",
              " 3.4607254583089597,\n",
              " 3.4607620657371805,\n",
              " 3.460825907440731,\n",
              " 3.461069594025847,\n",
              " 3.4622132451030345,\n",
              " 3.4613974223709576,\n",
              " 3.4616017731462767,\n",
              " 3.460747697650436,\n",
              " 3.459841212455249,\n",
              " 3.4594118990240954,\n",
              " 3.45880729712153,\n",
              " 3.458529115571091,\n",
              " 3.458033886204223,\n",
              " 3.4568991523190116,\n",
              " 3.455587475275566,\n",
              " 3.4548176843284426,\n",
              " 3.4547980941877996,\n",
              " 3.455183016731604,\n",
              " 3.454840276477409,\n",
              " 3.4548911893562395,\n",
              " 3.4549922610541977,\n",
              " 3.4553546701115527,\n",
              " 3.456032725009643,\n",
              " 3.455136947245146,\n",
              " 3.4552432959589963,\n",
              " 3.4535203658030134,\n",
              " 3.4528000117132156,\n",
              " 3.4528010214249374,\n",
              " 3.4525941473613666,\n",
              " 3.4523039729410168,\n",
              " 3.4514986975442747,\n",
              " 3.45067044154225,\n",
              " 3.4489932260189677,\n",
              " 3.4489265175426858,\n",
              " 3.448831960831038,\n",
              " 3.4482310948721997,\n",
              " 3.4483611373266374,\n",
              " 3.447618044433421,\n",
              " 3.445744293832501,\n",
              " 3.4458776150814914,\n",
              " 3.4455187190296392,\n",
              " 3.4453586324300467,\n",
              " 3.4442958876356897,\n",
              " 3.4442147399767817,\n",
              " 3.4437775029213844,\n",
              " 3.443583515148926,\n",
              " 3.442175053972614,\n",
              " 3.442112147230147,\n",
              " 3.4420484013600627,\n",
              " 3.441859941564938,\n",
              " 3.44172875270858,\n",
              " 3.442064194762216,\n",
              " 3.4410402119418224,\n",
              " 3.440751827994536,\n",
              " 3.4397088939800806,\n",
              " 3.4397742147883363,\n",
              " 3.4401099569801237,\n",
              " 3.4397796925775674,\n",
              " 3.439137195702437,\n",
              " 3.439118948697604,\n",
              " 3.438762889110833,\n",
              " 3.4390979129115746,\n",
              " 3.4397982651900727,\n",
              " 3.439266198787553,\n",
              " 3.4386339389176097,\n",
              " 3.4381102155104095,\n",
              " 3.437694679947765,\n",
              " 3.437672190093988,\n",
              " 3.437449427782634,\n",
              " 3.4378401663106906,\n",
              " 3.43713647506492,\n",
              " 3.4364490737780207,\n",
              " 3.4359847662527248,\n",
              " 3.4356231933670696,\n",
              " 3.43539960186668,\n",
              " 3.436053726155231,\n",
              " 3.4368276805413656,\n",
              " 3.436337581631297,\n",
              " 3.4371368506181192,\n",
              " 3.43723256437436,\n",
              " 3.437785629666727,\n",
              " 3.437280411230127,\n",
              " 3.4377411686919905,\n",
              " 3.438069516569286,\n",
              " 3.438440942147119,\n",
              " 3.4378129873284964,\n",
              " 3.4380466364882305,\n",
              " 3.438492280181579,\n",
              " 3.438021443165723,\n",
              " 3.437110936607208,\n",
              " 3.4365342189120183,\n",
              " 3.436204871087472,\n",
              " 3.435892536467968,\n",
              " 3.4355504452303767,\n",
              " 3.435728207113764,\n",
              " 3.435296929809664,\n",
              " 3.4340673686791563,\n",
              " 3.432257454307468,\n",
              " 3.4327510707202875,\n",
              " 3.4326564675874534,\n",
              " 3.432381684735262,\n",
              " 3.4327293102094583,\n",
              " 3.4327526378719817,\n",
              " 3.4322640495047945,\n",
              " 3.4320233942146023,\n",
              " 3.432634177765742,\n",
              " 3.4326605629357294,\n",
              " 3.43214843244383,\n",
              " 3.4324228705253415,\n",
              " 3.4330038092453776,\n",
              " 3.432763433843967,\n",
              " 3.432128660933725,\n",
              " 3.432567144040184,\n",
              " 3.4313183978890844,\n",
              " 3.4312865054268755,\n",
              " 3.431232949243022,\n",
              " 3.4310718662384327,\n",
              " 3.4304280115518964,\n",
              " 3.430460299725721,\n",
              " 3.4296864459941516,\n",
              " 3.4300359536399068,\n",
              " 3.4296011346776822,\n",
              " 3.429369214339624,\n",
              " 3.428043296479932,\n",
              " 3.4266997428496477,\n",
              " 3.4260443171961894,\n",
              " 3.4257059864844663,\n",
              " 3.4251106370843147,\n",
              " 3.425263059212667,\n",
              " 3.4258395255524734,\n",
              " 3.425663333643102,\n",
              " 3.4249557126885044,\n",
              " 3.425447423642483,\n",
              " ...]"
            ]
          },
          "metadata": {},
          "execution_count": 54
        }
      ]
    },
    {
      "cell_type": "code",
      "source": [
        "import matplotlib.pyplot as plt\n",
        "\n",
        "medias = list()\n",
        "for i in range(1, len(nota_media_dos_filmes_com_pelo_menos_10_votos)):\n",
        "  medias.append(nota_media_dos_filmes_com_pelo_menos_10_votos[0:i].mean())\n",
        "\n",
        "plt.plot(medias)"
      ],
      "metadata": {
        "colab": {
          "base_uri": "https://localhost:8080/",
          "height": 0
        },
        "id": "EhATAQb13wOS",
        "outputId": "8f246b77-e409-47fc-f017-42aac0f38eb0"
      },
      "execution_count": 55,
      "outputs": [
        {
          "output_type": "execute_result",
          "data": {
            "text/plain": [
              "[<matplotlib.lines.Line2D at 0x7f5bf35ef640>]"
            ]
          },
          "metadata": {},
          "execution_count": 55
        },
        {
          "output_type": "display_data",
          "data": {
            "text/plain": [
              "<Figure size 432x288 with 1 Axes>"
            ],
            "image/png": "[encoded data removed]"
          },
          "metadata": {
            "needs_background": "light"
          }
        }
      ]
    },
    {
      "cell_type": "code",
      "source": [
        "import matplotlib.pyplot as plt\n",
        "import numpy as np\n",
        "\n",
        "temp = nota_media_dos_filmes_com_pelo_menos_10_votos.sample(frac=1)\n",
        "np.random.seed(75243)\n",
        "\n",
        "medias = list()\n",
        "\n",
        "for i in range(1, len(temp)):\n",
        "  medias.append(temp[0:i].mean())\n",
        "\n",
        "plt.plot(medias)"
      ],
      "metadata": {
        "colab": {
          "base_uri": "https://localhost:8080/",
          "height": 0
        },
        "id": "q6YWYhDB4fU4",
        "outputId": "e08eecd2-a635-4a01-d436-5ba77cda876e"
      },
      "execution_count": 56,
      "outputs": [
        {
          "output_type": "execute_result",
          "data": {
            "text/plain": [
              "[<matplotlib.lines.Line2D at 0x7f5bf35ca700>]"
            ]
          },
          "metadata": {},
          "execution_count": 56
        },
        {
          "output_type": "display_data",
          "data": {
            "text/plain": [
              "<Figure size 432x288 with 1 Axes>"
            ],
            "image/png": "[encoded data removed]"
          },
          "metadata": {
            "needs_background": "light"
          }
        }
      ]
    },
    {
      "cell_type": "code",
      "source": [
        "temp = nota_media_dos_filmes_com_pelo_menos_10_votos.sample(frac=1)\n",
        "np.random.seed(75243)\n",
        "\n",
        "medias = list()\n",
        "\n",
        "medias = [temp[0:i].mean() for i in range(1, len(temp))]\n",
        "\n",
        "plt.plot(medias)"
      ],
      "metadata": {
        "colab": {
          "base_uri": "https://localhost:8080/",
          "height": 0
        },
        "id": "5hUlWFfa5I_b",
        "outputId": "ab2e8002-52b4-4d62-b499-07cd324ef3c0"
      },
      "execution_count": 57,
      "outputs": [
        {
          "output_type": "execute_result",
          "data": {
            "text/plain": [
              "[<matplotlib.lines.Line2D at 0x7f5bf3536310>]"
            ]
          },
          "metadata": {},
          "execution_count": 57
        },
        {
          "output_type": "display_data",
          "data": {
            "text/plain": [
              "<Figure size 432x288 with 1 Axes>"
            ],
            "image/png": "[encoded data removed]"
          },
          "metadata": {
            "needs_background": "light"
          }
        }
      ]
    },
    {
      "cell_type": "markdown",
      "source": [
        "## 0.2 Intervalo de confiança da média com t e ztest"
      ],
      "metadata": {
        "id": "3dYvS_Er6l8h"
      }
    },
    {
      "cell_type": "code",
      "source": [
        "from statsmodels.stats.weightstats import zconfint\n",
        "\n",
        "zconfint(nota_media_dos_filmes_com_pelo_menos_10_votos)"
      ],
      "metadata": {
        "colab": {
          "base_uri": "https://localhost:8080/"
        },
        "id": "0jZ6X_5m6ALC",
        "outputId": "e29661e5-a20e-4a82-905c-8debb91ac2d6"
      },
      "execution_count": 58,
      "outputs": [
        {
          "output_type": "execute_result",
          "data": {
            "text/plain": [
              "(3.4112459477469557, 3.452854733323563)"
            ]
          },
          "metadata": {},
          "execution_count": 58
        }
      ]
    },
    {
      "cell_type": "code",
      "source": [
        "from statsmodels.stats.weightstats import DescrStatsW\n",
        "\n",
        "descr_todos_com_10_votos = DescrStatsW(nota_media_dos_filmes_com_pelo_menos_10_votos)\n",
        "descr_todos_com_10_votos.tconfint_mean()"
      ],
      "metadata": {
        "colab": {
          "base_uri": "https://localhost:8080/"
        },
        "id": "Z2GZnOqr8F6_",
        "outputId": "8391a7e6-9369-4961-e8e0-e0bff45da470"
      },
      "execution_count": 59,
      "outputs": [
        {
          "output_type": "execute_result",
          "data": {
            "text/plain": [
              "(3.411234839229381, 3.4528658418411395)"
            ]
          },
          "metadata": {},
          "execution_count": 59
        }
      ]
    },
    {
      "cell_type": "markdown",
      "source": [
        "# Aula 04\n",
        "\n",
        "## 0.1 Ztest para uma amostra"
      ],
      "metadata": {
        "id": "8S_XfUl_902q"
      }
    },
    {
      "cell_type": "code",
      "source": [
        "filmes = pd.read_csv(\"movies.csv\")\n",
        "filmes.query(\"movieId==1\")"
      ],
      "metadata": {
        "colab": {
          "base_uri": "https://localhost:8080/",
          "height": 81
        },
        "id": "JW_SFush8avS",
        "outputId": "7dc1a94d-819c-4089-f4c3-ef4c020b0871"
      },
      "execution_count": 60,
      "outputs": [
        {
          "output_type": "execute_result",
          "data": {
            "text/plain": [
              "   movieId             title                                       genres\n",
              "0        1  Toy Story (1995)  Adventure|Animation|Children|Comedy|Fantasy"
            ],
            "text/html": [
              "\n",
              "  <div id=\"df-fdebf43c-6634-4a62-880a-1c7751bbea40\">\n",
              "    <div class=\"colab-df-container\">\n",
              "      <div>\n",
              "<style scoped>\n",
              "    .dataframe tbody tr th:only-of-type {\n",
              "        vertical-align: middle;\n",
              "    }\n",
              "\n",
              "    .dataframe tbody tr th {\n",
              "        vertical-align: top;\n",
              "    }\n",
              "\n",
              "    .dataframe thead th {\n",
              "        text-align: right;\n",
              "    }\n",
              "</style>\n",
              "<table border=\"1\" class=\"dataframe\">\n",
              "  <thead>\n",
              "    <tr style=\"text-align: right;\">\n",
              "      <th></th>\n",
              "      <th>movieId</th>\n",
              "      <th>title</th>\n",
              "      <th>genres</th>\n",
              "    </tr>\n",
              "  </thead>\n",
              "  <tbody>\n",
              "    <tr>\n",
              "      <th>0</th>\n",
              "      <td>1</td>\n",
              "      <td>Toy Story (1995)</td>\n",
              "      <td>Adventure|Animation|Children|Comedy|Fantasy</td>\n",
              "    </tr>\n",
              "  </tbody>\n",
              "</table>\n",
              "</div>\n",
              "      <button class=\"colab-df-convert\" onclick=\"convertToInteractive('df-fdebf43c-6634-4a62-880a-1c7751bbea40')\"\n",
              "              title=\"Convert this dataframe to an interactive table.\"\n",
              "              style=\"display:none;\">\n",
              "        \n",
              "  <svg xmlns=\"http://www.w3.org/2000/svg\" height=\"24px\"viewBox=\"0 0 24 24\"\n",
              "       width=\"24px\">\n",
              "    <path d=\"M0 0h24v24H0V0z\" fill=\"none\"/>\n",
              "    <path d=\"M18.56 5.44l.94 2.06.94-2.06 2.06-.94-2.06-.94-.94-2.06-.94 2.06-2.06.94zm-11 1L8.5 8.5l.94-2.06 2.06-.94-2.06-.94L8.5 2.5l-.94 2.06-2.06.94zm10 10l.94 2.06.94-2.06 2.06-.94-2.06-.94-.94-2.06-.94 2.06-2.06.94z\"/><path d=\"M17.41 7.96l-1.37-1.37c-.4-.4-.92-.59-1.43-.59-.52 0-1.04.2-1.43.59L10.3 9.45l-7.72 7.72c-.78.78-.78 2.05 0 2.83L4 21.41c.39.39.9.59 1.41.59.51 0 1.02-.2 1.41-.59l7.78-7.78 2.81-2.81c.8-.78.8-2.07 0-2.86zM5.41 20L4 18.59l7.72-7.72 1.47 1.35L5.41 20z\"/>\n",
              "  </svg>\n",
              "      </button>\n",
              "      \n",
              "  <style>\n",
              "    .colab-df-container {\n",
              "      display:flex;\n",
              "      flex-wrap:wrap;\n",
              "      gap: 12px;\n",
              "    }\n",
              "\n",
              "    .colab-df-convert {\n",
              "      background-color: #E8F0FE;\n",
              "      border: none;\n",
              "      border-radius: 50%;\n",
              "      cursor: pointer;\n",
              "      display: none;\n",
              "      fill: #1967D2;\n",
              "      height: 32px;\n",
              "      padding: 0 0 0 0;\n",
              "      width: 32px;\n",
              "    }\n",
              "\n",
              "    .colab-df-convert:hover {\n",
              "      background-color: #E2EBFA;\n",
              "      box-shadow: 0px 1px 2px rgba(60, 64, 67, 0.3), 0px 1px 3px 1px rgba(60, 64, 67, 0.15);\n",
              "      fill: #174EA6;\n",
              "    }\n",
              "\n",
              "    [theme=dark] .colab-df-convert {\n",
              "      background-color: #3B4455;\n",
              "      fill: #D2E3FC;\n",
              "    }\n",
              "\n",
              "    [theme=dark] .colab-df-convert:hover {\n",
              "      background-color: #434B5C;\n",
              "      box-shadow: 0px 1px 3px 1px rgba(0, 0, 0, 0.15);\n",
              "      filter: drop-shadow(0px 1px 2px rgba(0, 0, 0, 0.3));\n",
              "      fill: #FFFFFF;\n",
              "    }\n",
              "  </style>\n",
              "\n",
              "      <script>\n",
              "        const buttonEl =\n",
              "          document.querySelector('#df-fdebf43c-6634-4a62-880a-1c7751bbea40 button.colab-df-convert');\n",
              "        buttonEl.style.display =\n",
              "          google.colab.kernel.accessAllowed ? 'block' : 'none';\n",
              "\n",
              "        async function convertToInteractive(key) {\n",
              "          const element = document.querySelector('#df-fdebf43c-6634-4a62-880a-1c7751bbea40');\n",
              "          const dataTable =\n",
              "            await google.colab.kernel.invokeFunction('convertToInteractive',\n",
              "                                                     [key], {});\n",
              "          if (!dataTable) return;\n",
              "\n",
              "          const docLinkHtml = 'Like what you see? Visit the ' +\n",
              "            '<a target=\"_blank\" href=https://colab.research.google.com/notebooks/data_table.ipynb>data table notebook</a>'\n",
              "            + ' to learn more about interactive tables.';\n",
              "          element.innerHTML = '';\n",
              "          dataTable['output_type'] = 'display_data';\n",
              "          await google.colab.output.renderOutput(dataTable, element);\n",
              "          const docLink = document.createElement('div');\n",
              "          docLink.innerHTML = docLinkHtml;\n",
              "          element.appendChild(docLink);\n",
              "        }\n",
              "      </script>\n",
              "    </div>\n",
              "  </div>\n",
              "  "
            ]
          },
          "metadata": {},
          "execution_count": 60
        }
      ]
    },
    {
      "cell_type": "code",
      "source": [
        "notas1 = notas.query(\"movieId ==1\")\n",
        "notas1.head()"
      ],
      "metadata": {
        "colab": {
          "base_uri": "https://localhost:8080/",
          "height": 206
        },
        "id": "jc98d8YC99eK",
        "outputId": "e90bc490-5a79-4b9d-ce3f-abed77e9febe"
      },
      "execution_count": 61,
      "outputs": [
        {
          "output_type": "execute_result",
          "data": {
            "text/plain": [
              "      userId  movieId  rating   timestamp\n",
              "0          1        1     4.0   964982703\n",
              "516        5        1     4.0   847434962\n",
              "874        7        1     4.5  1106635946\n",
              "1434      15        1     2.5  1510577970\n",
              "1667      17        1     4.5  1305696483"
            ],
            "text/html": [
              "\n",
              "  <div id=\"df-bf91637e-5386-4d9c-84f8-d5d0f6be35c9\">\n",
              "    <div class=\"colab-df-container\">\n",
              "      <div>\n",
              "<style scoped>\n",
              "    .dataframe tbody tr th:only-of-type {\n",
              "        vertical-align: middle;\n",
              "    }\n",
              "\n",
              "    .dataframe tbody tr th {\n",
              "        vertical-align: top;\n",
              "    }\n",
              "\n",
              "    .dataframe thead th {\n",
              "        text-align: right;\n",
              "    }\n",
              "</style>\n",
              "<table border=\"1\" class=\"dataframe\">\n",
              "  <thead>\n",
              "    <tr style=\"text-align: right;\">\n",
              "      <th></th>\n",
              "      <th>userId</th>\n",
              "      <th>movieId</th>\n",
              "      <th>rating</th>\n",
              "      <th>timestamp</th>\n",
              "    </tr>\n",
              "  </thead>\n",
              "  <tbody>\n",
              "    <tr>\n",
              "      <th>0</th>\n",
              "      <td>1</td>\n",
              "      <td>1</td>\n",
              "      <td>4.0</td>\n",
              "      <td>964982703</td>\n",
              "    </tr>\n",
              "    <tr>\n",
              "      <th>516</th>\n",
              "      <td>5</td>\n",
              "      <td>1</td>\n",
              "      <td>4.0</td>\n",
              "      <td>847434962</td>\n",
              "    </tr>\n",
              "    <tr>\n",
              "      <th>874</th>\n",
              "      <td>7</td>\n",
              "      <td>1</td>\n",
              "      <td>4.5</td>\n",
              "      <td>1106635946</td>\n",
              "    </tr>\n",
              "    <tr>\n",
              "      <th>1434</th>\n",
              "      <td>15</td>\n",
              "      <td>1</td>\n",
              "      <td>2.5</td>\n",
              "      <td>1510577970</td>\n",
              "    </tr>\n",
              "    <tr>\n",
              "      <th>1667</th>\n",
              "      <td>17</td>\n",
              "      <td>1</td>\n",
              "      <td>4.5</td>\n",
              "      <td>1305696483</td>\n",
              "    </tr>\n",
              "  </tbody>\n",
              "</table>\n",
              "</div>\n",
              "      <button class=\"colab-df-convert\" onclick=\"convertToInteractive('df-bf91637e-5386-4d9c-84f8-d5d0f6be35c9')\"\n",
              "              title=\"Convert this dataframe to an interactive table.\"\n",
              "              style=\"display:none;\">\n",
              "        \n",
              "  <svg xmlns=\"http://www.w3.org/2000/svg\" height=\"24px\"viewBox=\"0 0 24 24\"\n",
              "       width=\"24px\">\n",
              "    <path d=\"M0 0h24v24H0V0z\" fill=\"none\"/>\n",
              "    <path d=\"M18.56 5.44l.94 2.06.94-2.06 2.06-.94-2.06-.94-.94-2.06-.94 2.06-2.06.94zm-11 1L8.5 8.5l.94-2.06 2.06-.94-2.06-.94L8.5 2.5l-.94 2.06-2.06.94zm10 10l.94 2.06.94-2.06 2.06-.94-2.06-.94-.94-2.06-.94 2.06-2.06.94z\"/><path d=\"M17.41 7.96l-1.37-1.37c-.4-.4-.92-.59-1.43-.59-.52 0-1.04.2-1.43.59L10.3 9.45l-7.72 7.72c-.78.78-.78 2.05 0 2.83L4 21.41c.39.39.9.59 1.41.59.51 0 1.02-.2 1.41-.59l7.78-7.78 2.81-2.81c.8-.78.8-2.07 0-2.86zM5.41 20L4 18.59l7.72-7.72 1.47 1.35L5.41 20z\"/>\n",
              "  </svg>\n",
              "      </button>\n",
              "      \n",
              "  <style>\n",
              "    .colab-df-container {\n",
              "      display:flex;\n",
              "      flex-wrap:wrap;\n",
              "      gap: 12px;\n",
              "    }\n",
              "\n",
              "    .colab-df-convert {\n",
              "      background-color: #E8F0FE;\n",
              "      border: none;\n",
              "      border-radius: 50%;\n",
              "      cursor: pointer;\n",
              "      display: none;\n",
              "      fill: #1967D2;\n",
              "      height: 32px;\n",
              "      padding: 0 0 0 0;\n",
              "      width: 32px;\n",
              "    }\n",
              "\n",
              "    .colab-df-convert:hover {\n",
              "      background-color: #E2EBFA;\n",
              "      box-shadow: 0px 1px 2px rgba(60, 64, 67, 0.3), 0px 1px 3px 1px rgba(60, 64, 67, 0.15);\n",
              "      fill: #174EA6;\n",
              "    }\n",
              "\n",
              "    [theme=dark] .colab-df-convert {\n",
              "      background-color: #3B4455;\n",
              "      fill: #D2E3FC;\n",
              "    }\n",
              "\n",
              "    [theme=dark] .colab-df-convert:hover {\n",
              "      background-color: #434B5C;\n",
              "      box-shadow: 0px 1px 3px 1px rgba(0, 0, 0, 0.15);\n",
              "      filter: drop-shadow(0px 1px 2px rgba(0, 0, 0, 0.3));\n",
              "      fill: #FFFFFF;\n",
              "    }\n",
              "  </style>\n",
              "\n",
              "      <script>\n",
              "        const buttonEl =\n",
              "          document.querySelector('#df-bf91637e-5386-4d9c-84f8-d5d0f6be35c9 button.colab-df-convert');\n",
              "        buttonEl.style.display =\n",
              "          google.colab.kernel.accessAllowed ? 'block' : 'none';\n",
              "\n",
              "        async function convertToInteractive(key) {\n",
              "          const element = document.querySelector('#df-bf91637e-5386-4d9c-84f8-d5d0f6be35c9');\n",
              "          const dataTable =\n",
              "            await google.colab.kernel.invokeFunction('convertToInteractive',\n",
              "                                                     [key], {});\n",
              "          if (!dataTable) return;\n",
              "\n",
              "          const docLinkHtml = 'Like what you see? Visit the ' +\n",
              "            '<a target=\"_blank\" href=https://colab.research.google.com/notebooks/data_table.ipynb>data table notebook</a>'\n",
              "            + ' to learn more about interactive tables.';\n",
              "          element.innerHTML = '';\n",
              "          dataTable['output_type'] = 'display_data';\n",
              "          await google.colab.output.renderOutput(dataTable, element);\n",
              "          const docLink = document.createElement('div');\n",
              "          docLink.innerHTML = docLinkHtml;\n",
              "          element.appendChild(docLink);\n",
              "        }\n",
              "      </script>\n",
              "    </div>\n",
              "  </div>\n",
              "  "
            ]
          },
          "metadata": {},
          "execution_count": 61
        }
      ]
    },
    {
      "cell_type": "code",
      "source": [
        "ax = sns.distplot(notas1.rating)\n",
        "ax.set(xlabel='Notas do Toy Story', ylabel='Densidade')\n",
        "ax.set_title('Distribuição das notas para o Toy Story')"
      ],
      "metadata": {
        "colab": {
          "base_uri": "https://localhost:8080/",
          "height": 367
        },
        "id": "mWM3I2qi-YZa",
        "outputId": "05e827db-d4ba-4958-81e6-c0c2910db619"
      },
      "execution_count": 62,
      "outputs": [
        {
          "output_type": "stream",
          "name": "stderr",
          "text": [
            "/usr/local/lib/python3.8/dist-packages/seaborn/distributions.py:2619: FutureWarning: `distplot` is a deprecated function and will be removed in a future version. Please adapt your code to use either `displot` (a figure-level function with similar flexibility) or `histplot` (an axes-level function for histograms).\n",
            "  warnings.warn(msg, FutureWarning)\n"
          ]
        },
        {
          "output_type": "execute_result",
          "data": {
            "text/plain": [
              "Text(0.5, 1.0, 'Distribuição das notas para o Toy Story')"
            ]
          },
          "metadata": {},
          "execution_count": 62
        },
        {
          "output_type": "display_data",
          "data": {
            "text/plain": [
              "<Figure size 432x288 with 1 Axes>"
            ],
            "image/png": "[encoded data removed]"
          },
          "metadata": {
            "needs_background": "light"
          }
        }
      ]
    },
    {
      "cell_type": "code",
      "source": [
        "ax = sns.boxplot(notas1.rating)\n",
        "ax.set(xlabel='Notas')\n",
        "ax.set_title('Distribuição das notas para o Toy Story')"
      ],
      "metadata": {
        "colab": {
          "base_uri": "https://localhost:8080/",
          "height": 367
        },
        "id": "iVadfJAZ-jgC",
        "outputId": "c05a0073-a0b1-4512-9895-2414de05f99b"
      },
      "execution_count": 63,
      "outputs": [
        {
          "output_type": "stream",
          "name": "stderr",
          "text": [
            "/usr/local/lib/python3.8/dist-packages/seaborn/_decorators.py:36: FutureWarning: Pass the following variable as a keyword arg: x. From version 0.12, the only valid positional argument will be `data`, and passing other arguments without an explicit keyword will result in an error or misinterpretation.\n",
            "  warnings.warn(\n"
          ]
        },
        {
          "output_type": "execute_result",
          "data": {
            "text/plain": [
              "Text(0.5, 1.0, 'Distribuição das notas para o Toy Story')"
            ]
          },
          "metadata": {},
          "execution_count": 63
        },
        {
          "output_type": "display_data",
          "data": {
            "text/plain": [
              "<Figure size 432x288 with 1 Axes>"
            ],
            "image/png": "[encoded data removed]"
          },
          "metadata": {
            "needs_background": "light"
          }
        }
      ]
    },
    {
      "cell_type": "code",
      "source": [
        "notas1.rating.mean()"
      ],
      "metadata": {
        "colab": {
          "base_uri": "https://localhost:8080/"
        },
        "id": "2sfJLU4E-zR4",
        "outputId": "8ff3a5be-299d-4138-a220-e2c5b91b9269"
      },
      "execution_count": 64,
      "outputs": [
        {
          "output_type": "execute_result",
          "data": {
            "text/plain": [
              "3.9209302325581397"
            ]
          },
          "metadata": {},
          "execution_count": 64
        }
      ]
    },
    {
      "cell_type": "code",
      "source": [
        "notas1.rating.count()"
      ],
      "metadata": {
        "colab": {
          "base_uri": "https://localhost:8080/"
        },
        "id": "9if5rzmc_ruF",
        "outputId": "e9451b18-cda7-42f9-943e-ebdcfd448a6f"
      },
      "execution_count": 65,
      "outputs": [
        {
          "output_type": "execute_result",
          "data": {
            "text/plain": [
              "215"
            ]
          },
          "metadata": {},
          "execution_count": 65
        }
      ]
    },
    {
      "cell_type": "code",
      "source": [
        "zconfint(notas1.rating)"
      ],
      "metadata": {
        "colab": {
          "base_uri": "https://localhost:8080/"
        },
        "id": "j8KR5g4T_SoR",
        "outputId": "faecaf3b-3fd7-4906-fa49-8b7a59b8120c"
      },
      "execution_count": 66,
      "outputs": [
        {
          "output_type": "execute_result",
          "data": {
            "text/plain": [
              "(3.8093359183563402, 4.032524546759939)"
            ]
          },
          "metadata": {},
          "execution_count": 66
        }
      ]
    },
    {
      "cell_type": "code",
      "source": [
        "from statsmodels.stats.weightstats import ztest\n",
        "\n",
        "ztest(notas1.rating, value = 3.4320503405352603)"
      ],
      "metadata": {
        "colab": {
          "base_uri": "https://localhost:8080/"
        },
        "id": "8OwsoAIg_nxu",
        "outputId": "1e87ee6a-6388-421d-852f-fce4e58e30c3"
      },
      "execution_count": 67,
      "outputs": [
        {
          "output_type": "execute_result",
          "data": {
            "text/plain": [
              "(8.586342305916716, 8.978190401886942e-18)"
            ]
          },
          "metadata": {},
          "execution_count": 67
        }
      ]
    },
    {
      "cell_type": "markdown",
      "source": [
        "## 0.2 Problemas de amostras pequenas"
      ],
      "metadata": {
        "id": "YNfF7-DxA1bb"
      }
    },
    {
      "cell_type": "code",
      "source": [
        "np.random.seed(75241)\n",
        "temp = notas1.sample(frac=1).rating\n",
        "\n",
        "medias = [temp[0:i].mean() for i in range(1, len(temp))]\n",
        "\n",
        "plt.plot(medias)"
      ],
      "metadata": {
        "colab": {
          "base_uri": "https://localhost:8080/",
          "height": 282
        },
        "id": "nxjrtTP5AGlJ",
        "outputId": "1497be3d-19ee-4548-a59a-f53d1c80dd36"
      },
      "execution_count": 68,
      "outputs": [
        {
          "output_type": "execute_result",
          "data": {
            "text/plain": [
              "[<matplotlib.lines.Line2D at 0x7f5bf33df160>]"
            ]
          },
          "metadata": {},
          "execution_count": 68
        },
        {
          "output_type": "display_data",
          "data": {
            "text/plain": [
              "<Figure size 432x288 with 1 Axes>"
            ],
            "image/png": "[encoded data removed]"
          },
          "metadata": {
            "needs_background": "light"
          }
        }
      ]
    },
    {
      "cell_type": "code",
      "source": [
        "np.random.seed(75241)\n",
        "temp = notas1.sample(frac=1).rating\n",
        "\n",
        "def calcula_teste(i):\n",
        "    media = temp[0:i].mean()\n",
        "    stat, p = ztest(temp[0:i], value = 3.4320503405352603) \n",
        "    return (media, p)\n",
        "\n",
        "medias = [calcula_teste(i) for i in range(2, len(temp))]\n",
        "medias"
      ],
      "metadata": {
        "colab": {
          "base_uri": "https://localhost:8080/"
        },
        "id": "2yqlKDyzBixq",
        "outputId": "6f2fd262-afac-4e22-a8d8-d1967754042e"
      },
      "execution_count": 69,
      "outputs": [
        {
          "output_type": "execute_result",
          "data": {
            "text/plain": [
              "[(4.5, 0.032687621135204896),\n",
              " (4.0, 0.3252543510880489),\n",
              " (3.875, 0.29952196979944745),\n",
              " (3.9, 0.15826781784711086),\n",
              " (3.9166666666666665, 0.07406936464331344),\n",
              " (3.9285714285714284, 0.03058372185045264),\n",
              " (4.0625, 0.008546846816661634),\n",
              " (3.9444444444444446, 0.034351369792154834),\n",
              " (3.6, 0.6797757440816464),\n",
              " (3.590909090909091, 0.6661040559180447),\n",
              " (3.5, 0.8452594429449549),\n",
              " (3.5, 0.8319722700425317),\n",
              " (3.5357142857142856, 0.7285036535608292),\n",
              " (3.6, 0.5561564945645507),\n",
              " (3.5625, 0.6284166359766319),\n",
              " (3.6470588235294117, 0.42056196093078513),\n",
              " (3.7222222222222223, 0.2692718087435868),\n",
              " (3.6842105263157894, 0.3157395629293568),\n",
              " (3.65, 0.36558117183067695),\n",
              " (3.5714285714285716, 0.5650170364597873),\n",
              " (3.590909090909091, 0.4930885087384419),\n",
              " (3.608695652173913, 0.4265824656611449),\n",
              " (3.625, 0.36578337526912086),\n",
              " (3.64, 0.3108287352909964),\n",
              " (3.6538461538461537, 0.26171758950670954),\n",
              " (3.6481481481481484, 0.2559999054486449),\n",
              " (3.6964285714285716, 0.16314137427171593),\n",
              " (3.7413793103448274, 0.10054986793464257),\n",
              " (3.7333333333333334, 0.09812718831667805),\n",
              " (3.7419354838709675, 0.07894877889458934),\n",
              " (3.671875, 0.19389049416761317),\n",
              " (3.6666666666666665, 0.18994435269346233),\n",
              " (3.7058823529411766, 0.12400478766945784),\n",
              " (3.742857142857143, 0.07870821336871098),\n",
              " (3.7222222222222223, 0.09353576061527746),\n",
              " (3.7027027027027026, 0.11013590254134484),\n",
              " (3.736842105263158, 0.070293980214127),\n",
              " (3.7435897435897436, 0.057719600728433226),\n",
              " (3.725, 0.06895669959313765),\n",
              " (3.7560975609756095, 0.043027696867534854),\n",
              " (3.7857142857142856, 0.026192682251694282),\n",
              " (3.813953488372093, 0.015559932099710492),\n",
              " (3.8181818181818183, 0.01233272538941352),\n",
              " (3.8222222222222224, 0.00971325069982623),\n",
              " (3.8043478260869565, 0.012260404094830826),\n",
              " (3.7872340425531914, 0.015299059283941084),\n",
              " (3.8125, 0.008966188879749698),\n",
              " (3.806122448979592, 0.008766884002523942),\n",
              " (3.81, 0.006897537294395224),\n",
              " (3.8137254901960786, 0.005394516156167565),\n",
              " (3.8173076923076925, 0.004193844231736312),\n",
              " (3.80188679245283, 0.005385212289644282),\n",
              " (3.8055555555555554, 0.004195763368449785),\n",
              " (3.790909090909091, 0.005368352947838337),\n",
              " (3.7767857142857144, 0.006794205663451532),\n",
              " (3.763157894736842, 0.008512220201001898),\n",
              " (3.7844827586206895, 0.004975558567317606),\n",
              " (3.788135593220339, 0.003904050433428437),\n",
              " (3.808333333333333, 0.0022169155153936113),\n",
              " (3.8114754098360657, 0.0017134856636438817),\n",
              " (3.7983870967741935, 0.0022185468321933607),\n",
              " (3.7936507936507935, 0.0021667091142656882),\n",
              " (3.7890625, 0.0021155742986059037),\n",
              " (3.792307692307692, 0.001638169688311084),\n",
              " (3.7803030303030303, 0.002112904717074153),\n",
              " (3.783582089552239, 0.0016391796508841768),\n",
              " (3.7720588235294117, 0.002107877006211813),\n",
              " (3.7753623188405796, 0.001638208006937132),\n",
              " (3.7785714285714285, 0.0012667046775475992),\n",
              " (3.76056338028169, 0.0022426047709492537),\n",
              " (3.763888888888889, 0.0017525084760790894),\n",
              " (3.7739726027397262, 0.0011365250751412),\n",
              " (3.7905405405405403, 0.0006361085905667348),\n",
              " (3.8066666666666666, 0.00035042445221225517),\n",
              " (3.8157894736842106, 0.00021841519783205381),\n",
              " (3.811688311688312, 0.0002133389727594162),\n",
              " (3.8141025641025643, 0.0001607423772756106),\n",
              " (3.8164556962025316, 0.00012053616176043722),\n",
              " (3.83125, 6.355135417245393e-05),\n",
              " (3.845679012345679, 3.300722928041108e-05),\n",
              " (3.841463414634146, 3.2304003745802037e-05),\n",
              " (3.8433734939759034, 2.374556884407959e-05),\n",
              " (3.857142857142857, 1.2077073301628071e-05),\n",
              " (3.847058823529412, 1.7088673225760976e-05),\n",
              " (3.8313953488372094, 3.608185615666001e-05),\n",
              " (3.8333333333333335, 2.681257612846113e-05),\n",
              " (3.8238636363636362, 3.681562512354262e-05),\n",
              " (3.808988764044944, 7.313870608516293e-05),\n",
              " (3.811111111111111, 5.525606847923858e-05),\n",
              " (3.8131868131868134, 4.1572170968967595e-05),\n",
              " (3.8206521739130435, 2.540508532221419e-05),\n",
              " (3.8225806451612905, 1.891161316381205e-05),\n",
              " (3.824468085106383, 1.4019284811900051e-05),\n",
              " (3.8157894736842106, 1.9300245184706242e-05),\n",
              " (3.8177083333333335, 1.4337154349835086e-05),\n",
              " (3.829896907216495, 7.470440358184904e-06),\n",
              " (3.8418367346938775, 3.843679820388642e-06),\n",
              " (3.823232323232323, 1.3101881021708747e-05),\n",
              " (3.815, 1.773810320525232e-05),\n",
              " (3.797029702970297, 5.156319239792069e-05),\n",
              " (3.799019607843137, 3.956916550250529e-05),\n",
              " (3.7815533980582523, 0.00010532490098882295),\n",
              " (3.7836538461538463, 8.207340957567451e-05),\n",
              " (3.7857142857142856, 6.373666797007717e-05),\n",
              " (3.7877358490566038, 4.9327620681370155e-05),\n",
              " (3.794392523364486, 3.158510492524062e-05),\n",
              " (3.7824074074074074, 5.741195652105531e-05),\n",
              " (3.7844036697247705, 4.452063805181686e-05),\n",
              " (3.7954545454545454, 2.5034997999585643e-05),\n",
              " (3.8018018018018016, 1.593383648900579e-05),\n",
              " (3.8035714285714284, 1.2181676067708934e-05),\n",
              " (3.8053097345132745, 9.282385148662153e-06),\n",
              " (3.807017543859649, 7.049800097807919e-06),\n",
              " (3.8086956521739133, 5.336512954125956e-06),\n",
              " (3.8017241379310347, 7.132420343988585e-06),\n",
              " (3.8119658119658117, 3.8777239631651985e-06),\n",
              " (3.809322033898305, 3.789024541840527e-06),\n",
              " (3.80672268907563, 3.701652394675697e-06),\n",
              " (3.8041666666666667, 3.6156244484077226e-06),\n",
              " (3.809917355371901, 2.234409015059164e-06),\n",
              " (3.819672131147541, 1.1935921381583365e-06),\n",
              " (3.821138211382114, 8.907771906449635e-07),\n",
              " (3.814516129032258, 1.2165528009735344e-06),\n",
              " (3.808, 1.6492029231809994e-06),\n",
              " (3.8095238095238093, 1.2383902023580329e-06),\n",
              " (3.7992125984251968, 2.4447090501870245e-06),\n",
              " (3.80859375, 1.3259626346058774e-06),\n",
              " (3.802325581395349, 1.7799716841358229e-06),\n",
              " (3.7884615384615383, 5.106740278151876e-06),\n",
              " (3.786259541984733, 4.986913728968981e-06),\n",
              " (3.7954545454545454, 2.7799402746913627e-06),\n",
              " (3.793233082706767, 2.715247214619515e-06),\n",
              " (3.794776119402985, 2.075872794199074e-06),\n",
              " (3.785185185185185, 3.869818273690176e-06),\n",
              " (3.786764705882353, 2.9771501112494567e-06),\n",
              " (3.7846715328467155, 2.906855295169462e-06),\n",
              " (3.786231884057971, 2.229978257172786e-06),\n",
              " (3.7805755395683454, 2.923020543496903e-06),\n",
              " (3.7857142857142856, 1.861736987479408e-06),\n",
              " (3.780141843971631, 2.441850783063681e-06),\n",
              " (3.7816901408450705, 1.8743496554091788e-06),\n",
              " (3.7832167832167833, 1.4348129269825041e-06),\n",
              " (3.7847222222222223, 1.0953489095524478e-06),\n",
              " (3.786206896551724, 8.33914593413763e-07),\n",
              " (3.7945205479452055, 4.5654100105346796e-07),\n",
              " (3.802721088435374, 2.4781068087348057e-07),\n",
              " (3.804054054054054, 1.8647631467675183e-07),\n",
              " (3.8053691275167787, 1.3994497318116365e-07),\n",
              " (3.8066666666666666, 1.0474187906210276e-07),\n",
              " (3.814569536423841, 5.5638738167742754e-08),\n",
              " (3.8223684210526314, 2.9310557354650833e-08),\n",
              " (3.823529411764706, 2.169106984430368e-08),\n",
              " (3.8279220779220777, 1.296533237512879e-08),\n",
              " (3.835483870967742, 6.69721358751862e-09),\n",
              " (3.8365384615384617, 4.90242789582791e-09),\n",
              " (3.837579617834395, 3.579198670373318e-09),\n",
              " (3.8322784810126582, 5.065038279328382e-09),\n",
              " (3.839622641509434, 2.593122661980238e-09),\n",
              " (3.840625, 1.888254008877338e-09),\n",
              " (3.829192546583851, 6.89862648428305e-09),\n",
              " (3.830246913580247, 5.088654193995244e-09),\n",
              " (3.831288343558282, 3.744165106538347e-09),\n",
              " (3.826219512195122, 5.23409616911476e-09),\n",
              " (3.8333333333333335, 2.715045381204715e-09),\n",
              " (3.8343373493975905, 1.9924856311040464e-09),\n",
              " (3.841317365269461, 1.021658248002295e-09),\n",
              " (3.8452380952380953, 5.986014433616568e-10),\n",
              " (3.8520710059171597, 3.026046512497991e-10),\n",
              " (3.85, 2.9667891226340393e-10),\n",
              " (3.8508771929824563, 2.1473424779915278e-10),\n",
              " (3.8459302325581395, 3.087411923363227e-10),\n",
              " (3.8497109826589595, 1.7917893544489147e-10),\n",
              " (3.8505747126436782, 1.2939702905988413e-10),\n",
              " (3.854285714285714, 7.437375301814674e-11),\n",
              " (3.8607954545454546, 3.68536489501502e-11),\n",
              " (3.867231638418079, 1.8128994549484078e-11),\n",
              " (3.8707865168539324, 1.0226884113071301e-11),\n",
              " (3.863128491620112, 2.476407211840968e-11),\n",
              " (3.863888888888889, 1.7738569534234892e-11),\n",
              " (3.8701657458563536, 8.709233016873075e-12),\n",
              " (3.870879120879121, 6.201886620364462e-12),\n",
              " (3.866120218579235, 9.186029818083115e-12),\n",
              " (3.8668478260869565, 6.5513651601619266e-12),\n",
              " (3.8702702702702703, 3.688482306426001e-12),\n",
              " (3.8763440860215055, 1.787257905280176e-12),\n",
              " (3.8823529411764706, 8.600037830948384e-13),\n",
              " (3.882978723404255, 6.056150219694947e-13),\n",
              " (3.8835978835978837, 4.2551292144889585e-13),\n",
              " (3.886842105263158, 2.3370424038676717e-13),\n",
              " (3.887434554973822, 1.6326985261947053e-13),\n",
              " (3.8880208333333335, 1.1380629973295943e-13),\n",
              " (3.88860103626943, 7.91493424125946e-14),\n",
              " (3.8917525773195876, 4.278258438283099e-14),\n",
              " (3.8923076923076922, 2.958555465053198e-14),\n",
              " (3.8877551020408165, 4.623476152843946e-14),\n",
              " (3.8908629441624365, 2.493280074064741e-14),\n",
              " (3.893939393939394, 1.3370684043107038e-14),\n",
              " (3.899497487437186, 6.160613753635314e-15),\n",
              " (3.895, 9.749074156510373e-15),\n",
              " (3.8955223880597014, 6.7127681104016146e-15),\n",
              " (3.896039603960396, 4.6119520070165714e-15),\n",
              " (3.896551724137931, 3.1616414709692205e-15),\n",
              " (3.9019607843137254, 1.443848995257856e-15),\n",
              " (3.897560975609756, 2.309845735394206e-15),\n",
              " (3.9029126213592233, 1.0555998801123747e-15),\n",
              " (3.9082125603864735, 4.793088683620973e-16),\n",
              " (3.9086538461538463, 3.2609910418318076e-16),\n",
              " (3.9138755980861246, 1.466694033719233e-16),\n",
              " (3.914285714285714, 9.927030087378508e-17),\n",
              " (3.914691943127962, 6.704625749290763e-17),\n",
              " (3.9150943396226414, 4.518611521397103e-17),\n",
              " (3.915492957746479, 3.038859398683116e-17),\n",
              " (3.9205607476635516, 1.3418325209316871e-17)]"
            ]
          },
          "metadata": {},
          "execution_count": 69
        }
      ]
    },
    {
      "cell_type": "code",
      "source": [
        "def calcula_teste(i):\n",
        "    media = temp[0:i].mean()\n",
        "    stat, p = ztest(temp[0:i], value = 3.4320503405352603) \n",
        "    return (i, media, p)\n",
        "\n",
        "medias = [calcula_teste(i) for i in range(2, len(temp))]\n",
        "medias"
      ],
      "metadata": {
        "colab": {
          "base_uri": "https://localhost:8080/"
        },
        "id": "FdxoxTGyBuZj",
        "outputId": "3e98699f-0d7a-47cc-c751-569b61bbb749"
      },
      "execution_count": 70,
      "outputs": [
        {
          "output_type": "execute_result",
          "data": {
            "text/plain": [
              "[(2, 4.5, 0.032687621135204896),\n",
              " (3, 4.0, 0.3252543510880489),\n",
              " (4, 3.875, 0.29952196979944745),\n",
              " (5, 3.9, 0.15826781784711086),\n",
              " (6, 3.9166666666666665, 0.07406936464331344),\n",
              " (7, 3.9285714285714284, 0.03058372185045264),\n",
              " (8, 4.0625, 0.008546846816661634),\n",
              " (9, 3.9444444444444446, 0.034351369792154834),\n",
              " (10, 3.6, 0.6797757440816464),\n",
              " (11, 3.590909090909091, 0.6661040559180447),\n",
              " (12, 3.5, 0.8452594429449549),\n",
              " (13, 3.5, 0.8319722700425317),\n",
              " (14, 3.5357142857142856, 0.7285036535608292),\n",
              " (15, 3.6, 0.5561564945645507),\n",
              " (16, 3.5625, 0.6284166359766319),\n",
              " (17, 3.6470588235294117, 0.42056196093078513),\n",
              " (18, 3.7222222222222223, 0.2692718087435868),\n",
              " (19, 3.6842105263157894, 0.3157395629293568),\n",
              " (20, 3.65, 0.36558117183067695),\n",
              " (21, 3.5714285714285716, 0.5650170364597873),\n",
              " (22, 3.590909090909091, 0.4930885087384419),\n",
              " (23, 3.608695652173913, 0.4265824656611449),\n",
              " (24, 3.625, 0.36578337526912086),\n",
              " (25, 3.64, 0.3108287352909964),\n",
              " (26, 3.6538461538461537, 0.26171758950670954),\n",
              " (27, 3.6481481481481484, 0.2559999054486449),\n",
              " (28, 3.6964285714285716, 0.16314137427171593),\n",
              " (29, 3.7413793103448274, 0.10054986793464257),\n",
              " (30, 3.7333333333333334, 0.09812718831667805),\n",
              " (31, 3.7419354838709675, 0.07894877889458934),\n",
              " (32, 3.671875, 0.19389049416761317),\n",
              " (33, 3.6666666666666665, 0.18994435269346233),\n",
              " (34, 3.7058823529411766, 0.12400478766945784),\n",
              " (35, 3.742857142857143, 0.07870821336871098),\n",
              " (36, 3.7222222222222223, 0.09353576061527746),\n",
              " (37, 3.7027027027027026, 0.11013590254134484),\n",
              " (38, 3.736842105263158, 0.070293980214127),\n",
              " (39, 3.7435897435897436, 0.057719600728433226),\n",
              " (40, 3.725, 0.06895669959313765),\n",
              " (41, 3.7560975609756095, 0.043027696867534854),\n",
              " (42, 3.7857142857142856, 0.026192682251694282),\n",
              " (43, 3.813953488372093, 0.015559932099710492),\n",
              " (44, 3.8181818181818183, 0.01233272538941352),\n",
              " (45, 3.8222222222222224, 0.00971325069982623),\n",
              " (46, 3.8043478260869565, 0.012260404094830826),\n",
              " (47, 3.7872340425531914, 0.015299059283941084),\n",
              " (48, 3.8125, 0.008966188879749698),\n",
              " (49, 3.806122448979592, 0.008766884002523942),\n",
              " (50, 3.81, 0.006897537294395224),\n",
              " (51, 3.8137254901960786, 0.005394516156167565),\n",
              " (52, 3.8173076923076925, 0.004193844231736312),\n",
              " (53, 3.80188679245283, 0.005385212289644282),\n",
              " (54, 3.8055555555555554, 0.004195763368449785),\n",
              " (55, 3.790909090909091, 0.005368352947838337),\n",
              " (56, 3.7767857142857144, 0.006794205663451532),\n",
              " (57, 3.763157894736842, 0.008512220201001898),\n",
              " (58, 3.7844827586206895, 0.004975558567317606),\n",
              " (59, 3.788135593220339, 0.003904050433428437),\n",
              " (60, 3.808333333333333, 0.0022169155153936113),\n",
              " (61, 3.8114754098360657, 0.0017134856636438817),\n",
              " (62, 3.7983870967741935, 0.0022185468321933607),\n",
              " (63, 3.7936507936507935, 0.0021667091142656882),\n",
              " (64, 3.7890625, 0.0021155742986059037),\n",
              " (65, 3.792307692307692, 0.001638169688311084),\n",
              " (66, 3.7803030303030303, 0.002112904717074153),\n",
              " (67, 3.783582089552239, 0.0016391796508841768),\n",
              " (68, 3.7720588235294117, 0.002107877006211813),\n",
              " (69, 3.7753623188405796, 0.001638208006937132),\n",
              " (70, 3.7785714285714285, 0.0012667046775475992),\n",
              " (71, 3.76056338028169, 0.0022426047709492537),\n",
              " (72, 3.763888888888889, 0.0017525084760790894),\n",
              " (73, 3.7739726027397262, 0.0011365250751412),\n",
              " (74, 3.7905405405405403, 0.0006361085905667348),\n",
              " (75, 3.8066666666666666, 0.00035042445221225517),\n",
              " (76, 3.8157894736842106, 0.00021841519783205381),\n",
              " (77, 3.811688311688312, 0.0002133389727594162),\n",
              " (78, 3.8141025641025643, 0.0001607423772756106),\n",
              " (79, 3.8164556962025316, 0.00012053616176043722),\n",
              " (80, 3.83125, 6.355135417245393e-05),\n",
              " (81, 3.845679012345679, 3.300722928041108e-05),\n",
              " (82, 3.841463414634146, 3.2304003745802037e-05),\n",
              " (83, 3.8433734939759034, 2.374556884407959e-05),\n",
              " (84, 3.857142857142857, 1.2077073301628071e-05),\n",
              " (85, 3.847058823529412, 1.7088673225760976e-05),\n",
              " (86, 3.8313953488372094, 3.608185615666001e-05),\n",
              " (87, 3.8333333333333335, 2.681257612846113e-05),\n",
              " (88, 3.8238636363636362, 3.681562512354262e-05),\n",
              " (89, 3.808988764044944, 7.313870608516293e-05),\n",
              " (90, 3.811111111111111, 5.525606847923858e-05),\n",
              " (91, 3.8131868131868134, 4.1572170968967595e-05),\n",
              " (92, 3.8206521739130435, 2.540508532221419e-05),\n",
              " (93, 3.8225806451612905, 1.891161316381205e-05),\n",
              " (94, 3.824468085106383, 1.4019284811900051e-05),\n",
              " (95, 3.8157894736842106, 1.9300245184706242e-05),\n",
              " (96, 3.8177083333333335, 1.4337154349835086e-05),\n",
              " (97, 3.829896907216495, 7.470440358184904e-06),\n",
              " (98, 3.8418367346938775, 3.843679820388642e-06),\n",
              " (99, 3.823232323232323, 1.3101881021708747e-05),\n",
              " (100, 3.815, 1.773810320525232e-05),\n",
              " (101, 3.797029702970297, 5.156319239792069e-05),\n",
              " (102, 3.799019607843137, 3.956916550250529e-05),\n",
              " (103, 3.7815533980582523, 0.00010532490098882295),\n",
              " (104, 3.7836538461538463, 8.207340957567451e-05),\n",
              " (105, 3.7857142857142856, 6.373666797007717e-05),\n",
              " (106, 3.7877358490566038, 4.9327620681370155e-05),\n",
              " (107, 3.794392523364486, 3.158510492524062e-05),\n",
              " (108, 3.7824074074074074, 5.741195652105531e-05),\n",
              " (109, 3.7844036697247705, 4.452063805181686e-05),\n",
              " (110, 3.7954545454545454, 2.5034997999585643e-05),\n",
              " (111, 3.8018018018018016, 1.593383648900579e-05),\n",
              " (112, 3.8035714285714284, 1.2181676067708934e-05),\n",
              " (113, 3.8053097345132745, 9.282385148662153e-06),\n",
              " (114, 3.807017543859649, 7.049800097807919e-06),\n",
              " (115, 3.8086956521739133, 5.336512954125956e-06),\n",
              " (116, 3.8017241379310347, 7.132420343988585e-06),\n",
              " (117, 3.8119658119658117, 3.8777239631651985e-06),\n",
              " (118, 3.809322033898305, 3.789024541840527e-06),\n",
              " (119, 3.80672268907563, 3.701652394675697e-06),\n",
              " (120, 3.8041666666666667, 3.6156244484077226e-06),\n",
              " (121, 3.809917355371901, 2.234409015059164e-06),\n",
              " (122, 3.819672131147541, 1.1935921381583365e-06),\n",
              " (123, 3.821138211382114, 8.907771906449635e-07),\n",
              " (124, 3.814516129032258, 1.2165528009735344e-06),\n",
              " (125, 3.808, 1.6492029231809994e-06),\n",
              " (126, 3.8095238095238093, 1.2383902023580329e-06),\n",
              " (127, 3.7992125984251968, 2.4447090501870245e-06),\n",
              " (128, 3.80859375, 1.3259626346058774e-06),\n",
              " (129, 3.802325581395349, 1.7799716841358229e-06),\n",
              " (130, 3.7884615384615383, 5.106740278151876e-06),\n",
              " (131, 3.786259541984733, 4.986913728968981e-06),\n",
              " (132, 3.7954545454545454, 2.7799402746913627e-06),\n",
              " (133, 3.793233082706767, 2.715247214619515e-06),\n",
              " (134, 3.794776119402985, 2.075872794199074e-06),\n",
              " (135, 3.785185185185185, 3.869818273690176e-06),\n",
              " (136, 3.786764705882353, 2.9771501112494567e-06),\n",
              " (137, 3.7846715328467155, 2.906855295169462e-06),\n",
              " (138, 3.786231884057971, 2.229978257172786e-06),\n",
              " (139, 3.7805755395683454, 2.923020543496903e-06),\n",
              " (140, 3.7857142857142856, 1.861736987479408e-06),\n",
              " (141, 3.780141843971631, 2.441850783063681e-06),\n",
              " (142, 3.7816901408450705, 1.8743496554091788e-06),\n",
              " (143, 3.7832167832167833, 1.4348129269825041e-06),\n",
              " (144, 3.7847222222222223, 1.0953489095524478e-06),\n",
              " (145, 3.786206896551724, 8.33914593413763e-07),\n",
              " (146, 3.7945205479452055, 4.5654100105346796e-07),\n",
              " (147, 3.802721088435374, 2.4781068087348057e-07),\n",
              " (148, 3.804054054054054, 1.8647631467675183e-07),\n",
              " (149, 3.8053691275167787, 1.3994497318116365e-07),\n",
              " (150, 3.8066666666666666, 1.0474187906210276e-07),\n",
              " (151, 3.814569536423841, 5.5638738167742754e-08),\n",
              " (152, 3.8223684210526314, 2.9310557354650833e-08),\n",
              " (153, 3.823529411764706, 2.169106984430368e-08),\n",
              " (154, 3.8279220779220777, 1.296533237512879e-08),\n",
              " (155, 3.835483870967742, 6.69721358751862e-09),\n",
              " (156, 3.8365384615384617, 4.90242789582791e-09),\n",
              " (157, 3.837579617834395, 3.579198670373318e-09),\n",
              " (158, 3.8322784810126582, 5.065038279328382e-09),\n",
              " (159, 3.839622641509434, 2.593122661980238e-09),\n",
              " (160, 3.840625, 1.888254008877338e-09),\n",
              " (161, 3.829192546583851, 6.89862648428305e-09),\n",
              " (162, 3.830246913580247, 5.088654193995244e-09),\n",
              " (163, 3.831288343558282, 3.744165106538347e-09),\n",
              " (164, 3.826219512195122, 5.23409616911476e-09),\n",
              " (165, 3.8333333333333335, 2.715045381204715e-09),\n",
              " (166, 3.8343373493975905, 1.9924856311040464e-09),\n",
              " (167, 3.841317365269461, 1.021658248002295e-09),\n",
              " (168, 3.8452380952380953, 5.986014433616568e-10),\n",
              " (169, 3.8520710059171597, 3.026046512497991e-10),\n",
              " (170, 3.85, 2.9667891226340393e-10),\n",
              " (171, 3.8508771929824563, 2.1473424779915278e-10),\n",
              " (172, 3.8459302325581395, 3.087411923363227e-10),\n",
              " (173, 3.8497109826589595, 1.7917893544489147e-10),\n",
              " (174, 3.8505747126436782, 1.2939702905988413e-10),\n",
              " (175, 3.854285714285714, 7.437375301814674e-11),\n",
              " (176, 3.8607954545454546, 3.68536489501502e-11),\n",
              " (177, 3.867231638418079, 1.8128994549484078e-11),\n",
              " (178, 3.8707865168539324, 1.0226884113071301e-11),\n",
              " (179, 3.863128491620112, 2.476407211840968e-11),\n",
              " (180, 3.863888888888889, 1.7738569534234892e-11),\n",
              " (181, 3.8701657458563536, 8.709233016873075e-12),\n",
              " (182, 3.870879120879121, 6.201886620364462e-12),\n",
              " (183, 3.866120218579235, 9.186029818083115e-12),\n",
              " (184, 3.8668478260869565, 6.5513651601619266e-12),\n",
              " (185, 3.8702702702702703, 3.688482306426001e-12),\n",
              " (186, 3.8763440860215055, 1.787257905280176e-12),\n",
              " (187, 3.8823529411764706, 8.600037830948384e-13),\n",
              " (188, 3.882978723404255, 6.056150219694947e-13),\n",
              " (189, 3.8835978835978837, 4.2551292144889585e-13),\n",
              " (190, 3.886842105263158, 2.3370424038676717e-13),\n",
              " (191, 3.887434554973822, 1.6326985261947053e-13),\n",
              " (192, 3.8880208333333335, 1.1380629973295943e-13),\n",
              " (193, 3.88860103626943, 7.91493424125946e-14),\n",
              " (194, 3.8917525773195876, 4.278258438283099e-14),\n",
              " (195, 3.8923076923076922, 2.958555465053198e-14),\n",
              " (196, 3.8877551020408165, 4.623476152843946e-14),\n",
              " (197, 3.8908629441624365, 2.493280074064741e-14),\n",
              " (198, 3.893939393939394, 1.3370684043107038e-14),\n",
              " (199, 3.899497487437186, 6.160613753635314e-15),\n",
              " (200, 3.895, 9.749074156510373e-15),\n",
              " (201, 3.8955223880597014, 6.7127681104016146e-15),\n",
              " (202, 3.896039603960396, 4.6119520070165714e-15),\n",
              " (203, 3.896551724137931, 3.1616414709692205e-15),\n",
              " (204, 3.9019607843137254, 1.443848995257856e-15),\n",
              " (205, 3.897560975609756, 2.309845735394206e-15),\n",
              " (206, 3.9029126213592233, 1.0555998801123747e-15),\n",
              " (207, 3.9082125603864735, 4.793088683620973e-16),\n",
              " (208, 3.9086538461538463, 3.2609910418318076e-16),\n",
              " (209, 3.9138755980861246, 1.466694033719233e-16),\n",
              " (210, 3.914285714285714, 9.927030087378508e-17),\n",
              " (211, 3.914691943127962, 6.704625749290763e-17),\n",
              " (212, 3.9150943396226414, 4.518611521397103e-17),\n",
              " (213, 3.915492957746479, 3.038859398683116e-17),\n",
              " (214, 3.9205607476635516, 1.3418325209316871e-17)]"
            ]
          },
          "metadata": {},
          "execution_count": 70
        }
      ]
    },
    {
      "cell_type": "code",
      "source": [
        "medias = np.array([calcula_teste(i) for i in range(2, len(temp))])\n",
        "medias\n",
        "\n",
        "plt.plot(medias[:,1])"
      ],
      "metadata": {
        "colab": {
          "base_uri": "https://localhost:8080/",
          "height": 282
        },
        "id": "7SMrssNaCWyi",
        "outputId": "77bb19f0-4222-4960-8e45-db8c11ff532f"
      },
      "execution_count": 71,
      "outputs": [
        {
          "output_type": "execute_result",
          "data": {
            "text/plain": [
              "[<matplotlib.lines.Line2D at 0x7f5bf338ed60>]"
            ]
          },
          "metadata": {},
          "execution_count": 71
        },
        {
          "output_type": "display_data",
          "data": {
            "text/plain": [
              "<Figure size 432x288 with 1 Axes>"
            ],
            "image/png": "[encoded data removed]"
          },
          "metadata": {
            "needs_background": "light"
          }
        }
      ]
    },
    {
      "cell_type": "code",
      "source": [
        "valores = np.array([calcula_teste(i) for i in range(2, len(temp))])\n",
        "medias\n",
        "\n",
        "plt.plot(valores[:,0],valores[:,1])"
      ],
      "metadata": {
        "colab": {
          "base_uri": "https://localhost:8080/",
          "height": 282
        },
        "id": "CkyXccOcCkRR",
        "outputId": "d1414729-240b-4573-a441-47f4d253c22b"
      },
      "execution_count": 72,
      "outputs": [
        {
          "output_type": "execute_result",
          "data": {
            "text/plain": [
              "[<matplotlib.lines.Line2D at 0x7f5bf3306af0>]"
            ]
          },
          "metadata": {},
          "execution_count": 72
        },
        {
          "output_type": "display_data",
          "data": {
            "text/plain": [
              "<Figure size 432x288 with 1 Axes>"
            ],
            "image/png": "[encoded data removed]"
          },
          "metadata": {
            "needs_background": "light"
          }
        }
      ]
    },
    {
      "cell_type": "code",
      "source": [
        "plt.plot(valores[:,0],valores[:,1])\n",
        "plt.plot(valores[:,0],valores[:,2])"
      ],
      "metadata": {
        "colab": {
          "base_uri": "https://localhost:8080/",
          "height": 282
        },
        "id": "mL0a5cBiCtML",
        "outputId": "ee7fbe2d-2bdc-48bc-e6aa-66cfb7364f7e"
      },
      "execution_count": 73,
      "outputs": [
        {
          "output_type": "execute_result",
          "data": {
            "text/plain": [
              "[<matplotlib.lines.Line2D at 0x7f5bf32669a0>]"
            ]
          },
          "metadata": {},
          "execution_count": 73
        },
        {
          "output_type": "display_data",
          "data": {
            "text/plain": [
              "<Figure size 432x288 with 1 Axes>"
            ],
            "image/png": "[encoded data removed]"
          },
          "metadata": {
            "needs_background": "light"
          }
        }
      ]
    },
    {
      "cell_type": "code",
      "source": [
        "plt.plot(valores[:,0],valores[:,1])\n",
        "plt.plot(valores[:,0],valores[:,2])\n",
        "plt.hlines(y = 0.05, xmin = 2, xmax = len(temp), colors = 'r')"
      ],
      "metadata": {
        "colab": {
          "base_uri": "https://localhost:8080/",
          "height": 282
        },
        "id": "6iIGUFQAC64T",
        "outputId": "9311a06c-dc4f-43b8-fbbe-944c483b7e40"
      },
      "execution_count": 74,
      "outputs": [
        {
          "output_type": "execute_result",
          "data": {
            "text/plain": [
              "<matplotlib.collections.LineCollection at 0x7f5bf3241df0>"
            ]
          },
          "metadata": {},
          "execution_count": 74
        },
        {
          "output_type": "display_data",
          "data": {
            "text/plain": [
              "<Figure size 432x288 with 1 Axes>"
            ],
            "image/png": "[encoded data removed]"
          },
          "metadata": {
            "needs_background": "light"
          }
        }
      ]
    },
    {
      "cell_type": "markdown",
      "source": [
        "# Aula 05\n",
        "\n",
        "## 0.1 Comparando a média de duas amostras"
      ],
      "metadata": {
        "id": "eyKQf3aeHLhf"
      }
    },
    {
      "cell_type": "code",
      "source": [
        "zconfint(notas1.rating, notas.rating)"
      ],
      "metadata": {
        "colab": {
          "base_uri": "https://localhost:8080/"
        },
        "id": "XgfwcnusDAGx",
        "outputId": "aeba293e-15ba-44df-c0fd-4dccb7324ab5"
      },
      "execution_count": 75,
      "outputs": [
        {
          "output_type": "execute_result",
          "data": {
            "text/plain": [
              "(0.2799245129192442, 0.5588219849631111)"
            ]
          },
          "metadata": {},
          "execution_count": 75
        }
      ]
    },
    {
      "cell_type": "code",
      "source": [
        "print (ztest(notas1.rating, notas.rating))\n",
        "zconfint(notas1.rating, notas.rating)"
      ],
      "metadata": {
        "colab": {
          "base_uri": "https://localhost:8080/"
        },
        "id": "N-xR99LjHWHm",
        "outputId": "838ba883-df2b-40a9-9008-289724fbd10c"
      },
      "execution_count": 76,
      "outputs": [
        {
          "output_type": "stream",
          "name": "stdout",
          "text": [
            "(5.894327101501841, 3.762112778881965e-09)\n"
          ]
        },
        {
          "output_type": "execute_result",
          "data": {
            "text/plain": [
              "(0.2799245129192442, 0.5588219849631111)"
            ]
          },
          "metadata": {},
          "execution_count": 76
        }
      ]
    },
    {
      "cell_type": "code",
      "source": [
        "print (ztest(notas1.rating, notas.rating))\n",
        "zconfint(notas.rating, notas1.rating)"
      ],
      "metadata": {
        "colab": {
          "base_uri": "https://localhost:8080/"
        },
        "id": "lVmBjVLZHX9S",
        "outputId": "7b490178-9a53-4b39-82d2-ea26b2a452cb"
      },
      "execution_count": 77,
      "outputs": [
        {
          "output_type": "stream",
          "name": "stdout",
          "text": [
            "(5.894327101501841, 3.762112778881965e-09)\n"
          ]
        },
        {
          "output_type": "execute_result",
          "data": {
            "text/plain": [
              "(-0.5588219849631111, -0.2799245129192442)"
            ]
          },
          "metadata": {},
          "execution_count": 77
        }
      ]
    },
    {
      "cell_type": "code",
      "source": [
        "from scipy.stats import ttest_ind\n",
        "\n",
        "ttest_ind(notas.rating, notas1.rating)"
      ],
      "metadata": {
        "colab": {
          "base_uri": "https://localhost:8080/"
        },
        "id": "0DCGfgNEHyqK",
        "outputId": "eacfb065-ec22-4a33-eaa3-6e79e449f334"
      },
      "execution_count": 78,
      "outputs": [
        {
          "output_type": "execute_result",
          "data": {
            "text/plain": [
              "Ttest_indResult(statistic=-5.894327101501841, pvalue=3.774003138720876e-09)"
            ]
          },
          "metadata": {},
          "execution_count": 78
        }
      ]
    },
    {
      "cell_type": "markdown",
      "source": [
        "Se quiséssemos um intervalo de confiança com o Teste T, o scipy não seria o melhor módulo a ser utilizado. Nesse caso, teríamos que utilizar o DescrStatsW() do stats.models, criando dois objetos diferentes desse tipo."
      ],
      "metadata": {
        "id": "uxqNL0UrIwLt"
      }
    },
    {
      "cell_type": "code",
      "source": [
        "descr_todas_as_notas = DescrStatsW(notas.rating)\n",
        "descr_toystory = DescrStatsW(notas1.rating)\n",
        "descr_todas_as_notas.get_compare(descr_toystory)"
      ],
      "metadata": {
        "colab": {
          "base_uri": "https://localhost:8080/"
        },
        "id": "59uU2He3IKK7",
        "outputId": "c2082985-eb86-4d30-b64b-8c86b56be4d8"
      },
      "execution_count": 79,
      "outputs": [
        {
          "output_type": "execute_result",
          "data": {
            "text/plain": [
              "<statsmodels.stats.weightstats.CompareMeans at 0x7f5bf2fae6d0>"
            ]
          },
          "metadata": {},
          "execution_count": 79
        }
      ]
    },
    {
      "cell_type": "code",
      "source": [
        "descr_todas_as_notas = DescrStatsW(notas.rating)\n",
        "descr_toystory = DescrStatsW(notas1.rating)\n",
        "comparacao = descr_todas_as_notas.get_compare(descr_toystory)\n",
        "\n",
        "comparacao.summary()"
      ],
      "metadata": {
        "colab": {
          "base_uri": "https://localhost:8080/",
          "height": 77
        },
        "id": "QdMwG6yAIga7",
        "outputId": "4baf9c54-46ed-4734-a484-02525f5864ee"
      },
      "execution_count": 80,
      "outputs": [
        {
          "output_type": "execute_result",
          "data": {
            "text/plain": [
              "<class 'statsmodels.iolib.table.SimpleTable'>"
            ],
            "text/html": [
              "<table class=\"simpletable\">\n",
              "<caption>Test for equality of means</caption>\n",
              "<tr>\n",
              "      <td></td>         <th>coef</th>     <th>std err</th>      <th>t</th>      <th>P>|t|</th>  <th>[0.025</th>    <th>0.975]</th>  \n",
              "</tr>\n",
              "<tr>\n",
              "  <th>subset #1</th> <td>   -0.4194</td> <td>    0.071</td> <td>   -5.894</td> <td> 0.000</td> <td>   -0.559</td> <td>   -0.280</td>\n",
              "</tr>\n",
              "</table>"
            ]
          },
          "metadata": {},
          "execution_count": 80
        }
      ]
    },
    {
      "cell_type": "code",
      "source": [
        "import statsmodels as sm\n",
        "sm.__version__"
      ],
      "metadata": {
        "colab": {
          "base_uri": "https://localhost:8080/",
          "height": 36
        },
        "id": "UXppmNgiIjRS",
        "outputId": "aa0bc2f0-9494-4482-c3b7-cee1e38c07cf"
      },
      "execution_count": 81,
      "outputs": [
        {
          "output_type": "execute_result",
          "data": {
            "text/plain": [
              "'0.12.2'"
            ],
            "application/vnd.google.colaboratory.intrinsic+json": {
              "type": "string"
            }
          },
          "metadata": {},
          "execution_count": 81
        }
      ]
    },
    {
      "cell_type": "code",
      "source": [
        "descr_todas_as_notas = DescrStatsW(notas.rating)\n",
        "descr_toystory = DescrStatsW(notas1.rating)\n",
        "comparacao = descr_todas_as_notas.get_compare(descr_toystory)\n",
        "\n",
        "comparacao.summary(use_t=True)"
      ],
      "metadata": {
        "colab": {
          "base_uri": "https://localhost:8080/",
          "height": 77
        },
        "id": "IMyi3x-8Jf_7",
        "outputId": "d051e498-cfc3-429f-d237-0de6684bdc39"
      },
      "execution_count": 82,
      "outputs": [
        {
          "output_type": "execute_result",
          "data": {
            "text/plain": [
              "<class 'statsmodels.iolib.table.SimpleTable'>"
            ],
            "text/html": [
              "<table class=\"simpletable\">\n",
              "<caption>Test for equality of means</caption>\n",
              "<tr>\n",
              "      <td></td>         <th>coef</th>     <th>std err</th>      <th>t</th>      <th>P>|t|</th>  <th>[0.025</th>    <th>0.975]</th>  \n",
              "</tr>\n",
              "<tr>\n",
              "  <th>subset #1</th> <td>   -0.4194</td> <td>    0.071</td> <td>   -5.894</td> <td> 0.000</td> <td>   -0.559</td> <td>   -0.280</td>\n",
              "</tr>\n",
              "</table>"
            ]
          },
          "metadata": {},
          "execution_count": 82
        }
      ]
    },
    {
      "cell_type": "markdown",
      "source": [
        "## 0.2 Visualizando graficamente"
      ],
      "metadata": {
        "id": "cYgm8vAIMTXx"
      }
    },
    {
      "cell_type": "code",
      "source": [
        "import matplotlib.pyplot as plt\n",
        "\n",
        "plt.boxplot([notas.rating, notas1.rating], labels=[\"Todas as notas\", \"Toy Story\"])\n",
        "plt.title(\"Distribuição das notas de acordo com filmes\")"
      ],
      "metadata": {
        "colab": {
          "base_uri": "https://localhost:8080/",
          "height": 298
        },
        "id": "uoatXssZJjIE",
        "outputId": "aba15ba1-69f4-4ce9-c29a-a1f735a6939a"
      },
      "execution_count": 83,
      "outputs": [
        {
          "output_type": "execute_result",
          "data": {
            "text/plain": [
              "Text(0.5, 1.0, 'Distribuição das notas de acordo com filmes')"
            ]
          },
          "metadata": {},
          "execution_count": 83
        },
        {
          "output_type": "display_data",
          "data": {
            "text/plain": [
              "<Figure size 432x288 with 1 Axes>"
            ],
            "image/png": "[encoded data removed]"
          },
          "metadata": {
            "needs_background": "light"
          }
        }
      ]
    },
    {
      "cell_type": "markdown",
      "source": [
        "## 0.3 Cuidado ao interpretar o intervalo de confiança"
      ],
      "metadata": {
        "id": "tScAnwuINIL7"
      }
    },
    {
      "cell_type": "code",
      "source": [
        "import matplotlib.pyplot as plt\n",
        "\n",
        "plt.boxplot([notas.rating, notas1[3:12].rating], labels=[\"Todas as notas\", \"Toy Story (do 3 ao 12)\"])\n",
        "plt.title(\"Distribuição das notas de acordo com filmes\")"
      ],
      "metadata": {
        "colab": {
          "base_uri": "https://localhost:8080/",
          "height": 298
        },
        "id": "-FeNnJrlMXoK",
        "outputId": "42c2a13a-20b4-4c5b-ff93-160abf798b1b"
      },
      "execution_count": 84,
      "outputs": [
        {
          "output_type": "execute_result",
          "data": {
            "text/plain": [
              "Text(0.5, 1.0, 'Distribuição das notas de acordo com filmes')"
            ]
          },
          "metadata": {},
          "execution_count": 84
        },
        {
          "output_type": "display_data",
          "data": {
            "text/plain": [
              "<Figure size 432x288 with 1 Axes>"
            ],
            "image/png": "[encoded data removed]"
          },
          "metadata": {
            "needs_background": "light"
          }
        }
      ]
    },
    {
      "cell_type": "code",
      "source": [
        "descr_todas_as_notas = DescrStatsW(notas.rating)\n",
        "descr_toystory = DescrStatsW(notas1[3:12].rating)\n",
        "comparacao = descr_todas_as_notas.get_compare(descr_toystory)\n",
        "\n",
        "comparacao.summary(use_t=True)"
      ],
      "metadata": {
        "colab": {
          "base_uri": "https://localhost:8080/",
          "height": 77
        },
        "id": "hHaBX1nQNgWb",
        "outputId": "c3c147ee-5f49-43db-878b-70d21736da96"
      },
      "execution_count": 85,
      "outputs": [
        {
          "output_type": "execute_result",
          "data": {
            "text/plain": [
              "<class 'statsmodels.iolib.table.SimpleTable'>"
            ],
            "text/html": [
              "<table class=\"simpletable\">\n",
              "<caption>Test for equality of means</caption>\n",
              "<tr>\n",
              "      <td></td>         <th>coef</th>     <th>std err</th>      <th>t</th>      <th>P>|t|</th>  <th>[0.025</th>    <th>0.975]</th>  \n",
              "</tr>\n",
              "<tr>\n",
              "  <th>subset #1</th> <td>   -0.0540</td> <td>    0.348</td> <td>   -0.155</td> <td> 0.877</td> <td>   -0.735</td> <td>    0.627</td>\n",
              "</tr>\n",
              "</table>"
            ]
          },
          "metadata": {},
          "execution_count": 85
        }
      ]
    },
    {
      "cell_type": "markdown",
      "source": [
        "# Aula 06\n",
        "\n",
        "## 01. Comparando a média de dois filmes"
      ],
      "metadata": {
        "id": "ELR_wvjlPT0n"
      }
    },
    {
      "cell_type": "code",
      "source": [
        "filmes.query(\"movieId in [1, 593, 72226]\")"
      ],
      "metadata": {
        "colab": {
          "base_uri": "https://localhost:8080/",
          "height": 144
        },
        "id": "RdnV2Rl4P_98",
        "outputId": "aca23ecd-c4eb-4899-f7a1-585737a330a7"
      },
      "execution_count": 92,
      "outputs": [
        {
          "output_type": "execute_result",
          "data": {
            "text/plain": [
              "      movieId                             title  \\\n",
              "0           1                  Toy Story (1995)   \n",
              "510       593  Silence of the Lambs, The (1991)   \n",
              "7180    72226          Fantastic Mr. Fox (2009)   \n",
              "\n",
              "                                           genres  \n",
              "0     Adventure|Animation|Children|Comedy|Fantasy  \n",
              "510                         Crime|Horror|Thriller  \n",
              "7180    Adventure|Animation|Children|Comedy|Crime  "
            ],
            "text/html": [
              "\n",
              "  <div id=\"df-d0e6341a-9474-4e03-9846-da6dc7b54283\">\n",
              "    <div class=\"colab-df-container\">\n",
              "      <div>\n",
              "<style scoped>\n",
              "    .dataframe tbody tr th:only-of-type {\n",
              "        vertical-align: middle;\n",
              "    }\n",
              "\n",
              "    .dataframe tbody tr th {\n",
              "        vertical-align: top;\n",
              "    }\n",
              "\n",
              "    .dataframe thead th {\n",
              "        text-align: right;\n",
              "    }\n",
              "</style>\n",
              "<table border=\"1\" class=\"dataframe\">\n",
              "  <thead>\n",
              "    <tr style=\"text-align: right;\">\n",
              "      <th></th>\n",
              "      <th>movieId</th>\n",
              "      <th>title</th>\n",
              "      <th>genres</th>\n",
              "    </tr>\n",
              "  </thead>\n",
              "  <tbody>\n",
              "    <tr>\n",
              "      <th>0</th>\n",
              "      <td>1</td>\n",
              "      <td>Toy Story (1995)</td>\n",
              "      <td>Adventure|Animation|Children|Comedy|Fantasy</td>\n",
              "    </tr>\n",
              "    <tr>\n",
              "      <th>510</th>\n",
              "      <td>593</td>\n",
              "      <td>Silence of the Lambs, The (1991)</td>\n",
              "      <td>Crime|Horror|Thriller</td>\n",
              "    </tr>\n",
              "    <tr>\n",
              "      <th>7180</th>\n",
              "      <td>72226</td>\n",
              "      <td>Fantastic Mr. Fox (2009)</td>\n",
              "      <td>Adventure|Animation|Children|Comedy|Crime</td>\n",
              "    </tr>\n",
              "  </tbody>\n",
              "</table>\n",
              "</div>\n",
              "      <button class=\"colab-df-convert\" onclick=\"convertToInteractive('df-d0e6341a-9474-4e03-9846-da6dc7b54283')\"\n",
              "              title=\"Convert this dataframe to an interactive table.\"\n",
              "              style=\"display:none;\">\n",
              "        \n",
              "  <svg xmlns=\"http://www.w3.org/2000/svg\" height=\"24px\"viewBox=\"0 0 24 24\"\n",
              "       width=\"24px\">\n",
              "    <path d=\"M0 0h24v24H0V0z\" fill=\"none\"/>\n",
              "    <path d=\"M18.56 5.44l.94 2.06.94-2.06 2.06-.94-2.06-.94-.94-2.06-.94 2.06-2.06.94zm-11 1L8.5 8.5l.94-2.06 2.06-.94-2.06-.94L8.5 2.5l-.94 2.06-2.06.94zm10 10l.94 2.06.94-2.06 2.06-.94-2.06-.94-.94-2.06-.94 2.06-2.06.94z\"/><path d=\"M17.41 7.96l-1.37-1.37c-.4-.4-.92-.59-1.43-.59-.52 0-1.04.2-1.43.59L10.3 9.45l-7.72 7.72c-.78.78-.78 2.05 0 2.83L4 21.41c.39.39.9.59 1.41.59.51 0 1.02-.2 1.41-.59l7.78-7.78 2.81-2.81c.8-.78.8-2.07 0-2.86zM5.41 20L4 18.59l7.72-7.72 1.47 1.35L5.41 20z\"/>\n",
              "  </svg>\n",
              "      </button>\n",
              "      \n",
              "  <style>\n",
              "    .colab-df-container {\n",
              "      display:flex;\n",
              "      flex-wrap:wrap;\n",
              "      gap: 12px;\n",
              "    }\n",
              "\n",
              "    .colab-df-convert {\n",
              "      background-color: #E8F0FE;\n",
              "      border: none;\n",
              "      border-radius: 50%;\n",
              "      cursor: pointer;\n",
              "      display: none;\n",
              "      fill: #1967D2;\n",
              "      height: 32px;\n",
              "      padding: 0 0 0 0;\n",
              "      width: 32px;\n",
              "    }\n",
              "\n",
              "    .colab-df-convert:hover {\n",
              "      background-color: #E2EBFA;\n",
              "      box-shadow: 0px 1px 2px rgba(60, 64, 67, 0.3), 0px 1px 3px 1px rgba(60, 64, 67, 0.15);\n",
              "      fill: #174EA6;\n",
              "    }\n",
              "\n",
              "    [theme=dark] .colab-df-convert {\n",
              "      background-color: #3B4455;\n",
              "      fill: #D2E3FC;\n",
              "    }\n",
              "\n",
              "    [theme=dark] .colab-df-convert:hover {\n",
              "      background-color: #434B5C;\n",
              "      box-shadow: 0px 1px 3px 1px rgba(0, 0, 0, 0.15);\n",
              "      filter: drop-shadow(0px 1px 2px rgba(0, 0, 0, 0.3));\n",
              "      fill: #FFFFFF;\n",
              "    }\n",
              "  </style>\n",
              "\n",
              "      <script>\n",
              "        const buttonEl =\n",
              "          document.querySelector('#df-d0e6341a-9474-4e03-9846-da6dc7b54283 button.colab-df-convert');\n",
              "        buttonEl.style.display =\n",
              "          google.colab.kernel.accessAllowed ? 'block' : 'none';\n",
              "\n",
              "        async function convertToInteractive(key) {\n",
              "          const element = document.querySelector('#df-d0e6341a-9474-4e03-9846-da6dc7b54283');\n",
              "          const dataTable =\n",
              "            await google.colab.kernel.invokeFunction('convertToInteractive',\n",
              "                                                     [key], {});\n",
              "          if (!dataTable) return;\n",
              "\n",
              "          const docLinkHtml = 'Like what you see? Visit the ' +\n",
              "            '<a target=\"_blank\" href=https://colab.research.google.com/notebooks/data_table.ipynb>data table notebook</a>'\n",
              "            + ' to learn more about interactive tables.';\n",
              "          element.innerHTML = '';\n",
              "          dataTable['output_type'] = 'display_data';\n",
              "          await google.colab.output.renderOutput(dataTable, element);\n",
              "          const docLink = document.createElement('div');\n",
              "          docLink.innerHTML = docLinkHtml;\n",
              "          element.appendChild(docLink);\n",
              "        }\n",
              "      </script>\n",
              "    </div>\n",
              "  </div>\n",
              "  "
            ]
          },
          "metadata": {},
          "execution_count": 92
        }
      ]
    },
    {
      "cell_type": "code",
      "source": [
        "notas1 =  notas.query(\"movieId == 1\")\n",
        "notas593 =  notas.query(\"movieId == 593\")\n",
        "notas72226 =  notas.query(\"movieId == 72226\")\n",
        "\n",
        "plt.boxplot([notas1.rating, notas593.rating, notas72226.rating], labels=[\"Toy Story\", \"Silence of the Lambs,\", \"Fantastic Mr. Fox\"])\n",
        "plt.title(\"Distribuição das notas de acordo com os filmes\")"
      ],
      "metadata": {
        "colab": {
          "base_uri": "https://localhost:8080/",
          "height": 298
        },
        "id": "0W5Ia7VtNiAL",
        "outputId": "b4e41db6-6e91-4629-c12d-1bdd574bf0d7"
      },
      "execution_count": 93,
      "outputs": [
        {
          "output_type": "execute_result",
          "data": {
            "text/plain": [
              "Text(0.5, 1.0, 'Distribuição das notas de acordo com os filmes')"
            ]
          },
          "metadata": {},
          "execution_count": 93
        },
        {
          "output_type": "display_data",
          "data": {
            "text/plain": [
              "<Figure size 432x288 with 1 Axes>"
            ],
            "image/png": "[encoded data removed]"
          },
          "metadata": {
            "needs_background": "light"
          }
        }
      ]
    },
    {
      "cell_type": "code",
      "source": [
        "notas72226.describe()"
      ],
      "metadata": {
        "colab": {
          "base_uri": "https://localhost:8080/",
          "height": 300
        },
        "id": "D-ZanK4AP6hb",
        "outputId": "b8f83fc8-a75e-4316-e7f0-6784d38f1606"
      },
      "execution_count": 91,
      "outputs": [
        {
          "output_type": "execute_result",
          "data": {
            "text/plain": [
              "           userId  movieId     rating     timestamp\n",
              "count   18.000000     18.0  18.000000  1.800000e+01\n",
              "mean   329.722222  72226.0   4.083333  1.395218e+09\n",
              "std    174.748157      0.0   0.895249  9.459862e+07\n",
              "min     73.000000  72226.0   1.500000  1.262899e+09\n",
              "25%    167.000000  72226.0   4.000000  1.279706e+09\n",
              "50%    326.000000  72226.0   4.250000  1.441777e+09\n",
              "75%    466.250000  72226.0   4.500000  1.471770e+09\n",
              "max    610.000000  72226.0   5.000000  1.498522e+09"
            ],
            "text/html": [
              "\n",
              "  <div id=\"df-2beef34d-f26a-4fc3-9ba2-0adf9d5b10cc\">\n",
              "    <div class=\"colab-df-container\">\n",
              "      <div>\n",
              "<style scoped>\n",
              "    .dataframe tbody tr th:only-of-type {\n",
              "        vertical-align: middle;\n",
              "    }\n",
              "\n",
              "    .dataframe tbody tr th {\n",
              "        vertical-align: top;\n",
              "    }\n",
              "\n",
              "    .dataframe thead th {\n",
              "        text-align: right;\n",
              "    }\n",
              "</style>\n",
              "<table border=\"1\" class=\"dataframe\">\n",
              "  <thead>\n",
              "    <tr style=\"text-align: right;\">\n",
              "      <th></th>\n",
              "      <th>userId</th>\n",
              "      <th>movieId</th>\n",
              "      <th>rating</th>\n",
              "      <th>timestamp</th>\n",
              "    </tr>\n",
              "  </thead>\n",
              "  <tbody>\n",
              "    <tr>\n",
              "      <th>count</th>\n",
              "      <td>18.000000</td>\n",
              "      <td>18.0</td>\n",
              "      <td>18.000000</td>\n",
              "      <td>1.800000e+01</td>\n",
              "    </tr>\n",
              "    <tr>\n",
              "      <th>mean</th>\n",
              "      <td>329.722222</td>\n",
              "      <td>72226.0</td>\n",
              "      <td>4.083333</td>\n",
              "      <td>1.395218e+09</td>\n",
              "    </tr>\n",
              "    <tr>\n",
              "      <th>std</th>\n",
              "      <td>174.748157</td>\n",
              "      <td>0.0</td>\n",
              "      <td>0.895249</td>\n",
              "      <td>9.459862e+07</td>\n",
              "    </tr>\n",
              "    <tr>\n",
              "      <th>min</th>\n",
              "      <td>73.000000</td>\n",
              "      <td>72226.0</td>\n",
              "      <td>1.500000</td>\n",
              "      <td>1.262899e+09</td>\n",
              "    </tr>\n",
              "    <tr>\n",
              "      <th>25%</th>\n",
              "      <td>167.000000</td>\n",
              "      <td>72226.0</td>\n",
              "      <td>4.000000</td>\n",
              "      <td>1.279706e+09</td>\n",
              "    </tr>\n",
              "    <tr>\n",
              "      <th>50%</th>\n",
              "      <td>326.000000</td>\n",
              "      <td>72226.0</td>\n",
              "      <td>4.250000</td>\n",
              "      <td>1.441777e+09</td>\n",
              "    </tr>\n",
              "    <tr>\n",
              "      <th>75%</th>\n",
              "      <td>466.250000</td>\n",
              "      <td>72226.0</td>\n",
              "      <td>4.500000</td>\n",
              "      <td>1.471770e+09</td>\n",
              "    </tr>\n",
              "    <tr>\n",
              "      <th>max</th>\n",
              "      <td>610.000000</td>\n",
              "      <td>72226.0</td>\n",
              "      <td>5.000000</td>\n",
              "      <td>1.498522e+09</td>\n",
              "    </tr>\n",
              "  </tbody>\n",
              "</table>\n",
              "</div>\n",
              "      <button class=\"colab-df-convert\" onclick=\"convertToInteractive('df-2beef34d-f26a-4fc3-9ba2-0adf9d5b10cc')\"\n",
              "              title=\"Convert this dataframe to an interactive table.\"\n",
              "              style=\"display:none;\">\n",
              "        \n",
              "  <svg xmlns=\"http://www.w3.org/2000/svg\" height=\"24px\"viewBox=\"0 0 24 24\"\n",
              "       width=\"24px\">\n",
              "    <path d=\"M0 0h24v24H0V0z\" fill=\"none\"/>\n",
              "    <path d=\"M18.56 5.44l.94 2.06.94-2.06 2.06-.94-2.06-.94-.94-2.06-.94 2.06-2.06.94zm-11 1L8.5 8.5l.94-2.06 2.06-.94-2.06-.94L8.5 2.5l-.94 2.06-2.06.94zm10 10l.94 2.06.94-2.06 2.06-.94-2.06-.94-.94-2.06-.94 2.06-2.06.94z\"/><path d=\"M17.41 7.96l-1.37-1.37c-.4-.4-.92-.59-1.43-.59-.52 0-1.04.2-1.43.59L10.3 9.45l-7.72 7.72c-.78.78-.78 2.05 0 2.83L4 21.41c.39.39.9.59 1.41.59.51 0 1.02-.2 1.41-.59l7.78-7.78 2.81-2.81c.8-.78.8-2.07 0-2.86zM5.41 20L4 18.59l7.72-7.72 1.47 1.35L5.41 20z\"/>\n",
              "  </svg>\n",
              "      </button>\n",
              "      \n",
              "  <style>\n",
              "    .colab-df-container {\n",
              "      display:flex;\n",
              "      flex-wrap:wrap;\n",
              "      gap: 12px;\n",
              "    }\n",
              "\n",
              "    .colab-df-convert {\n",
              "      background-color: #E8F0FE;\n",
              "      border: none;\n",
              "      border-radius: 50%;\n",
              "      cursor: pointer;\n",
              "      display: none;\n",
              "      fill: #1967D2;\n",
              "      height: 32px;\n",
              "      padding: 0 0 0 0;\n",
              "      width: 32px;\n",
              "    }\n",
              "\n",
              "    .colab-df-convert:hover {\n",
              "      background-color: #E2EBFA;\n",
              "      box-shadow: 0px 1px 2px rgba(60, 64, 67, 0.3), 0px 1px 3px 1px rgba(60, 64, 67, 0.15);\n",
              "      fill: #174EA6;\n",
              "    }\n",
              "\n",
              "    [theme=dark] .colab-df-convert {\n",
              "      background-color: #3B4455;\n",
              "      fill: #D2E3FC;\n",
              "    }\n",
              "\n",
              "    [theme=dark] .colab-df-convert:hover {\n",
              "      background-color: #434B5C;\n",
              "      box-shadow: 0px 1px 3px 1px rgba(0, 0, 0, 0.15);\n",
              "      filter: drop-shadow(0px 1px 2px rgba(0, 0, 0, 0.3));\n",
              "      fill: #FFFFFF;\n",
              "    }\n",
              "  </style>\n",
              "\n",
              "      <script>\n",
              "        const buttonEl =\n",
              "          document.querySelector('#df-2beef34d-f26a-4fc3-9ba2-0adf9d5b10cc button.colab-df-convert');\n",
              "        buttonEl.style.display =\n",
              "          google.colab.kernel.accessAllowed ? 'block' : 'none';\n",
              "\n",
              "        async function convertToInteractive(key) {\n",
              "          const element = document.querySelector('#df-2beef34d-f26a-4fc3-9ba2-0adf9d5b10cc');\n",
              "          const dataTable =\n",
              "            await google.colab.kernel.invokeFunction('convertToInteractive',\n",
              "                                                     [key], {});\n",
              "          if (!dataTable) return;\n",
              "\n",
              "          const docLinkHtml = 'Like what you see? Visit the ' +\n",
              "            '<a target=\"_blank\" href=https://colab.research.google.com/notebooks/data_table.ipynb>data table notebook</a>'\n",
              "            + ' to learn more about interactive tables.';\n",
              "          element.innerHTML = '';\n",
              "          dataTable['output_type'] = 'display_data';\n",
              "          await google.colab.output.renderOutput(dataTable, element);\n",
              "          const docLink = document.createElement('div');\n",
              "          docLink.innerHTML = docLinkHtml;\n",
              "          element.appendChild(docLink);\n",
              "        }\n",
              "      </script>\n",
              "    </div>\n",
              "  </div>\n",
              "  "
            ]
          },
          "metadata": {},
          "execution_count": 91
        }
      ]
    },
    {
      "cell_type": "code",
      "source": [
        "sns.boxplot(x = \"movieId\", y = \"rating\", data = notas.query(\"movieId in (1, 593, 72226)\"))"
      ],
      "metadata": {
        "colab": {
          "base_uri": "https://localhost:8080/",
          "height": 296
        },
        "id": "EHkUYP4VPbGz",
        "outputId": "02adb8e8-a5ef-4150-f0b1-962f386fa576"
      },
      "execution_count": 87,
      "outputs": [
        {
          "output_type": "execute_result",
          "data": {
            "text/plain": [
              "<AxesSubplot:xlabel='movieId', ylabel='rating'>"
            ]
          },
          "metadata": {},
          "execution_count": 87
        },
        {
          "output_type": "display_data",
          "data": {
            "text/plain": [
              "<Figure size 432x288 with 1 Axes>"
            ],
            "image/png": "[encoded data removed]"
          },
          "metadata": {
            "needs_background": "light"
          }
        }
      ]
    },
    {
      "cell_type": "code",
      "source": [
        "descr_1 = DescrStatsW(notas1.rating)\n",
        "descr_593 = DescrStatsW(notas593.rating)\n",
        "comparacao = descr_1.get_compare(descr_593)\n",
        "\n",
        "comparacao.summary()"
      ],
      "metadata": {
        "colab": {
          "base_uri": "https://localhost:8080/",
          "height": 77
        },
        "id": "cs8gYaNRPdXN",
        "outputId": "51088d63-2e30-4015-fee2-5935fdb2dd4d"
      },
      "execution_count": 88,
      "outputs": [
        {
          "output_type": "execute_result",
          "data": {
            "text/plain": [
              "<class 'statsmodels.iolib.table.SimpleTable'>"
            ],
            "text/html": [
              "<table class=\"simpletable\">\n",
              "<caption>Test for equality of means</caption>\n",
              "<tr>\n",
              "      <td></td>         <th>coef</th>     <th>std err</th>      <th>t</th>      <th>P>|t|</th>  <th>[0.025</th>    <th>0.975]</th>  \n",
              "</tr>\n",
              "<tr>\n",
              "  <th>subset #1</th> <td>   -0.2404</td> <td>    0.077</td> <td>   -3.132</td> <td> 0.002</td> <td>   -0.391</td> <td>   -0.090</td>\n",
              "</tr>\n",
              "</table>"
            ]
          },
          "metadata": {},
          "execution_count": 88
        }
      ]
    },
    {
      "cell_type": "markdown",
      "source": [
        "Reportando informação do teste executado: aplicando um teste com o Ztest foi encontrado um P value de 0.002, intervalo de confiança entre -0.391 e -0.090, utilizando 95% (ou 5%)."
      ],
      "metadata": {
        "id": "tZFvqR42RnCo"
      }
    },
    {
      "cell_type": "code",
      "source": [
        "descr_72226 = DescrStatsW(notas72226.rating)\n",
        "descr_593 = DescrStatsW(notas593.rating)\n",
        "comparacao = descr_72226.get_compare(descr_593)\n",
        "\n",
        "comparacao.summary()"
      ],
      "metadata": {
        "colab": {
          "base_uri": "https://localhost:8080/",
          "height": 77
        },
        "id": "Kp7D9qbuPgP9",
        "outputId": "a3837f67-26a8-46a4-912c-04883de09e11"
      },
      "execution_count": 89,
      "outputs": [
        {
          "output_type": "execute_result",
          "data": {
            "text/plain": [
              "<class 'statsmodels.iolib.table.SimpleTable'>"
            ],
            "text/html": [
              "<table class=\"simpletable\">\n",
              "<caption>Test for equality of means</caption>\n",
              "<tr>\n",
              "      <td></td>         <th>coef</th>     <th>std err</th>      <th>t</th>      <th>P>|t|</th>  <th>[0.025</th>    <th>0.975]</th>  \n",
              "</tr>\n",
              "<tr>\n",
              "  <th>subset #1</th> <td>   -0.0780</td> <td>    0.208</td> <td>   -0.374</td> <td> 0.708</td> <td>   -0.488</td> <td>    0.332</td>\n",
              "</tr>\n",
              "</table>"
            ]
          },
          "metadata": {},
          "execution_count": 89
        }
      ]
    },
    {
      "cell_type": "markdown",
      "source": [
        "Reportando informação do teste executado:\n",
        "o P value não é significante pois ele naõ é menor do que 0.05 (deifnido anteriormente), e o intervalor de confiança inclui tanto a chance d eo filme ser pior como melhor, o que neste momento não serve para nada."
      ],
      "metadata": {
        "id": "wP4sj7KMSgoQ"
      }
    },
    {
      "cell_type": "code",
      "source": [
        "comparacao = descr_1.get_compare(descr_72226)\n",
        "\n",
        "comparacao.summary()"
      ],
      "metadata": {
        "colab": {
          "base_uri": "https://localhost:8080/",
          "height": 77
        },
        "id": "dvEMwOukPqA6",
        "outputId": "3b78b94f-6d74-4654-d83f-9253a0ab8888"
      },
      "execution_count": 90,
      "outputs": [
        {
          "output_type": "execute_result",
          "data": {
            "text/plain": [
              "<class 'statsmodels.iolib.table.SimpleTable'>"
            ],
            "text/html": [
              "<table class=\"simpletable\">\n",
              "<caption>Test for equality of means</caption>\n",
              "<tr>\n",
              "      <td></td>         <th>coef</th>     <th>std err</th>      <th>t</th>      <th>P>|t|</th>  <th>[0.025</th>    <th>0.975]</th>  \n",
              "</tr>\n",
              "<tr>\n",
              "  <th>subset #1</th> <td>   -0.1624</td> <td>    0.206</td> <td>   -0.788</td> <td> 0.431</td> <td>   -0.568</td> <td>    0.243</td>\n",
              "</tr>\n",
              "</table>"
            ]
          },
          "metadata": {},
          "execution_count": 90
        }
      ]
    },
    {
      "cell_type": "markdown",
      "source": [
        "Reportando informação do teste executado:\n",
        "o P value não é significante pois ele naõ é menor do que 0.05 (deifnido anteriormente), e o intervalor de confiança inclui tanto a chance d eo filme ser pior como melhor, o que neste momento não serve para nada."
      ],
      "metadata": {
        "id": "LLrjn8BVTF2y"
      }
    },
    {
      "cell_type": "markdown",
      "source": [
        "CONCLUSÃO: a única diferença identificada que importa foi entre os filmes 1 e 593, onde o filme 593 para ser um pouco melhor que o filme 1."
      ],
      "metadata": {
        "id": "lLAdOtMCTH9r"
      }
    },
    {
      "cell_type": "markdown",
      "source": [
        "Número de amostras:"
      ],
      "metadata": {
        "id": "jjLSKxR0Tnnt"
      }
    },
    {
      "cell_type": "code",
      "source": [
        "notas.query(\"movieId in (1, 593, 72226)\").groupby(\"movieId\").count()"
      ],
      "metadata": {
        "colab": {
          "base_uri": "https://localhost:8080/",
          "height": 175
        },
        "id": "J-GbJfRPPxdi",
        "outputId": "c9f377ab-39b7-43dd-920b-a0b3348698e7"
      },
      "execution_count": 94,
      "outputs": [
        {
          "output_type": "execute_result",
          "data": {
            "text/plain": [
              "         userId  rating  timestamp\n",
              "movieId                           \n",
              "1           215     215        215\n",
              "593         279     279        279\n",
              "72226        18      18         18"
            ],
            "text/html": [
              "\n",
              "  <div id=\"df-2d760412-8b08-453b-b96d-66fdad357265\">\n",
              "    <div class=\"colab-df-container\">\n",
              "      <div>\n",
              "<style scoped>\n",
              "    .dataframe tbody tr th:only-of-type {\n",
              "        vertical-align: middle;\n",
              "    }\n",
              "\n",
              "    .dataframe tbody tr th {\n",
              "        vertical-align: top;\n",
              "    }\n",
              "\n",
              "    .dataframe thead th {\n",
              "        text-align: right;\n",
              "    }\n",
              "</style>\n",
              "<table border=\"1\" class=\"dataframe\">\n",
              "  <thead>\n",
              "    <tr style=\"text-align: right;\">\n",
              "      <th></th>\n",
              "      <th>userId</th>\n",
              "      <th>rating</th>\n",
              "      <th>timestamp</th>\n",
              "    </tr>\n",
              "    <tr>\n",
              "      <th>movieId</th>\n",
              "      <th></th>\n",
              "      <th></th>\n",
              "      <th></th>\n",
              "    </tr>\n",
              "  </thead>\n",
              "  <tbody>\n",
              "    <tr>\n",
              "      <th>1</th>\n",
              "      <td>215</td>\n",
              "      <td>215</td>\n",
              "      <td>215</td>\n",
              "    </tr>\n",
              "    <tr>\n",
              "      <th>593</th>\n",
              "      <td>279</td>\n",
              "      <td>279</td>\n",
              "      <td>279</td>\n",
              "    </tr>\n",
              "    <tr>\n",
              "      <th>72226</th>\n",
              "      <td>18</td>\n",
              "      <td>18</td>\n",
              "      <td>18</td>\n",
              "    </tr>\n",
              "  </tbody>\n",
              "</table>\n",
              "</div>\n",
              "      <button class=\"colab-df-convert\" onclick=\"convertToInteractive('df-2d760412-8b08-453b-b96d-66fdad357265')\"\n",
              "              title=\"Convert this dataframe to an interactive table.\"\n",
              "              style=\"display:none;\">\n",
              "        \n",
              "  <svg xmlns=\"http://www.w3.org/2000/svg\" height=\"24px\"viewBox=\"0 0 24 24\"\n",
              "       width=\"24px\">\n",
              "    <path d=\"M0 0h24v24H0V0z\" fill=\"none\"/>\n",
              "    <path d=\"M18.56 5.44l.94 2.06.94-2.06 2.06-.94-2.06-.94-.94-2.06-.94 2.06-2.06.94zm-11 1L8.5 8.5l.94-2.06 2.06-.94-2.06-.94L8.5 2.5l-.94 2.06-2.06.94zm10 10l.94 2.06.94-2.06 2.06-.94-2.06-.94-.94-2.06-.94 2.06-2.06.94z\"/><path d=\"M17.41 7.96l-1.37-1.37c-.4-.4-.92-.59-1.43-.59-.52 0-1.04.2-1.43.59L10.3 9.45l-7.72 7.72c-.78.78-.78 2.05 0 2.83L4 21.41c.39.39.9.59 1.41.59.51 0 1.02-.2 1.41-.59l7.78-7.78 2.81-2.81c.8-.78.8-2.07 0-2.86zM5.41 20L4 18.59l7.72-7.72 1.47 1.35L5.41 20z\"/>\n",
              "  </svg>\n",
              "      </button>\n",
              "      \n",
              "  <style>\n",
              "    .colab-df-container {\n",
              "      display:flex;\n",
              "      flex-wrap:wrap;\n",
              "      gap: 12px;\n",
              "    }\n",
              "\n",
              "    .colab-df-convert {\n",
              "      background-color: #E8F0FE;\n",
              "      border: none;\n",
              "      border-radius: 50%;\n",
              "      cursor: pointer;\n",
              "      display: none;\n",
              "      fill: #1967D2;\n",
              "      height: 32px;\n",
              "      padding: 0 0 0 0;\n",
              "      width: 32px;\n",
              "    }\n",
              "\n",
              "    .colab-df-convert:hover {\n",
              "      background-color: #E2EBFA;\n",
              "      box-shadow: 0px 1px 2px rgba(60, 64, 67, 0.3), 0px 1px 3px 1px rgba(60, 64, 67, 0.15);\n",
              "      fill: #174EA6;\n",
              "    }\n",
              "\n",
              "    [theme=dark] .colab-df-convert {\n",
              "      background-color: #3B4455;\n",
              "      fill: #D2E3FC;\n",
              "    }\n",
              "\n",
              "    [theme=dark] .colab-df-convert:hover {\n",
              "      background-color: #434B5C;\n",
              "      box-shadow: 0px 1px 3px 1px rgba(0, 0, 0, 0.15);\n",
              "      filter: drop-shadow(0px 1px 2px rgba(0, 0, 0, 0.3));\n",
              "      fill: #FFFFFF;\n",
              "    }\n",
              "  </style>\n",
              "\n",
              "      <script>\n",
              "        const buttonEl =\n",
              "          document.querySelector('#df-2d760412-8b08-453b-b96d-66fdad357265 button.colab-df-convert');\n",
              "        buttonEl.style.display =\n",
              "          google.colab.kernel.accessAllowed ? 'block' : 'none';\n",
              "\n",
              "        async function convertToInteractive(key) {\n",
              "          const element = document.querySelector('#df-2d760412-8b08-453b-b96d-66fdad357265');\n",
              "          const dataTable =\n",
              "            await google.colab.kernel.invokeFunction('convertToInteractive',\n",
              "                                                     [key], {});\n",
              "          if (!dataTable) return;\n",
              "\n",
              "          const docLinkHtml = 'Like what you see? Visit the ' +\n",
              "            '<a target=\"_blank\" href=https://colab.research.google.com/notebooks/data_table.ipynb>data table notebook</a>'\n",
              "            + ' to learn more about interactive tables.';\n",
              "          element.innerHTML = '';\n",
              "          dataTable['output_type'] = 'display_data';\n",
              "          await google.colab.output.renderOutput(dataTable, element);\n",
              "          const docLink = document.createElement('div');\n",
              "          docLink.innerHTML = docLinkHtml;\n",
              "          element.appendChild(docLink);\n",
              "        }\n",
              "      </script>\n",
              "    </div>\n",
              "  </div>\n",
              "  "
            ]
          },
          "metadata": {},
          "execution_count": 94
        }
      ]
    },
    {
      "cell_type": "markdown",
      "source": [
        "Repare que os filmes Toy Story e Silence of the Lambs possuem uma quantidade substancial de notas, enquanto Fantastic Mr. Fox possui apenas 18 notas. Por isso, é mais interessante utilizarmos o Teste T quando formos trabalhar com os dados desse filme."
      ],
      "metadata": {
        "id": "E7t8j28MTsXi"
      }
    },
    {
      "cell_type": "markdown",
      "source": [
        "## 0.3 Comparação não paramétrica com Wilcoxon Ranksums"
      ],
      "metadata": {
        "id": "DL4BH-mnUath"
      }
    },
    {
      "cell_type": "code",
      "source": [
        "from scipy.stats import normaltest\n",
        "\n",
        "stat, p = normaltest(notas1.rating)\n",
        "p"
      ],
      "metadata": {
        "colab": {
          "base_uri": "https://localhost:8080/"
        },
        "id": "Eyg-sOxVTml2",
        "outputId": "d3ba290d-f9e0-4320-e2a1-267e6de752f2"
      },
      "execution_count": 95,
      "outputs": [
        {
          "output_type": "execute_result",
          "data": {
            "text/plain": [
              "0.00011053430732728716"
            ]
          },
          "metadata": {},
          "execution_count": 95
        }
      ]
    },
    {
      "cell_type": "markdown",
      "source": [
        "Como essa função testa a hipótese nula de que o conjunto de dados venha de uma distribuição normal, um resultado menor que 0.05 indica que não estamos trabalhando com uma distribuição normal.\n",
        "Isso também significa que não poderíamos aplicar o Teste T ou o Teste Z, mas sim testes que funcionam com outros tipos de distribuição. \n"
      ],
      "metadata": {
        "id": "JOLhJiSfVm8b"
      }
    },
    {
      "cell_type": "code",
      "source": [
        "from scipy.stats import ranksums\n",
        "\n",
        "_, p = ranksums(notas1.rating, notas593.rating)\n",
        "p"
      ],
      "metadata": {
        "colab": {
          "base_uri": "https://localhost:8080/"
        },
        "id": "xeVvxnncVUUD",
        "outputId": "5b118717-6eb6-4a51-fb9b-73e31227a4e5"
      },
      "execution_count": 98,
      "outputs": [
        {
          "output_type": "execute_result",
          "data": {
            "text/plain": [
              "0.0003267718756440693"
            ]
          },
          "metadata": {},
          "execution_count": 98
        }
      ]
    },
    {
      "cell_type": "code",
      "source": [],
      "metadata": {
        "id": "FHJ5St_1V-uD"
      },
      "execution_count": null,
      "outputs": []
    }
  ]
}